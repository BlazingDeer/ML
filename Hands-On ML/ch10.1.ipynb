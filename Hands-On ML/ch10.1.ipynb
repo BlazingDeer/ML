{
 "cells": [
  {
   "cell_type": "code",
   "execution_count": 1,
   "id": "c3fe644c",
   "metadata": {},
   "outputs": [
    {
     "name": "stdout",
     "output_type": "stream",
     "text": [
      "2.3.1\n",
      "2.4.0\n"
     ]
    }
   ],
   "source": [
    "import numpy as np\n",
    "import pandas as pd\n",
    "from matplotlib import pyplot as plt\n",
    "from sklearn.datasets import load_iris\n",
    "from sklearn.linear_model import Perceptron\n",
    "import tensorflow as tf\n",
    "from tensorflow import keras\n",
    "from sklearn.datasets import fetch_california_housing\n",
    "from sklearn.model_selection import train_test_split\n",
    "from sklearn.preprocessing import StandardScaler\n",
    "import os\n",
    "import time\n",
    "from sklearn.utils.fixes import loguniform\n",
    "from sklearn.model_selection import RandomizedSearchCV, GridSearchCV\n",
    "\n",
    "print(tf.__version__)\n",
    "print(keras.__version__)"
   ]
  },
  {
   "cell_type": "code",
   "execution_count": 2,
   "id": "b49454e5",
   "metadata": {
    "collapsed": true
   },
   "outputs": [
    {
     "name": "stdout",
     "output_type": "stream",
     "text": [
      "[0]\n"
     ]
    },
    {
     "name": "stderr",
     "output_type": "stream",
     "text": [
      "C:\\Users\\Daniel\\anaconda3\\envs\\py37ml\\lib\\site-packages\\ipykernel_launcher.py:3: DeprecationWarning: `np.int` is a deprecated alias for the builtin `int`. To silence this warning, use `int` by itself. Doing this will not modify any behavior and is safe. When replacing `np.int`, you may wish to use e.g. `np.int64` or `np.int32` to specify the precision. If you wish to review your current use, check the release note link for additional information.\n",
      "Deprecated in NumPy 1.20; for more details and guidance: https://numpy.org/devdocs/release/1.20.0-notes.html#deprecations\n",
      "  This is separate from the ipykernel package so we can avoid doing imports until\n"
     ]
    }
   ],
   "source": [
    "iris=load_iris()\n",
    "X=iris.data[:,(2,3)] #petal length, petal width\n",
    "y=(iris.target==0).astype(np.int)\n",
    "\n",
    "per_clf=Perceptron()\n",
    "per_clf.fit(X,y)\n",
    "\n",
    "y_pred=per_clf.predict([[2,0.5]])\n",
    "print(y_pred)"
   ]
  },
  {
   "cell_type": "code",
   "execution_count": 2,
   "id": "933856dc",
   "metadata": {
    "collapsed": true
   },
   "outputs": [
    {
     "name": "stdout",
     "output_type": "stream",
     "text": [
      "Downloading data from https://storage.googleapis.com/tensorflow/tf-keras-datasets/train-labels-idx1-ubyte.gz\n",
      "32768/29515 [=================================] - 0s 0us/step\n",
      "Downloading data from https://storage.googleapis.com/tensorflow/tf-keras-datasets/train-images-idx3-ubyte.gz\n",
      "26427392/26421880 [==============================] - 3s 0us/step\n",
      "Downloading data from https://storage.googleapis.com/tensorflow/tf-keras-datasets/t10k-labels-idx1-ubyte.gz\n",
      "8192/5148 [===============================================] - 0s 0s/step\n",
      "Downloading data from https://storage.googleapis.com/tensorflow/tf-keras-datasets/t10k-images-idx3-ubyte.gz\n",
      "4423680/4422102 [==============================] - 0s 0us/step\n",
      "(60000, 28, 28)\n",
      "uint8\n"
     ]
    }
   ],
   "source": [
    "fashion_mnist=keras.datasets.fashion_mnist\n",
    "(X_train_full,y_train_full), (X_test,y_test)=fashion_mnist.load_data()\n",
    "print(X_train_full.shape)\n",
    "print(X_train_full.dtype)\n"
   ]
  },
  {
   "cell_type": "code",
   "execution_count": 5,
   "id": "38d0f037",
   "metadata": {
    "scrolled": false
   },
   "outputs": [
    {
     "name": "stdout",
     "output_type": "stream",
     "text": [
      "Coat\n"
     ]
    },
    {
     "data": {
      "text/plain": [
       "<matplotlib.image.AxesImage at 0x1fdcf80cbc8>"
      ]
     },
     "execution_count": 5,
     "metadata": {},
     "output_type": "execute_result"
    },
    {
     "data": {
      "image/png": "[encoded data removed]",
      "text/plain": [
       "<Figure size 432x288 with 1 Axes>"
      ]
     },
     "metadata": {
      "needs_background": "light"
     },
     "output_type": "display_data"
    }
   ],
   "source": [
    "X_valid,X_train=X_train_full[:5000]/255.0, X_train_full[5000:]/255.0\n",
    "y_valid,y_train=y_train_full[:5000],y_train_full[5000:]\n",
    "\n",
    "# https://www.tensorflow.org/api_docs/python/tf/keras/datasets/fashion_mnist/load_data\n",
    "class_names=[\"T-shirt/top\", \"Trouser\", \"Pullover\", \"Dress\", \"Coat\",\n",
    "             \"Sandal\", \"Shirt\", \"Sneaker\", \"Bag\", \"Ankle boot\"]\n",
    "print(class_names[y_train[0]])\n",
    "\n",
    "plt.imshow(X_train[0],cmap=\"gray_r\")\n",
    "\n"
   ]
  },
  {
   "cell_type": "code",
   "execution_count": 7,
   "id": "07fa70b3",
   "metadata": {},
   "outputs": [
    {
     "name": "stdout",
     "output_type": "stream",
     "text": [
      "Model: \"sequential\"\n",
      "_________________________________________________________________\n",
      "Layer (type)                 Output Shape              Param #   \n",
      "=================================================================\n",
      "flatten (Flatten)            (None, 784)               0         \n",
      "_________________________________________________________________\n",
      "dense (Dense)                (None, 300)               235500    \n",
      "_________________________________________________________________\n",
      "dense_1 (Dense)              (None, 100)               30100     \n",
      "_________________________________________________________________\n",
      "dense_2 (Dense)              (None, 10)                1010      \n",
      "=================================================================\n",
      "Total params: 266,610\n",
      "Trainable params: 266,610\n",
      "Non-trainable params: 0\n",
      "_________________________________________________________________\n"
     ]
    }
   ],
   "source": [
    "model=keras.models.Sequential()\n",
    "model.add(keras.layers.Flatten(input_shape=[28,28])) #lub keras.layers.Inputlayer(input_shape=[28,28])\n",
    "model.add(keras.layers.Dense(300,activation=\"relu\"))\n",
    "model.add(keras.layers.Dense(100,activation=\"relu\"))\n",
    "model.add(keras.layers.Dense(10,activation=\"softmax\")) #klasy sie wykluczaja wiec softmax nie logistic\n",
    "\n",
    "model.summary()"
   ]
  },
  {
   "cell_type": "code",
   "execution_count": 9,
   "id": "4d119d89",
   "metadata": {},
   "outputs": [
    {
     "data": {
      "text/plain": [
       "[<tensorflow.python.keras.layers.core.Flatten at 0x1fdd16859c8>,\n",
       " <tensorflow.python.keras.layers.core.Dense at 0x1fdd16851c8>,\n",
       " <tensorflow.python.keras.layers.core.Dense at 0x1fdd792af08>,\n",
       " <tensorflow.python.keras.layers.core.Dense at 0x1fdd796ae88>]"
      ]
     },
     "execution_count": 9,
     "metadata": {},
     "output_type": "execute_result"
    }
   ],
   "source": [
    "model.layers"
   ]
  },
  {
   "cell_type": "code",
   "execution_count": 11,
   "id": "152e9d3d",
   "metadata": {},
   "outputs": [
    {
     "name": "stdout",
     "output_type": "stream",
     "text": [
      "dense\n",
      "True\n"
     ]
    }
   ],
   "source": [
    "hidden1=model.layers[1]\n",
    "print(hidden1.name)\n",
    "print(model.get_layer('dense') is hidden1)"
   ]
  },
  {
   "cell_type": "code",
   "execution_count": 12,
   "id": "86d773e5",
   "metadata": {},
   "outputs": [
    {
     "name": "stdout",
     "output_type": "stream",
     "text": [
      "(784, 300)\n",
      "(300,)\n",
      "[[-4.3186478e-02 -6.6373028e-02 -1.1457734e-02 ... -2.6690591e-02\n",
      "   6.6147149e-03  3.9686464e-02]\n",
      " [-5.5292405e-02 -4.6801023e-02 -6.0493872e-03 ... -1.8362314e-02\n",
      "  -2.3834337e-02  4.8230290e-02]\n",
      " [-6.3464388e-02 -4.2548731e-02  6.5406412e-04 ... -1.9786950e-02\n",
      "  -2.1670654e-02  4.8046328e-02]\n",
      " ...\n",
      " [ 2.6664093e-02 -5.6002855e-02 -2.4744216e-02 ...  2.9790707e-02\n",
      "  -1.1614464e-02 -4.0050212e-02]\n",
      " [ 4.5899995e-02  8.8974833e-05 -5.9714377e-02 ...  3.4289047e-02\n",
      "   4.1755334e-02 -4.3153059e-02]\n",
      " [-1.8348798e-02 -1.3816357e-03  4.8139185e-02 ...  6.9177896e-04\n",
      "  -6.3123010e-02 -2.9380217e-02]]\n",
      "[0. 0. 0. 0. 0. 0. 0. 0. 0. 0. 0. 0. 0. 0. 0. 0. 0. 0. 0. 0. 0. 0. 0. 0.\n",
      " 0. 0. 0. 0. 0. 0. 0. 0. 0. 0. 0. 0. 0. 0. 0. 0. 0. 0. 0. 0. 0. 0. 0. 0.\n",
      " 0. 0. 0. 0. 0. 0. 0. 0. 0. 0. 0. 0. 0. 0. 0. 0. 0. 0. 0. 0. 0. 0. 0. 0.\n",
      " 0. 0. 0. 0. 0. 0. 0. 0. 0. 0. 0. 0. 0. 0. 0. 0. 0. 0. 0. 0. 0. 0. 0. 0.\n",
      " 0. 0. 0. 0. 0. 0. 0. 0. 0. 0. 0. 0. 0. 0. 0. 0. 0. 0. 0. 0. 0. 0. 0. 0.\n",
      " 0. 0. 0. 0. 0. 0. 0. 0. 0. 0. 0. 0. 0. 0. 0. 0. 0. 0. 0. 0. 0. 0. 0. 0.\n",
      " 0. 0. 0. 0. 0. 0. 0. 0. 0. 0. 0. 0. 0. 0. 0. 0. 0. 0. 0. 0. 0. 0. 0. 0.\n",
      " 0. 0. 0. 0. 0. 0. 0. 0. 0. 0. 0. 0. 0. 0. 0. 0. 0. 0. 0. 0. 0. 0. 0. 0.\n",
      " 0. 0. 0. 0. 0. 0. 0. 0. 0. 0. 0. 0. 0. 0. 0. 0. 0. 0. 0. 0. 0. 0. 0. 0.\n",
      " 0. 0. 0. 0. 0. 0. 0. 0. 0. 0. 0. 0. 0. 0. 0. 0. 0. 0. 0. 0. 0. 0. 0. 0.\n",
      " 0. 0. 0. 0. 0. 0. 0. 0. 0. 0. 0. 0. 0. 0. 0. 0. 0. 0. 0. 0. 0. 0. 0. 0.\n",
      " 0. 0. 0. 0. 0. 0. 0. 0. 0. 0. 0. 0. 0. 0. 0. 0. 0. 0. 0. 0. 0. 0. 0. 0.\n",
      " 0. 0. 0. 0. 0. 0. 0. 0. 0. 0. 0. 0.]\n"
     ]
    }
   ],
   "source": [
    "weights, biases=hidden1.get_weights()\n",
    "print(weights.shape)\n",
    "print(biases.shape)\n",
    "print(weights)\n",
    "print(biases)"
   ]
  },
  {
   "cell_type": "code",
   "execution_count": 13,
   "id": "9afa1912",
   "metadata": {},
   "outputs": [],
   "source": [
    "model.compile(loss=\"sparse_categorical_crossentropy\",\n",
    "             optimizer=\"sgd\",\n",
    "             metrics=[\"accuracy\"])"
   ]
  },
  {
   "cell_type": "code",
   "execution_count": 14,
   "id": "e23d0278",
   "metadata": {
    "collapsed": true
   },
   "outputs": [
    {
     "name": "stdout",
     "output_type": "stream",
     "text": [
      "Epoch 1/30\n",
      "1719/1719 [==============================] - 3s 2ms/step - loss: 0.7261 - accuracy: 0.7624 - val_loss: 0.5551 - val_accuracy: 0.7968\n",
      "Epoch 2/30\n",
      "1719/1719 [==============================] - 3s 2ms/step - loss: 0.4919 - accuracy: 0.8303 - val_loss: 0.4343 - val_accuracy: 0.8528\n",
      "Epoch 3/30\n",
      "1719/1719 [==============================] - 3s 2ms/step - loss: 0.4462 - accuracy: 0.8445 - val_loss: 0.4371 - val_accuracy: 0.8458\n",
      "Epoch 4/30\n",
      "1719/1719 [==============================] - 3s 2ms/step - loss: 0.4181 - accuracy: 0.8537 - val_loss: 0.3911 - val_accuracy: 0.8680\n",
      "Epoch 5/30\n",
      "1719/1719 [==============================] - 3s 2ms/step - loss: 0.3981 - accuracy: 0.8602 - val_loss: 0.4230 - val_accuracy: 0.8472\n",
      "Epoch 6/30\n",
      "1719/1719 [==============================] - 3s 2ms/step - loss: 0.3825 - accuracy: 0.8653 - val_loss: 0.3892 - val_accuracy: 0.8652\n",
      "Epoch 7/30\n",
      "1719/1719 [==============================] - 3s 2ms/step - loss: 0.3687 - accuracy: 0.8696 - val_loss: 0.3795 - val_accuracy: 0.8668 -\n",
      "Epoch 8/30\n",
      "1719/1719 [==============================] - 3s 2ms/step - loss: 0.3570 - accuracy: 0.8729 - val_loss: 0.3560 - val_accuracy: 0.8712\n",
      "Epoch 9/30\n",
      "1719/1719 [==============================] - 3s 2ms/step - loss: 0.3465 - accuracy: 0.8764 - val_loss: 0.3481 - val_accuracy: 0.8756\n",
      "Epoch 10/30\n",
      "1719/1719 [==============================] - 3s 2ms/step - loss: 0.3366 - accuracy: 0.8802 - val_loss: 0.3446 - val_accuracy: 0.8734\n",
      "Epoch 11/30\n",
      "1719/1719 [==============================] - 3s 2ms/step - loss: 0.3277 - accuracy: 0.8841 - val_loss: 0.3371 - val_accuracy: 0.8774\n",
      "Epoch 12/30\n",
      "1719/1719 [==============================] - 3s 2ms/step - loss: 0.3198 - accuracy: 0.8846 - val_loss: 0.3431 - val_accuracy: 0.8776\n",
      "Epoch 13/30\n",
      "1719/1719 [==============================] - 3s 2ms/step - loss: 0.3125 - accuracy: 0.8866 - val_loss: 0.3531 - val_accuracy: 0.8716\n",
      "Epoch 14/30\n",
      "1719/1719 [==============================] - 3s 2ms/step - loss: 0.3052 - accuracy: 0.8901 - val_loss: 0.3288 - val_accuracy: 0.8810\n",
      "Epoch 15/30\n",
      "1719/1719 [==============================] - 3s 2ms/step - loss: 0.2979 - accuracy: 0.8925 - val_loss: 0.3261 - val_accuracy: 0.8832\n",
      "Epoch 16/30\n",
      "1719/1719 [==============================] - 3s 1ms/step - loss: 0.2917 - accuracy: 0.8956 - val_loss: 0.3533 - val_accuracy: 0.8728\n",
      "Epoch 17/30\n",
      "1719/1719 [==============================] - 3s 2ms/step - loss: 0.2859 - accuracy: 0.8967 - val_loss: 0.3290 - val_accuracy: 0.8780\n",
      "Epoch 18/30\n",
      "1719/1719 [==============================] - 3s 2ms/step - loss: 0.2806 - accuracy: 0.8984 - val_loss: 0.3153 - val_accuracy: 0.8876\n",
      "Epoch 19/30\n",
      "1719/1719 [==============================] - 3s 1ms/step - loss: 0.2757 - accuracy: 0.9009 - val_loss: 0.3307 - val_accuracy: 0.8774\n",
      "Epoch 20/30\n",
      "1719/1719 [==============================] - 3s 1ms/step - loss: 0.2696 - accuracy: 0.9024 - val_loss: 0.3129 - val_accuracy: 0.8882\n",
      "Epoch 21/30\n",
      "1719/1719 [==============================] - 3s 2ms/step - loss: 0.2645 - accuracy: 0.9051 - val_loss: 0.3013 - val_accuracy: 0.8876\n",
      "Epoch 22/30\n",
      "1719/1719 [==============================] - 3s 2ms/step - loss: 0.2602 - accuracy: 0.9063 - val_loss: 0.3149 - val_accuracy: 0.8864\n",
      "Epoch 23/30\n",
      "1719/1719 [==============================] - 3s 2ms/step - loss: 0.2554 - accuracy: 0.9077 - val_loss: 0.3056 - val_accuracy: 0.8882\n",
      "Epoch 24/30\n",
      "1719/1719 [==============================] - 3s 2ms/step - loss: 0.2515 - accuracy: 0.9100 - val_loss: 0.3340 - val_accuracy: 0.8750\n",
      "Epoch 25/30\n",
      "1719/1719 [==============================] - 3s 2ms/step - loss: 0.2464 - accuracy: 0.9110 - val_loss: 0.2927 - val_accuracy: 0.8904\n",
      "Epoch 26/30\n",
      "1719/1719 [==============================] - 3s 2ms/step - loss: 0.2419 - accuracy: 0.9117 - val_loss: 0.3079 - val_accuracy: 0.8864\n",
      "Epoch 27/30\n",
      "1719/1719 [==============================] - 3s 2ms/step - loss: 0.2384 - accuracy: 0.9144 - val_loss: 0.3001 - val_accuracy: 0.8924\n",
      "Epoch 28/30\n",
      "1719/1719 [==============================] - 3s 2ms/step - loss: 0.2339 - accuracy: 0.9162 - val_loss: 0.3062 - val_accuracy: 0.8890\n",
      "Epoch 29/30\n",
      "1719/1719 [==============================] - 3s 1ms/step - loss: 0.2303 - accuracy: 0.9172 - val_loss: 0.2861 - val_accuracy: 0.8950\n",
      "Epoch 30/30\n",
      "1719/1719 [==============================] - 3s 2ms/step - loss: 0.2269 - accuracy: 0.9180 - val_loss: 0.2944 - val_accuracy: 0.8918\n"
     ]
    }
   ],
   "source": [
    "history=model.fit(X_train,y_train,epochs=30,\n",
    "                 validation_data=(X_valid,y_valid))"
   ]
  },
  {
   "cell_type": "code",
   "execution_count": 18,
   "id": "9f0e6501",
   "metadata": {},
   "outputs": [
    {
     "data": {
      "text/plain": [
       "array([4, 0, 7, 9, 9], dtype=int64)"
      ]
     },
     "execution_count": 18,
     "metadata": {},
     "output_type": "execute_result"
    }
   ],
   "source": [
    "np.argmax(model.predict(X_train[:5]),axis=1)"
   ]
  },
  {
   "cell_type": "code",
   "execution_count": 21,
   "id": "eebb5931",
   "metadata": {},
   "outputs": [
    {
     "name": "stdout",
     "output_type": "stream",
     "text": [
      "{'verbose': 1, 'epochs': 30, 'steps': 1719}\n",
      "[0, 1, 2, 3, 4, 5, 6, 7, 8, 9, 10, 11, 12, 13, 14, 15, 16, 17, 18, 19, 20, 21, 22, 23, 24, 25, 26, 27, 28, 29]\n",
      "dict_keys(['loss', 'accuracy', 'val_loss', 'val_accuracy'])\n"
     ]
    },
    {
     "data": {
      "image/png": "[encoded data removed]",
      "text/plain": [
       "<Figure size 576x360 with 1 Axes>"
      ]
     },
     "metadata": {
      "needs_background": "light"
     },
     "output_type": "display_data"
    }
   ],
   "source": [
    "print(history.params)\n",
    "print(history.epoch)\n",
    "print(history.history.keys())\n",
    "pd.DataFrame(history.history).plot(figsize=(8,5))\n",
    "plt.grid(True)\n",
    "plt.gca().set_ylim(0,1)\n",
    "plt.show()"
   ]
  },
  {
   "cell_type": "code",
   "execution_count": 23,
   "id": "5b4380f6",
   "metadata": {},
   "outputs": [
    {
     "name": "stdout",
     "output_type": "stream",
     "text": [
      "313/313 [==============================] - 0s 1ms/step - loss: 0.3298 - accuracy: 0.8855\n"
     ]
    },
    {
     "data": {
      "text/plain": [
       "[0.32978886365890503, 0.8855000138282776]"
      ]
     },
     "execution_count": 23,
     "metadata": {},
     "output_type": "execute_result"
    }
   ],
   "source": [
    "model.evaluate(X_test/255.0,y_test)"
   ]
  },
  {
   "cell_type": "code",
   "execution_count": 25,
   "id": "4bddab6a",
   "metadata": {},
   "outputs": [
    {
     "data": {
      "text/plain": [
       "array([[0., 0., 0., 0., 0., 0., 0., 0., 0., 1.],\n",
       "       [0., 0., 1., 0., 0., 0., 0., 0., 0., 0.],\n",
       "       [0., 1., 0., 0., 0., 0., 0., 0., 0., 0.]], dtype=float32)"
      ]
     },
     "execution_count": 25,
     "metadata": {},
     "output_type": "execute_result"
    }
   ],
   "source": [
    "X_new=X_test[:3]\n",
    "y_proba=model.predict(X_new)\n",
    "y_proba.round(2)"
   ]
  },
  {
   "cell_type": "code",
   "execution_count": 27,
   "id": "dd97c6d1",
   "metadata": {},
   "outputs": [
    {
     "name": "stdout",
     "output_type": "stream",
     "text": [
      "[9 2 1]\n",
      "['Ankle boot' 'Pullover' 'Trouser']\n",
      "[9 2 1]\n"
     ]
    }
   ],
   "source": [
    "y_pred=model.predict_classes(X_new)\n",
    "print(y_pred)\n",
    "print(np.array(class_names)[y_pred])\n",
    "print(y_test[:3])"
   ]
  },
  {
   "cell_type": "code",
   "execution_count": 2,
   "id": "90443cd0",
   "metadata": {},
   "outputs": [],
   "source": [
    "housing=fetch_california_housing()\n",
    "X_train_full,X_test,y_train_full,y_test=train_test_split(housing.data,housing.target)\n",
    "X_train,X_valid,y_train,y_valid=train_test_split(X_train_full,y_train_full)\n",
    "\n",
    "scaler=StandardScaler()\n",
    "X_train=scaler.fit_transform(X_train)\n",
    "X_valid=scaler.transform(X_valid)\n",
    "X_test=scaler.transform(X_test)"
   ]
  },
  {
   "cell_type": "code",
   "execution_count": 11,
   "id": "810dbc16",
   "metadata": {},
   "outputs": [
    {
     "data": {
      "text/plain": [
       "(11610, 8)"
      ]
     },
     "execution_count": 11,
     "metadata": {},
     "output_type": "execute_result"
    }
   ],
   "source": [
    "X_train.shape"
   ]
  },
  {
   "cell_type": "code",
   "execution_count": 30,
   "id": "566ee772",
   "metadata": {
    "collapsed": true
   },
   "outputs": [
    {
     "name": "stdout",
     "output_type": "stream",
     "text": [
      "Epoch 1/20\n",
      "363/363 [==============================] - ETA: 0s - loss: 1.1856- ETA: 0s - loss: 1.3 - 1s 2ms/step - loss: 1.1678 - val_loss: 0.6026\n",
      "Epoch 2/20\n",
      "363/363 [==============================] - 1s 2ms/step - loss: 0.5312 - val_loss: 0.4788\n",
      "Epoch 3/20\n",
      "363/363 [==============================] - 1s 2ms/step - loss: 0.4958 - val_loss: 0.4795\n",
      "Epoch 4/20\n",
      "363/363 [==============================] - 1s 2ms/step - loss: 0.5568 - val_loss: 0.4766\n",
      "Epoch 5/20\n",
      "363/363 [==============================] - 1s 2ms/step - loss: 0.4690 - val_loss: 0.4484\n",
      "Epoch 6/20\n",
      "363/363 [==============================] - 1s 2ms/step - loss: 0.4608 - val_loss: 0.4365\n",
      "Epoch 7/20\n",
      "363/363 [==============================] - 1s 1ms/step - loss: 0.4375 - val_loss: 0.4308\n",
      "Epoch 8/20\n",
      "363/363 [==============================] - 1s 2ms/step - loss: 0.4278 - val_loss: 0.4216\n",
      "Epoch 9/20\n",
      "363/363 [==============================] - 1s 2ms/step - loss: 0.4201 - val_loss: 0.4124\n",
      "Epoch 10/20\n",
      "363/363 [==============================] - 1s 1ms/step - loss: 0.4153 - val_loss: 0.4103\n",
      "Epoch 11/20\n",
      "363/363 [==============================] - 1s 2ms/step - loss: 0.4097 - val_loss: 0.4048\n",
      "Epoch 12/20\n",
      "363/363 [==============================] - 1s 2ms/step - loss: 0.4105 - val_loss: 0.4028\n",
      "Epoch 13/20\n",
      "363/363 [==============================] - 1s 2ms/step - loss: 0.4017 - val_loss: 0.3996\n",
      "Epoch 14/20\n",
      "363/363 [==============================] - 1s 1ms/step - loss: 0.3988 - val_loss: 0.3918\n",
      "Epoch 15/20\n",
      "363/363 [==============================] - ETA: 0s - loss: 0.394 - 1s 2ms/step - loss: 0.3957 - val_loss: 0.3915\n",
      "Epoch 16/20\n",
      "363/363 [==============================] - 1s 2ms/step - loss: 0.4051 - val_loss: 0.3924\n",
      "Epoch 17/20\n",
      "363/363 [==============================] - 1s 1ms/step - loss: 0.3985 - val_loss: 0.3921\n",
      "Epoch 18/20\n",
      "363/363 [==============================] - 1s 2ms/step - loss: 0.3907 - val_loss: 0.3932\n",
      "Epoch 19/20\n",
      "363/363 [==============================] - 1s 2ms/step - loss: 0.3873 - val_loss: 0.3792\n",
      "Epoch 20/20\n",
      "363/363 [==============================] - 1s 2ms/step - loss: 0.3902 - val_loss: 0.3821\n",
      "162/162 [==============================] - 0s 812us/step - loss: 0.3783\n",
      "[[3.0412116]\n",
      " [1.4379685]\n",
      " [2.669589 ]]\n",
      "[3.231 1.635 2.212]\n"
     ]
    }
   ],
   "source": [
    "model=keras.models.Sequential([\n",
    "    keras.layers.Dense(30,activation=\"relu\",input_shape=X_train.shape[1:]),\n",
    "    keras.layers.Dense(1)\n",
    "])\n",
    "\n",
    "model.compile(loss=\"mean_squared_error\",\n",
    "             optimizer=\"sgd\")\n",
    "history=model.fit(X_train,y_train,epochs=20,validation_data=(X_valid,y_valid))\n",
    "\n",
    "mse_test=model.evaluate(X_test,y_test)\n",
    "X_new=X_test[:3]\n",
    "y_pred=model.predict(X_new)\n",
    "print(y_pred)\n",
    "print(y_test[:3])"
   ]
  },
  {
   "cell_type": "code",
   "execution_count": 31,
   "id": "ca54e847",
   "metadata": {
    "scrolled": true
   },
   "outputs": [
    {
     "data": {
      "text/plain": [
       "<AxesSubplot:>"
      ]
     },
     "execution_count": 31,
     "metadata": {},
     "output_type": "execute_result"
    },
    {
     "data": {
      "image/png": "[encoded data removed]",
      "text/plain": [
       "<Figure size 576x360 with 1 Axes>"
      ]
     },
     "metadata": {
      "needs_background": "light"
     },
     "output_type": "display_data"
    }
   ],
   "source": [
    "pd.DataFrame(history.history).plot(figsize=(8,5))"
   ]
  },
  {
   "cell_type": "code",
   "execution_count": 18,
   "id": "8b40ea1d",
   "metadata": {},
   "outputs": [],
   "source": [
    "keras.backend.clear_session()\n",
    "np.random.seed(42)\n",
    "tf.random.set_seed(42)"
   ]
  },
  {
   "cell_type": "code",
   "execution_count": 8,
   "id": "0c668a78",
   "metadata": {
    "scrolled": false
   },
   "outputs": [
    {
     "name": "stdout",
     "output_type": "stream",
     "text": [
      "Model: \"functional_3\"\n",
      "__________________________________________________________________________________________________\n",
      "Layer (type)                    Output Shape         Param #     Connected to                     \n",
      "==================================================================================================\n",
      "input_2 (InputLayer)            [(None, 8)]          0                                            \n",
      "__________________________________________________________________________________________________\n",
      "dense_3 (Dense)                 (None, 30)           270         input_2[0][0]                    \n",
      "__________________________________________________________________________________________________\n",
      "dense_4 (Dense)                 (None, 30)           930         dense_3[0][0]                    \n",
      "__________________________________________________________________________________________________\n",
      "concatenate_1 (Concatenate)     (None, 38)           0           input_2[0][0]                    \n",
      "                                                                 dense_4[0][0]                    \n",
      "__________________________________________________________________________________________________\n",
      "dense_5 (Dense)                 (None, 1)            39          concatenate_1[0][0]              \n",
      "==================================================================================================\n",
      "Total params: 1,239\n",
      "Trainable params: 1,239\n",
      "Non-trainable params: 0\n",
      "__________________________________________________________________________________________________\n"
     ]
    }
   ],
   "source": [
    "input_ = keras.layers.Input(shape=X_train.shape[1:])\n",
    "hidden1=keras.layers.Dense(30,activation=\"relu\")(input_)\n",
    "hidden2=keras.layers.Dense(30,activation=\"relu\")(hidden1)\n",
    "concat=keras.layers.Concatenate()([input_,hidden2])\n",
    "output=keras.layers.Dense(1)(concat)\n",
    "model=keras.Model(inputs=[input_],outputs=[output])\n",
    "\n",
    "model.summary()"
   ]
  },
  {
   "cell_type": "code",
   "execution_count": 13,
   "id": "7a7cd9af",
   "metadata": {
    "collapsed": true
   },
   "outputs": [
    {
     "name": "stdout",
     "output_type": "stream",
     "text": [
      "Epoch 1/20\n",
      "363/363 [==============================] - 1s 2ms/step - loss: nan - val_loss: nan\n",
      "Epoch 2/20\n",
      "363/363 [==============================] - 1s 2ms/step - loss: nan - val_loss: nan\n",
      "Epoch 3/20\n",
      "363/363 [==============================] - 1s 2ms/step - loss: nan - val_loss: nan\n",
      "Epoch 4/20\n",
      "363/363 [==============================] - 1s 2ms/step - loss: nan - val_loss: nan\n",
      "Epoch 5/20\n",
      "363/363 [==============================] - 1s 2ms/step - loss: nan - val_loss: nan\n",
      "Epoch 6/20\n",
      "363/363 [==============================] - 1s 2ms/step - loss: nan - val_loss: nan\n",
      "Epoch 7/20\n",
      "363/363 [==============================] - 1s 2ms/step - loss: nan - val_loss: nan\n",
      "Epoch 8/20\n",
      "363/363 [==============================] - 1s 2ms/step - loss: nan - val_loss: nan\n",
      "Epoch 9/20\n",
      "363/363 [==============================] - 1s 2ms/step - loss: nan - val_loss: nan\n",
      "Epoch 10/20\n",
      "363/363 [==============================] - 1s 2ms/step - loss: nan - val_loss: nan\n",
      "Epoch 11/20\n",
      "363/363 [==============================] - 1s 2ms/step - loss: nan - val_loss: nan\n",
      "Epoch 12/20\n",
      "363/363 [==============================] - 1s 2ms/step - loss: nan - val_loss: nan\n",
      "Epoch 13/20\n",
      "363/363 [==============================] - 1s 2ms/step - loss: nan - val_loss: nan\n",
      "Epoch 14/20\n",
      "363/363 [==============================] - 1s 2ms/step - loss: nan - val_loss: nan\n",
      "Epoch 15/20\n",
      "363/363 [==============================] - 1s 2ms/step - loss: nan - val_loss: nan\n",
      "Epoch 16/20\n",
      "363/363 [==============================] - 1s 2ms/step - loss: nan - val_loss: nan\n",
      "Epoch 17/20\n",
      "363/363 [==============================] - 1s 2ms/step - loss: nan - val_loss: nan\n",
      "Epoch 18/20\n",
      "363/363 [==============================] - 1s 2ms/step - loss: nan - val_loss: nan\n",
      "Epoch 19/20\n",
      "363/363 [==============================] - 1s 2ms/step - loss: nan - val_loss: nan\n",
      "Epoch 20/20\n",
      "363/363 [==============================] - 1s 2ms/step - loss: nan - val_loss: nan\n"
     ]
    }
   ],
   "source": [
    "model.compile(loss=\"mean_squared_error\",\n",
    "             optimizer=\"adam\")\n",
    "history=model.fit(X_train,y_train,epochs=20,\n",
    "            validation_data=(X_valid,y_valid))"
   ]
  },
  {
   "cell_type": "code",
   "execution_count": 16,
   "id": "763d6ac7",
   "metadata": {},
   "outputs": [],
   "source": [
    "input_A=keras.layers.Input(shape=[5],name=\"wide_input\")\n",
    "input_B=keras.layers.Input(shape=[6],name=\"deep_input\")\n",
    "hidden1=keras.layers.Dense(30,activation=\"relu\")(input_B)\n",
    "hidden2=keras.layers.Dense(30,activation=\"relu\")(hidden1)\n",
    "concat=keras.layers.concatenate([input_A,hidden2])\n",
    "output=keras.layers.Dense(1,name=\"output\")(concat)\n",
    "model=keras.Model(inputs=[input_A,input_B],outputs=[output])"
   ]
  },
  {
   "cell_type": "code",
   "execution_count": 3,
   "id": "96696b90",
   "metadata": {},
   "outputs": [],
   "source": [
    "X_train_A,X_train_B=X_train[:,:5],X_train[:,2:]\n",
    "X_valid_A,X_valid_B=X_valid[:,:5],X_valid[:,2:]\n",
    "X_test_A,X_test_B=X_test[:,:5],X_test[:,2:]\n",
    "X_new_A,X_new_B=X_test_A[:3],X_test_B[:3]"
   ]
  },
  {
   "cell_type": "code",
   "execution_count": 17,
   "id": "9300faab",
   "metadata": {
    "collapsed": true
   },
   "outputs": [
    {
     "name": "stdout",
     "output_type": "stream",
     "text": [
      "Epoch 1/20\n",
      "363/363 [==============================] - 1s 2ms/step - loss: 2.0793 - val_loss: 1.0278\n",
      "Epoch 2/20\n",
      "363/363 [==============================] - 1s 2ms/step - loss: 0.8058 - val_loss: 0.7673\n",
      "Epoch 3/20\n",
      "363/363 [==============================] - 1s 2ms/step - loss: 0.6709 - val_loss: 0.6895\n",
      "Epoch 4/20\n",
      "363/363 [==============================] - 1s 2ms/step - loss: 0.6202 - val_loss: 0.6446\n",
      "Epoch 5/20\n",
      "363/363 [==============================] - 1s 2ms/step - loss: 0.5880 - val_loss: 0.6131\n",
      "Epoch 6/20\n",
      "363/363 [==============================] - 1s 2ms/step - loss: 0.5643 - val_loss: 0.5891\n",
      "Epoch 7/20\n",
      "363/363 [==============================] - 1s 2ms/step - loss: 0.5460 - val_loss: 0.5696\n",
      "Epoch 8/20\n",
      "363/363 [==============================] - 1s 2ms/step - loss: 0.5319 - val_loss: 0.5548\n",
      "Epoch 9/20\n",
      "363/363 [==============================] - 1s 2ms/step - loss: 0.5205 - val_loss: 0.5414\n",
      "Epoch 10/20\n",
      "363/363 [==============================] - 1s 2ms/step - loss: 0.5115 - val_loss: 0.5310\n",
      "Epoch 11/20\n",
      "363/363 [==============================] - 1s 2ms/step - loss: 0.5044 - val_loss: 0.5233\n",
      "Epoch 12/20\n",
      "363/363 [==============================] - 1s 2ms/step - loss: 0.4984 - val_loss: 0.5169\n",
      "Epoch 13/20\n",
      "363/363 [==============================] - 1s 2ms/step - loss: 0.4940 - val_loss: 0.5114\n",
      "Epoch 14/20\n",
      "363/363 [==============================] - 1s 2ms/step - loss: 0.4900 - val_loss: 0.5080\n",
      "Epoch 15/20\n",
      "363/363 [==============================] - 1s 2ms/step - loss: 0.4863 - val_loss: 0.5034\n",
      "Epoch 16/20\n",
      "363/363 [==============================] - 1s 2ms/step - loss: 0.4830 - val_loss: 0.4996\n",
      "Epoch 17/20\n",
      "363/363 [==============================] - 1s 2ms/step - loss: 0.4802 - val_loss: 0.4975\n",
      "Epoch 18/20\n",
      "363/363 [==============================] - 1s 2ms/step - loss: 0.4777 - val_loss: 0.4941\n",
      "Epoch 19/20\n",
      "363/363 [==============================] - 1s 2ms/step - loss: 0.4752 - val_loss: 0.4921\n",
      "Epoch 20/20\n",
      "363/363 [==============================] - 1s 2ms/step - loss: 0.4728 - val_loss: 0.4889\n",
      "162/162 [==============================] - 0s 1ms/step - loss: 0.5116\n",
      "0.5116128325462341\n",
      "[[1.7068298 ]\n",
      " [2.4119208 ]\n",
      " [0.61128426]]\n"
     ]
    },
    {
     "data": {
      "text/plain": [
       "<AxesSubplot:>"
      ]
     },
     "execution_count": 17,
     "metadata": {},
     "output_type": "execute_result"
    },
    {
     "data": {
      "image/png": "[encoded data removed]",
      "text/plain": [
       "<Figure size 576x360 with 1 Axes>"
      ]
     },
     "metadata": {
      "needs_background": "light"
     },
     "output_type": "display_data"
    }
   ],
   "source": [
    "model.compile(loss=\"mse\",optimizer=keras.optimizers.SGD(lr=1e-3))\n",
    "\n",
    "\n",
    "history=model.fit((X_train_A,X_train_B),y_train,epochs=20,\n",
    "                 validation_data=((X_valid_A,X_valid_B),y_valid))\n",
    "mse_test=model.evaluate((X_test_A,X_test_B),y_test)\n",
    "y_pred=model.predict((X_new_A,X_new_B))\n",
    "print(mse_test)\n",
    "print(y_pred)\n",
    "pd.DataFrame(history.history).plot(figsize=(8,5))"
   ]
  },
  {
   "cell_type": "code",
   "execution_count": 18,
   "id": "63badb59",
   "metadata": {},
   "outputs": [
    {
     "name": "stdout",
     "output_type": "stream",
     "text": [
      "[[1.7068298 ]\n",
      " [2.4119208 ]\n",
      " [0.61128426]]\n",
      "[1.65  2.875 0.653]\n"
     ]
    }
   ],
   "source": [
    "print(y_pred)\n",
    "print(y_test[:3])"
   ]
  },
  {
   "cell_type": "code",
   "execution_count": 19,
   "id": "735dc1c5",
   "metadata": {},
   "outputs": [],
   "source": [
    "input_A=keras.layers.Input(shape=[5],name=\"wide_input\")\n",
    "input_B=keras.layers.Input(shape=[6],name=\"deep_input\")\n",
    "hidden1=keras.layers.Dense(30,activation=\"relu\")(input_B)\n",
    "hidden2=keras.layers.Dense(30,activation=\"relu\")(hidden1)\n",
    "concat=keras.layers.concatenate([input_A,hidden2])\n",
    "output=keras.layers.Dense(1,name=\"output\")(concat)\n",
    "aux_output=keras.layers.Dense(1,name=\"aux_output\")(hidden2)\n",
    "model=keras.Model(inputs=[input_A,input_B],outputs=[output,aux_output])\n",
    "\n",
    "model.compile(loss=[\"mse\",\"mse\"],loss_weights=[0.9,0.1],optimizer=\"sgd\")"
   ]
  },
  {
   "cell_type": "code",
   "execution_count": 20,
   "id": "1133ad66",
   "metadata": {
    "collapsed": true
   },
   "outputs": [
    {
     "name": "stdout",
     "output_type": "stream",
     "text": [
      "Epoch 1/20\n",
      "363/363 [==============================] - 1s 3ms/step - loss: 1.1563 - output_loss: 1.0585 - aux_output_loss: 2.0364 - val_loss: 0.6479 - val_output_loss: 0.5845 - val_aux_output_loss: 1.2185\n",
      "Epoch 2/20\n",
      "363/363 [==============================] - 1s 2ms/step - loss: 0.5833 - output_loss: 0.5325 - aux_output_loss: 1.0409 - val_loss: 0.5579 - val_output_loss: 0.5078 - val_aux_output_loss: 1.0088\n",
      "Epoch 3/20\n",
      "363/363 [==============================] - 1s 3ms/step - loss: 0.5191 - output_loss: 0.4781 - aux_output_loss: 0.8884 - val_loss: 0.5193 - val_output_loss: 0.4792 - val_aux_output_loss: 0.8806\n",
      "Epoch 4/20\n",
      "363/363 [==============================] - 1s 2ms/step - loss: 0.5626 - output_loss: 0.5339 - aux_output_loss: 0.8216 - val_loss: 0.5159 - val_output_loss: 0.4805 - val_aux_output_loss: 0.8347\n",
      "Epoch 5/20\n",
      "363/363 [==============================] - 1s 2ms/step - loss: 0.4766 - output_loss: 0.4472 - aux_output_loss: 0.7411 - val_loss: 0.4925 - val_output_loss: 0.4637 - val_aux_output_loss: 0.7512\n",
      "Epoch 6/20\n",
      "363/363 [==============================] - 1s 2ms/step - loss: 0.4617 - output_loss: 0.4369 - aux_output_loss: 0.6849 - val_loss: 0.4818 - val_output_loss: 0.4565 - val_aux_output_loss: 0.7094\n",
      "Epoch 7/20\n",
      "363/363 [==============================] - 1s 2ms/step - loss: 0.4490 - output_loss: 0.4268 - aux_output_loss: 0.6486 - val_loss: 0.4663 - val_output_loss: 0.4440 - val_aux_output_loss: 0.6675\n",
      "Epoch 8/20\n",
      "363/363 [==============================] - 1s 2ms/step - loss: 0.4386 - output_loss: 0.4182 - aux_output_loss: 0.6219 - val_loss: 0.4580 - val_output_loss: 0.4372 - val_aux_output_loss: 0.6455\n",
      "Epoch 9/20\n",
      "363/363 [==============================] - 1s 2ms/step - loss: 0.4282 - output_loss: 0.4088 - aux_output_loss: 0.6023 - val_loss: 0.4503 - val_output_loss: 0.4309 - val_aux_output_loss: 0.6251\n",
      "Epoch 10/20\n",
      "363/363 [==============================] - 1s 3ms/step - loss: 0.4218 - output_loss: 0.4036 - aux_output_loss: 0.5857 - val_loss: 0.4374 - val_output_loss: 0.4185 - val_aux_output_loss: 0.6074\n",
      "Epoch 11/20\n",
      "363/363 [==============================] - 1s 2ms/step - loss: 0.4127 - output_loss: 0.3950 - aux_output_loss: 0.5719 - val_loss: 0.4299 - val_output_loss: 0.4118 - val_aux_output_loss: 0.5934\n",
      "Epoch 12/20\n",
      "363/363 [==============================] - 1s 2ms/step - loss: 0.4084 - output_loss: 0.3916 - aux_output_loss: 0.5591 - val_loss: 0.4272 - val_output_loss: 0.4098 - val_aux_output_loss: 0.5839\n",
      "Epoch 13/20\n",
      "363/363 [==============================] - 1s 2ms/step - loss: 0.3995 - output_loss: 0.3831 - aux_output_loss: 0.5477 - val_loss: 0.4165 - val_output_loss: 0.3996 - val_aux_output_loss: 0.5687\n",
      "Epoch 14/20\n",
      "363/363 [==============================] - 1s 2ms/step - loss: 0.3927 - output_loss: 0.3765 - aux_output_loss: 0.5385 - val_loss: 0.4087 - val_output_loss: 0.3922 - val_aux_output_loss: 0.5576\n",
      "Epoch 15/20\n",
      "363/363 [==============================] - 1s 2ms/step - loss: 0.3878 - output_loss: 0.3722 - aux_output_loss: 0.5284 - val_loss: 0.4042 - val_output_loss: 0.3881 - val_aux_output_loss: 0.5492\n",
      "Epoch 16/20\n",
      "363/363 [==============================] - 1s 2ms/step - loss: 0.3832 - output_loss: 0.3680 - aux_output_loss: 0.5200 - val_loss: 0.4004 - val_output_loss: 0.3852 - val_aux_output_loss: 0.5375\n",
      "Epoch 17/20\n",
      "363/363 [==============================] - 1s 2ms/step - loss: 0.3764 - output_loss: 0.3613 - aux_output_loss: 0.5117 - val_loss: 0.3955 - val_output_loss: 0.3804 - val_aux_output_loss: 0.5316\n",
      "Epoch 18/20\n",
      "363/363 [==============================] - 1s 2ms/step - loss: 0.3734 - output_loss: 0.3586 - aux_output_loss: 0.5066 - val_loss: 0.3994 - val_output_loss: 0.3857 - val_aux_output_loss: 0.5232\n",
      "Epoch 19/20\n",
      "363/363 [==============================] - 1s 2ms/step - loss: 0.3685 - output_loss: 0.3541 - aux_output_loss: 0.4979 - val_loss: 0.3924 - val_output_loss: 0.3785 - val_aux_output_loss: 0.5176\n",
      "Epoch 20/20\n",
      "363/363 [==============================] - 1s 2ms/step - loss: 0.3641 - output_loss: 0.3499 - aux_output_loss: 0.4912 - val_loss: 0.3833 - val_output_loss: 0.3689 - val_aux_output_loss: 0.5132\n",
      "162/162 [==============================] - 0s 1ms/step - loss: 0.4021 - output_loss: 0.3870 - aux_output_loss: 0.5387\n",
      "Total loss: 0.40214717388153076\n",
      "Main loss: 0.38697412610054016\n",
      "Auxiliary loss: 0.5387061238288879\n"
     ]
    }
   ],
   "source": [
    "history=model.fit([X_train_A,X_train_B],[y_train,y_train],epochs=20,\n",
    "                 validation_data=([X_valid_A,X_valid_B],[y_valid,y_valid]))\n",
    "total_loss,main_loss,aux_loss=model.evaluate([X_test_A,X_test_B],[y_test,y_test])\n",
    "print(\"Total loss: {}\\nMain loss: {}\\nAuxiliary loss: {}\".format(total_loss,main_loss,aux_loss))"
   ]
  },
  {
   "cell_type": "code",
   "execution_count": 23,
   "id": "eee43777",
   "metadata": {},
   "outputs": [
    {
     "name": "stdout",
     "output_type": "stream",
     "text": [
      "[[1.5902019]\n",
      " [2.6481204]\n",
      " [0.913005 ]]\n",
      "[[1.6713723]\n",
      " [2.4269843]\n",
      " [0.8228324]]\n",
      "[1.65  2.875 0.653]\n"
     ]
    }
   ],
   "source": [
    "y_pred_main,y_pred_aux=model.predict([X_new_A,X_new_B])\n",
    "print(y_pred_main)\n",
    "print(y_pred_aux)\n",
    "print(y_test[:3])"
   ]
  },
  {
   "cell_type": "code",
   "execution_count": 24,
   "id": "f2e123e8",
   "metadata": {},
   "outputs": [],
   "source": [
    "class WideAndDeepModel(keras.Model):\n",
    "    def __init__(self,units=30,activation=\"relu\",**kwargs):\n",
    "        super().__init__(**kwargs)\n",
    "        self.hidden1=keras.layers.Dense(unit,activation=activation)\n",
    "        self.hidden2=keras.layers.Dense(unit,activation=activation)\n",
    "        self.main_output=keras.layers.Dense(1)\n",
    "        self.aux_output=keras.layers.Dense(1)\n",
    "        \n",
    "    def call(self,inputs):\n",
    "        input_A,input_B=inputs\n",
    "        hidden1=self.hidden1(input_B)\n",
    "        hidden2=self.hidden2(hidden1)\n",
    "        concat=keras.layers.concatenate([input_A,hidden2])\n",
    "        main_output=self.main_output(concat)\n",
    "        aux_output=self.aux_output(hidden2)\n",
    "        return main_output,aux_output\n",
    "    \n",
    "model=WideAndDeepModel()\n"
   ]
  },
  {
   "cell_type": "code",
   "execution_count": 25,
   "id": "46b151af",
   "metadata": {
    "collapsed": true
   },
   "outputs": [
    {
     "name": "stdout",
     "output_type": "stream",
     "text": [
      "Epoch 1/10\n",
      "363/363 [==============================] - 1s 3ms/step - loss: 2.4542 - output_1_loss: 2.2397 - output_2_loss: 4.3852 - val_loss: 1.3102 - val_output_1_loss: 1.0745 - val_output_2_loss: 3.4306\n",
      "Epoch 2/10\n",
      "363/363 [==============================] - 1s 2ms/step - loss: 1.0518 - output_1_loss: 0.8750 - output_2_loss: 2.6427 - val_loss: 0.9520 - val_output_1_loss: 0.8043 - val_output_2_loss: 2.2815\n",
      "Epoch 3/10\n",
      "363/363 [==============================] - 1s 2ms/step - loss: 0.8209 - output_1_loss: 0.7013 - output_2_loss: 1.8965 - val_loss: 0.8208 - val_output_1_loss: 0.7108 - val_output_2_loss: 1.8105\n",
      "Epoch 4/10\n",
      "363/363 [==============================] - 1s 2ms/step - loss: 0.7325 - output_1_loss: 0.6364 - output_2_loss: 1.5983 - val_loss: 0.7564 - val_output_1_loss: 0.6600 - val_output_2_loss: 1.6234\n",
      "Epoch 5/10\n",
      "363/363 [==============================] - 1s 3ms/step - loss: 0.6869 - output_1_loss: 0.5991 - output_2_loss: 1.4772 - val_loss: 0.7187 - val_output_1_loss: 0.6271 - val_output_2_loss: 1.5428\n",
      "Epoch 6/10\n",
      "363/363 [==============================] - 1s 2ms/step - loss: 0.6587 - output_1_loss: 0.5744 - output_2_loss: 1.4174 - val_loss: 0.6929 - val_output_1_loss: 0.6035 - val_output_2_loss: 1.4978\n",
      "Epoch 7/10\n",
      "363/363 [==============================] - 1s 2ms/step - loss: 0.6388 - output_1_loss: 0.5565 - output_2_loss: 1.3801 - val_loss: 0.6730 - val_output_1_loss: 0.5853 - val_output_2_loss: 1.4625\n",
      "Epoch 8/10\n",
      "363/363 [==============================] - 1s 2ms/step - loss: 0.6235 - output_1_loss: 0.5429 - output_2_loss: 1.3486 - val_loss: 0.6569 - val_output_1_loss: 0.5704 - val_output_2_loss: 1.4352\n",
      "Epoch 9/10\n",
      "363/363 [==============================] - 1s 2ms/step - loss: 0.6106 - output_1_loss: 0.5314 - output_2_loss: 1.3226 - val_loss: 0.6426 - val_output_1_loss: 0.5575 - val_output_2_loss: 1.4083\n",
      "Epoch 10/10\n",
      "363/363 [==============================] - 1s 2ms/step - loss: 0.5998 - output_1_loss: 0.5224 - output_2_loss: 1.2970 - val_loss: 0.6306 - val_output_1_loss: 0.5469 - val_output_2_loss: 1.3834\n",
      "162/162 [==============================] - 0s 1ms/step - loss: 0.6478 - output_1_loss: 0.5636 - output_2_loss: 1.4056\n"
     ]
    }
   ],
   "source": [
    "model.compile(loss=\"mse\", loss_weights=[0.9, 0.1], optimizer=keras.optimizers.SGD(lr=1e-3))\n",
    "history = model.fit((X_train_A, X_train_B), (y_train, y_train), epochs=10,\n",
    "                    validation_data=((X_valid_A, X_valid_B), (y_valid, y_valid)))\n",
    "total_loss, main_loss, aux_loss = model.evaluate((X_test_A, X_test_B), (y_test, y_test))\n",
    "y_pred_main, y_pred_aux = model.predict((X_new_A, X_new_B))"
   ]
  },
  {
   "cell_type": "code",
   "execution_count": 26,
   "id": "38570aa7",
   "metadata": {
    "collapsed": true
   },
   "outputs": [
    {
     "name": "stdout",
     "output_type": "stream",
     "text": [
      "Epoch 1/20\n",
      "363/363 [==============================] - 1s 3ms/step - loss: 1.4657 - output_loss: 1.3713 - aux_output_loss: 2.3151 - val_loss: 1.0847 - val_output_loss: 1.0214 - val_aux_output_loss: 1.6542\n",
      "Epoch 2/20\n",
      "363/363 [==============================] - 1s 3ms/step - loss: 1.2897 - output_loss: 1.2396 - aux_output_loss: 1.7405 - val_loss: 0.6583 - val_output_loss: 0.5850 - val_aux_output_loss: 1.3180\n",
      "Epoch 3/20\n",
      "363/363 [==============================] - 1s 3ms/step - loss: 0.5816 - output_loss: 0.5173 - aux_output_loss: 1.1600 - val_loss: 0.5880 - val_output_loss: 0.5237 - val_aux_output_loss: 1.1665\n",
      "Epoch 4/20\n",
      "363/363 [==============================] - 1s 2ms/step - loss: 0.5365 - output_loss: 0.4814 - aux_output_loss: 1.0319 - val_loss: 0.5432 - val_output_loss: 0.4894 - val_aux_output_loss: 1.0273\n",
      "Epoch 5/20\n",
      "363/363 [==============================] - 1s 3ms/step - loss: 0.4985 - output_loss: 0.4519 - aux_output_loss: 0.9183 - val_loss: 0.5123 - val_output_loss: 0.4668 - val_aux_output_loss: 0.9218\n",
      "Epoch 6/20\n",
      "363/363 [==============================] - 1s 3ms/step - loss: 0.4741 - output_loss: 0.4348 - aux_output_loss: 0.8285 - val_loss: 0.4945 - val_output_loss: 0.4559 - val_aux_output_loss: 0.8424\n",
      "Epoch 7/20\n",
      "363/363 [==============================] - 1s 3ms/step - loss: 0.4576 - output_loss: 0.4230 - aux_output_loss: 0.7693 - val_loss: 0.4766 - val_output_loss: 0.4430 - val_aux_output_loss: 0.7782\n",
      "Epoch 8/20\n",
      "363/363 [==============================] - 1s 3ms/step - loss: 0.4454 - output_loss: 0.4144 - aux_output_loss: 0.7250 - val_loss: 0.4634 - val_output_loss: 0.4321 - val_aux_output_loss: 0.7456\n",
      "Epoch 9/20\n",
      "363/363 [==============================] - 1s 3ms/step - loss: 0.4331 - output_loss: 0.4054 - aux_output_loss: 0.6829 - val_loss: 0.4567 - val_output_loss: 0.4288 - val_aux_output_loss: 0.7082\n",
      "Epoch 10/20\n",
      "363/363 [==============================] - 1s 3ms/step - loss: 0.4325 - output_loss: 0.4056 - aux_output_loss: 0.6743 - val_loss: 0.4539 - val_output_loss: 0.4244 - val_aux_output_loss: 0.7192\n",
      "Epoch 11/20\n",
      "363/363 [==============================] - 1s 3ms/step - loss: 0.4212 - output_loss: 0.3951 - aux_output_loss: 0.6556 - val_loss: 0.4385 - val_output_loss: 0.4131 - val_aux_output_loss: 0.6673\n",
      "Epoch 12/20\n",
      "363/363 [==============================] - 1s 3ms/step - loss: 0.4134 - output_loss: 0.3896 - aux_output_loss: 0.6271 - val_loss: 0.4352 - val_output_loss: 0.4114 - val_aux_output_loss: 0.6498\n",
      "Epoch 13/20\n",
      "363/363 [==============================] - 1s 3ms/step - loss: 0.4011 - output_loss: 0.3784 - aux_output_loss: 0.6059 - val_loss: 0.4262 - val_output_loss: 0.4031 - val_aux_output_loss: 0.6342\n",
      "Epoch 14/20\n",
      "363/363 [==============================] - 1s 2ms/step - loss: 0.4019 - output_loss: 0.3787 - aux_output_loss: 0.6105 - val_loss: 0.4243 - val_output_loss: 0.4006 - val_aux_output_loss: 0.6374\n",
      "Epoch 15/20\n",
      "363/363 [==============================] - 1s 2ms/step - loss: 0.3936 - output_loss: 0.3715 - aux_output_loss: 0.5929 - val_loss: 0.4163 - val_output_loss: 0.3942 - val_aux_output_loss: 0.6152\n",
      "Epoch 16/20\n",
      "363/363 [==============================] - 1s 2ms/step - loss: 0.3887 - output_loss: 0.3673 - aux_output_loss: 0.5813 - val_loss: 0.4115 - val_output_loss: 0.3899 - val_aux_output_loss: 0.6065\n",
      "Epoch 17/20\n",
      "363/363 [==============================] - 1s 2ms/step - loss: 0.3833 - output_loss: 0.3621 - aux_output_loss: 0.5741 - val_loss: 0.4064 - val_output_loss: 0.3852 - val_aux_output_loss: 0.5971\n",
      "Epoch 18/20\n",
      "363/363 [==============================] - 1s 2ms/step - loss: 0.3814 - output_loss: 0.3612 - aux_output_loss: 0.5631 - val_loss: 0.4121 - val_output_loss: 0.3922 - val_aux_output_loss: 0.5904\n",
      "Epoch 19/20\n",
      "363/363 [==============================] - 1s 2ms/step - loss: 0.3798 - output_loss: 0.3593 - aux_output_loss: 0.5649 - val_loss: 0.4098 - val_output_loss: 0.3893 - val_aux_output_loss: 0.5947\n",
      "Epoch 20/20\n",
      "363/363 [==============================] - 1s 2ms/step - loss: 0.3716 - output_loss: 0.3515 - aux_output_loss: 0.5529 - val_loss: 0.3971 - val_output_loss: 0.3772 - val_aux_output_loss: 0.5763\n"
     ]
    }
   ],
   "source": [
    "input_A=keras.layers.Input(shape=[5],name=\"wide_input\")\n",
    "input_B=keras.layers.Input(shape=[6],name=\"deep_input\")\n",
    "hidden1=keras.layers.Dense(30,activation=\"relu\")(input_B)\n",
    "hidden2=keras.layers.Dense(30,activation=\"relu\")(hidden1)\n",
    "concat=keras.layers.concatenate([input_A,hidden2])\n",
    "output=keras.layers.Dense(1,name=\"output\")(concat)\n",
    "aux_output=keras.layers.Dense(1,name=\"aux_output\")(hidden2)\n",
    "model=keras.Model(inputs=[input_A,input_B],outputs=[output,aux_output])\n",
    "\n",
    "model.compile(loss=[\"mse\",\"mse\"],loss_weights=[0.9,0.1],optimizer=\"sgd\")\n",
    "history=model.fit([X_train_A,X_train_B],[y_train,y_train],epochs=20,\n",
    "                 validation_data=([X_valid_A,X_valid_B],[y_valid,y_valid]))"
   ]
  },
  {
   "cell_type": "code",
   "execution_count": 27,
   "id": "96d983be",
   "metadata": {},
   "outputs": [],
   "source": [
    "model.save(\"my_keras_model.h5\")"
   ]
  },
  {
   "cell_type": "code",
   "execution_count": 28,
   "id": "f55cb219",
   "metadata": {},
   "outputs": [],
   "source": [
    "model=keras.models.load_model(\"my_keras_model.h5\")"
   ]
  },
  {
   "cell_type": "code",
   "execution_count": 30,
   "id": "9cf603d9",
   "metadata": {
    "collapsed": true
   },
   "outputs": [
    {
     "name": "stdout",
     "output_type": "stream",
     "text": [
      "Epoch 1/10\n",
      "363/363 [==============================] - 1s 2ms/step - loss: 0.3358 - output_loss: 0.3216 - aux_output_loss: 0.4640 - val_loss: 0.3598 - val_output_loss: 0.3466 - val_aux_output_loss: 0.4785\n",
      "Epoch 2/10\n",
      "363/363 [==============================] - 1s 3ms/step - loss: 0.3354 - output_loss: 0.3217 - aux_output_loss: 0.4592 - val_loss: 0.3702 - val_output_loss: 0.3568 - val_aux_output_loss: 0.4910\n",
      "Epoch 3/10\n",
      "363/363 [==============================] - 1s 3ms/step - loss: 0.3323 - output_loss: 0.3186 - aux_output_loss: 0.4551 - val_loss: 0.3588 - val_output_loss: 0.3459 - val_aux_output_loss: 0.4749\n",
      "Epoch 4/10\n",
      "363/363 [==============================] - 1s 3ms/step - loss: 0.3322 - output_loss: 0.3186 - aux_output_loss: 0.4538 - val_loss: 0.3668 - val_output_loss: 0.3551 - val_aux_output_loss: 0.4718\n",
      "Epoch 5/10\n",
      "363/363 [==============================] - 1s 2ms/step - loss: 0.3322 - output_loss: 0.3193 - aux_output_loss: 0.4490 - val_loss: 0.3561 - val_output_loss: 0.3437 - val_aux_output_loss: 0.4676\n",
      "Epoch 6/10\n",
      "363/363 [==============================] - 1s 2ms/step - loss: 0.3294 - output_loss: 0.3165 - aux_output_loss: 0.4450 - val_loss: 0.3554 - val_output_loss: 0.3431 - val_aux_output_loss: 0.4667\n",
      "Epoch 7/10\n",
      "363/363 [==============================] - 1s 2ms/step - loss: 0.3292 - output_loss: 0.3166 - aux_output_loss: 0.4431 - val_loss: 0.3631 - val_output_loss: 0.3519 - val_aux_output_loss: 0.4635\n",
      "Epoch 8/10\n",
      "363/363 [==============================] - 1s 2ms/step - loss: 0.3280 - output_loss: 0.3157 - aux_output_loss: 0.4387 - val_loss: 0.3601 - val_output_loss: 0.3482 - val_aux_output_loss: 0.4671\n",
      "Epoch 9/10\n",
      "363/363 [==============================] - 1s 2ms/step - loss: 0.3275 - output_loss: 0.3155 - aux_output_loss: 0.4350 - val_loss: 0.3574 - val_output_loss: 0.3458 - val_aux_output_loss: 0.4621\n",
      "Epoch 10/10\n",
      "363/363 [==============================] - 1s 3ms/step - loss: 0.3269 - output_loss: 0.3149 - aux_output_loss: 0.4349 - val_loss: 0.3499 - val_output_loss: 0.3389 - val_aux_output_loss: 0.4496\n"
     ]
    }
   ],
   "source": [
    "checkpoint_cb=keras.callbacks.ModelCheckpoint(\"my_keras_model.h5\",\n",
    "                                             save_best_only=True)\n",
    "history=model.fit([X_train_A,X_train_B],[y_train,y_train],epochs=10,\n",
    "                 validation_data=([X_valid_A,X_valid_B],[y_valid,y_valid]),\n",
    "                 callbacks=[checkpoint_cb])"
   ]
  },
  {
   "cell_type": "code",
   "execution_count": 31,
   "id": "6cda402e",
   "metadata": {
    "collapsed": true
   },
   "outputs": [
    {
     "name": "stdout",
     "output_type": "stream",
     "text": [
      "Epoch 1/10\n",
      "363/363 [==============================] - 1s 2ms/step - loss: 0.3252 - output_loss: 0.3133 - aux_output_loss: 0.4321 - val_loss: 0.3507 - val_output_loss: 0.3398 - val_aux_output_loss: 0.4486\n",
      "Epoch 2/10\n",
      "363/363 [==============================] - 1s 3ms/step - loss: 0.3249 - output_loss: 0.3134 - aux_output_loss: 0.4283 - val_loss: 0.3649 - val_output_loss: 0.3535 - val_aux_output_loss: 0.4675\n",
      "Epoch 3/10\n",
      "363/363 [==============================] - 1s 3ms/step - loss: 0.3225 - output_loss: 0.3111 - aux_output_loss: 0.4252 - val_loss: 0.3485 - val_output_loss: 0.3380 - val_aux_output_loss: 0.4427\n",
      "Epoch 4/10\n",
      "363/363 [==============================] - 1s 3ms/step - loss: 0.3224 - output_loss: 0.3111 - aux_output_loss: 0.4242 - val_loss: 0.3598 - val_output_loss: 0.3503 - val_aux_output_loss: 0.4460\n",
      "Epoch 5/10\n",
      "363/363 [==============================] - 1s 2ms/step - loss: 0.3226 - output_loss: 0.3117 - aux_output_loss: 0.4212 - val_loss: 0.3472 - val_output_loss: 0.3367 - val_aux_output_loss: 0.4413\n",
      "Epoch 6/10\n",
      "363/363 [==============================] - 1s 2ms/step - loss: 0.3205 - output_loss: 0.3097 - aux_output_loss: 0.4178 - val_loss: 0.3479 - val_output_loss: 0.3376 - val_aux_output_loss: 0.4405\n",
      "Epoch 7/10\n",
      "363/363 [==============================] - 1s 2ms/step - loss: 0.3207 - output_loss: 0.3100 - aux_output_loss: 0.4168 - val_loss: 0.3560 - val_output_loss: 0.3466 - val_aux_output_loss: 0.4408\n",
      "Epoch 8/10\n",
      "363/363 [==============================] - 1s 2ms/step - loss: 0.3201 - output_loss: 0.3096 - aux_output_loss: 0.4145 - val_loss: 0.3507 - val_output_loss: 0.3408 - val_aux_output_loss: 0.4397\n",
      "Epoch 9/10\n",
      "363/363 [==============================] - 1s 2ms/step - loss: 0.3188 - output_loss: 0.3085 - aux_output_loss: 0.4113 - val_loss: 0.3502 - val_output_loss: 0.3401 - val_aux_output_loss: 0.4406\n",
      "Epoch 10/10\n",
      "363/363 [==============================] - 1s 3ms/step - loss: 0.3187 - output_loss: 0.3084 - aux_output_loss: 0.4114 - val_loss: 0.3432 - val_output_loss: 0.3339 - val_aux_output_loss: 0.4273\n"
     ]
    }
   ],
   "source": [
    "early_stopping_cb=keras.callbacks.EarlyStopping(patience=10,\n",
    "                                               restore_best_weights=True)\n",
    "history=model.fit([X_train_A,X_train_B],[y_train,y_train],epochs=10,\n",
    "                 validation_data=([X_valid_A,X_valid_B],[y_valid,y_valid]),\n",
    "                 callbacks=[checkpoint_cb,early_stopping_cb ])"
   ]
  },
  {
   "cell_type": "code",
   "execution_count": 34,
   "id": "ee906aeb",
   "metadata": {
    "collapsed": true
   },
   "outputs": [
    {
     "name": "stdout",
     "output_type": "stream",
     "text": [
      "Epoch 1/10\n",
      "344/363 [===========================>..] - ETA: 0s - loss: 0.3187 - output_loss: 0.3085 - aux_output_loss: 0.4110\n",
      "val/train:1.09\n",
      "363/363 [==============================] - 1s 2ms/step - loss: 0.3174 - output_loss: 0.3072 - aux_output_loss: 0.4087 - val_loss: 0.3445 - val_output_loss: 0.3351 - val_aux_output_loss: 0.4283\n",
      "Epoch 2/10\n",
      "356/363 [============================>.] - ETA: 0s - loss: 0.3172 - output_loss: 0.3074 - aux_output_loss: 0.4054\n",
      "val/train:1.13\n",
      "363/363 [==============================] - 1s 2ms/step - loss: 0.3173 - output_loss: 0.3075 - aux_output_loss: 0.4059 - val_loss: 0.3584 - val_output_loss: 0.3487 - val_aux_output_loss: 0.4457\n",
      "Epoch 3/10\n",
      "362/363 [============================>.] - ETA: 0s - loss: 0.3151 - output_loss: 0.3052 - aux_output_loss: 0.4036\n",
      "val/train:1.08\n",
      "363/363 [==============================] - 1s 2ms/step - loss: 0.3149 - output_loss: 0.3051 - aux_output_loss: 0.4032 - val_loss: 0.3409 - val_output_loss: 0.3319 - val_aux_output_loss: 0.4224\n",
      "Epoch 4/10\n",
      "347/363 [===========================>..] - ETA: 0s - loss: 0.3128 - output_loss: 0.3030 - aux_output_loss: 0.4007\n",
      "val/train:1.13\n",
      "363/363 [==============================] - 1s 3ms/step - loss: 0.3150 - output_loss: 0.3052 - aux_output_loss: 0.4030 - val_loss: 0.3561 - val_output_loss: 0.3478 - val_aux_output_loss: 0.4310\n",
      "Epoch 5/10\n",
      "361/363 [============================>.] - ETA: 0s - loss: 0.3154 - output_loss: 0.3058 - aux_output_loss: 0.4013\n",
      "val/train:1.08\n",
      "363/363 [==============================] - 1s 2ms/step - loss: 0.3152 - output_loss: 0.3056 - aux_output_loss: 0.4008 - val_loss: 0.3414 - val_output_loss: 0.3324 - val_aux_output_loss: 0.4228\n",
      "Epoch 6/10\n",
      "359/363 [============================>.] - ETA: 0s - loss: 0.3139 - output_loss: 0.3045 - aux_output_loss: 0.3987\n",
      "val/train:1.09\n",
      "363/363 [==============================] - 1s 3ms/step - loss: 0.3134 - output_loss: 0.3039 - aux_output_loss: 0.3989 - val_loss: 0.3425 - val_output_loss: 0.3335 - val_aux_output_loss: 0.4230\n",
      "Epoch 7/10\n",
      "360/363 [============================>.] - ETA: 0s - loss: 0.3139 - output_loss: 0.3045 - aux_output_loss: 0.3982\n",
      "val/train:1.12\n",
      "363/363 [==============================] - 1s 2ms/step - loss: 0.3139 - output_loss: 0.3045 - aux_output_loss: 0.3980 - val_loss: 0.3531 - val_output_loss: 0.3448 - val_aux_output_loss: 0.4279\n",
      "Epoch 8/10\n",
      "363/363 [==============================] - ETA: 0s - loss: 0.3137 - output_loss: 0.3044 - aux_output_loss: 0.3970- ETA: 0s - loss: 0.3153 - output_loss: 0.3058 - aux_output_loss: 0.\n",
      "val/train:1.10\n",
      "363/363 [==============================] - 1s 2ms/step - loss: 0.3137 - output_loss: 0.3044 - aux_output_loss: 0.3970 - val_loss: 0.3452 - val_output_loss: 0.3364 - val_aux_output_loss: 0.4241\n",
      "Epoch 9/10\n",
      "355/363 [============================>.] - ETA: 0s - loss: 0.3129 - output_loss: 0.3038 - aux_output_loss: 0.3945\n",
      "val/train:1.11\n",
      "363/363 [==============================] - 1s 3ms/step - loss: 0.3124 - output_loss: 0.3033 - aux_output_loss: 0.3941 - val_loss: 0.3458 - val_output_loss: 0.3369 - val_aux_output_loss: 0.4259\n",
      "Epoch 10/10\n",
      "342/363 [===========================>..] - ETA: 0s - loss: 0.3113 - output_loss: 0.3022 - aux_output_loss: 0.3930\n",
      "val/train:1.08\n",
      "363/363 [==============================] - 1s 2ms/step - loss: 0.3125 - output_loss: 0.3034 - aux_output_loss: 0.3951 - val_loss: 0.3377 - val_output_loss: 0.3294 - val_aux_output_loss: 0.4132\n"
     ]
    }
   ],
   "source": [
    "class PrintValTrainRatioCallback(keras.callbacks.Callback):\n",
    "    def on_epoch_end(self,epoch,logs):\n",
    "        print(\"\\nval/train:{:.2f}\".format(logs[\"val_loss\"]/logs[\"loss\"]))\n",
    "        \n",
    "pnt_ratio_cb=PrintValTrainRatioCallback()\n",
    "history=model.fit([X_train_A,X_train_B],[y_train,y_train],epochs=10,\n",
    "                 validation_data=([X_valid_A,X_valid_B],[y_valid,y_valid]),\n",
    "                 callbacks=[checkpoint_cb,early_stopping_cb, pnt_ratio_cb ])"
   ]
  },
  {
   "cell_type": "code",
   "execution_count": 62,
   "id": "7964292b",
   "metadata": {},
   "outputs": [],
   "source": [
    "root_logdir=os.path.join(os.curdir,\"my_logs\")\n",
    "\n",
    "def get_run_logdir():\n",
    "    run_id=time.strftime(\"run_%Y_%m_%d-%H_%M_%S\")\n",
    "    return os.path.join(root_logdir,run_id)\n",
    "\n",
    "run_logdir=get_run_logdir()"
   ]
  },
  {
   "cell_type": "code",
   "execution_count": 39,
   "id": "e705dd48",
   "metadata": {
    "collapsed": true
   },
   "outputs": [
    {
     "name": "stdout",
     "output_type": "stream",
     "text": [
      "Epoch 1/10\n",
      "  1/363 [..............................] - ETA: 0s - loss: 0.2532 - output_loss: 0.2480 - aux_output_loss: 0.3005WARNING:tensorflow:From C:\\Users\\Daniel\\anaconda3\\envs\\py37ml\\lib\\site-packages\\tensorflow\\python\\ops\\summary_ops_v2.py:1277: stop (from tensorflow.python.eager.profiler) is deprecated and will be removed after 2020-07-01.\n",
      "Instructions for updating:\n",
      "use `tf.profiler.experimental.stop` instead.\n",
      "  2/363 [..............................] - ETA: 38s - loss: 0.2169 - output_loss: 0.2108 - aux_output_loss: 0.2720WARNING:tensorflow:Callbacks method `on_train_batch_end` is slow compared to the batch time (batch time: 0.0050s vs `on_train_batch_end` time: 0.2096s). Check your callbacks.\n",
      "363/363 [==============================] - 1s 3ms/step - loss: 0.3114 - output_loss: 0.3022 - aux_output_loss: 0.3936 - val_loss: 0.3394 - val_output_loss: 0.3311 - val_aux_output_loss: 0.4141\n",
      "Epoch 2/10\n",
      "363/363 [==============================] - 1s 3ms/step - loss: 0.3114 - output_loss: 0.3025 - aux_output_loss: 0.3912 - val_loss: 0.3530 - val_output_loss: 0.3445 - val_aux_output_loss: 0.4290\n",
      "Epoch 3/10\n",
      "363/363 [==============================] - 1s 3ms/step - loss: 0.3091 - output_loss: 0.3002 - aux_output_loss: 0.3892 - val_loss: 0.3374 - val_output_loss: 0.3293 - val_aux_output_loss: 0.4104\n",
      "Epoch 4/10\n",
      "363/363 [==============================] - 1s 2ms/step - loss: 0.3093 - output_loss: 0.3003 - aux_output_loss: 0.3896 - val_loss: 0.3504 - val_output_loss: 0.3428 - val_aux_output_loss: 0.4189\n",
      "Epoch 5/10\n",
      "363/363 [==============================] - 1s 3ms/step - loss: 0.3095 - output_loss: 0.3008 - aux_output_loss: 0.3882 - val_loss: 0.3369 - val_output_loss: 0.3287 - val_aux_output_loss: 0.4112\n",
      "Epoch 6/10\n",
      "363/363 [==============================] - 1s 3ms/step - loss: 0.3079 - output_loss: 0.2992 - aux_output_loss: 0.3863 - val_loss: 0.3389 - val_output_loss: 0.3309 - val_aux_output_loss: 0.4106\n",
      "Epoch 7/10\n",
      "363/363 [==============================] - 1s 3ms/step - loss: 0.3085 - output_loss: 0.2999 - aux_output_loss: 0.3853 - val_loss: 0.3490 - val_output_loss: 0.3411 - val_aux_output_loss: 0.4201\n",
      "Epoch 8/10\n",
      "363/363 [==============================] - 1s 3ms/step - loss: 0.3085 - output_loss: 0.3001 - aux_output_loss: 0.3847 - val_loss: 0.3397 - val_output_loss: 0.3314 - val_aux_output_loss: 0.4150\n",
      "Epoch 9/10\n",
      "363/363 [==============================] - 1s 3ms/step - loss: 0.3068 - output_loss: 0.2982 - aux_output_loss: 0.3839 - val_loss: 0.3420 - val_output_loss: 0.3337 - val_aux_output_loss: 0.4161\n",
      "Epoch 10/10\n",
      "363/363 [==============================] - 1s 3ms/step - loss: 0.3073 - output_loss: 0.2988 - aux_output_loss: 0.3835 - val_loss: 0.3332 - val_output_loss: 0.3251 - val_aux_output_loss: 0.4060\n"
     ]
    }
   ],
   "source": [
    "tensorboard_cb=keras.callbacks.TensorBoard(run_logdir)\n",
    "history=model.fit([X_train_A,X_train_B],[y_train,y_train],epochs=10,\n",
    "                 validation_data=([X_valid_A,X_valid_B],[y_valid,y_valid]),\n",
    "                 callbacks=[tensorboard_cb])"
   ]
  },
  {
   "cell_type": "code",
   "execution_count": 40,
   "id": "8eeea9c7",
   "metadata": {},
   "outputs": [
    {
     "data": {
      "text/plain": [
       "ERROR: Timed out waiting for TensorBoard to start. It may still be running as pid 4432."
      ]
     },
     "metadata": {},
     "output_type": "display_data"
    }
   ],
   "source": [
    "%load_ext tensorboard\n",
    "%tensorboard --logdir=./my_logs --port=6006"
   ]
  },
  {
   "cell_type": "code",
   "execution_count": 6,
   "id": "f8ec1d5e",
   "metadata": {
    "collapsed": true
   },
   "outputs": [
    {
     "name": "stdout",
     "output_type": "stream",
     "text": [
      "Epoch 1/100\n",
      "363/363 [==============================] - 1s 2ms/step - loss: 1.1461 - val_loss: 0.6834\n",
      "Epoch 2/100\n",
      "363/363 [==============================] - 1s 2ms/step - loss: 0.5648 - val_loss: 0.6014\n",
      "Epoch 3/100\n",
      "363/363 [==============================] - 1s 2ms/step - loss: 0.4927 - val_loss: 0.5004\n",
      "Epoch 4/100\n",
      "363/363 [==============================] - 1s 2ms/step - loss: 0.4469 - val_loss: 0.5548\n",
      "Epoch 5/100\n",
      "363/363 [==============================] - 1s 2ms/step - loss: 0.4261 - val_loss: 0.4480\n",
      "Epoch 6/100\n",
      "363/363 [==============================] - 1s 2ms/step - loss: 0.4137 - val_loss: 0.4685\n",
      "Epoch 7/100\n",
      "363/363 [==============================] - 1s 1ms/step - loss: 0.4060 - val_loss: 0.4472\n",
      "Epoch 8/100\n",
      "363/363 [==============================] - 1s 2ms/step - loss: 0.3986 - val_loss: 0.4383\n",
      "Epoch 9/100\n",
      "363/363 [==============================] - 1s 2ms/step - loss: 0.3918 - val_loss: 0.4173\n",
      "Epoch 10/100\n",
      "363/363 [==============================] - 1s 1ms/step - loss: 0.3865 - val_loss: 0.5226\n",
      "Epoch 11/100\n",
      "363/363 [==============================] - 1s 2ms/step - loss: 0.3826 - val_loss: 0.4324\n",
      "Epoch 12/100\n",
      "363/363 [==============================] - 1s 2ms/step - loss: 0.3824 - val_loss: 0.4253\n",
      "Epoch 13/100\n",
      "363/363 [==============================] - 1s 2ms/step - loss: 0.3773 - val_loss: 0.5146\n",
      "Epoch 14/100\n",
      "363/363 [==============================] - 1s 1ms/step - loss: 0.3724 - val_loss: 0.3947\n",
      "Epoch 15/100\n",
      "363/363 [==============================] - 1s 2ms/step - loss: 0.3693 - val_loss: 0.4062\n",
      "Epoch 16/100\n",
      "363/363 [==============================] - 1s 2ms/step - loss: 0.3671 - val_loss: 0.4274\n",
      "Epoch 17/100\n",
      "363/363 [==============================] - 1s 1ms/step - loss: 0.3648 - val_loss: 0.4334\n",
      "Epoch 18/100\n",
      "363/363 [==============================] - 1s 2ms/step - loss: 0.3634 - val_loss: 0.4194\n",
      "Epoch 19/100\n",
      "363/363 [==============================] - 1s 2ms/step - loss: 0.3611 - val_loss: 0.3939\n",
      "Epoch 20/100\n",
      "363/363 [==============================] - 1s 2ms/step - loss: 0.3590 - val_loss: 0.4154\n",
      "Epoch 21/100\n",
      "363/363 [==============================] - 1s 2ms/step - loss: 0.3579 - val_loss: 0.3971\n",
      "Epoch 22/100\n",
      "363/363 [==============================] - 1s 2ms/step - loss: 0.3563 - val_loss: 0.3838\n",
      "Epoch 23/100\n",
      "363/363 [==============================] - 1s 2ms/step - loss: 0.3547 - val_loss: 0.4068\n",
      "Epoch 24/100\n",
      "363/363 [==============================] - 1s 1ms/step - loss: 0.3538 - val_loss: 0.4177\n",
      "Epoch 25/100\n",
      "363/363 [==============================] - 1s 2ms/step - loss: 0.3523 - val_loss: 0.3971\n",
      "Epoch 26/100\n",
      "363/363 [==============================] - 1s 2ms/step - loss: 0.3506 - val_loss: 0.4542\n",
      "Epoch 27/100\n",
      "363/363 [==============================] - 1s 1ms/step - loss: 0.3502 - val_loss: 0.3779\n",
      "Epoch 28/100\n",
      "363/363 [==============================] - 1s 2ms/step - loss: 0.3486 - val_loss: 0.4108\n",
      "Epoch 29/100\n",
      "363/363 [==============================] - 1s 2ms/step - loss: 0.3485 - val_loss: 0.3921\n",
      "Epoch 30/100\n",
      "363/363 [==============================] - 1s 2ms/step - loss: 0.3478 - val_loss: 0.3785\n",
      "Epoch 31/100\n",
      "363/363 [==============================] - 1s 1ms/step - loss: 0.3473 - val_loss: 0.3756\n",
      "Epoch 32/100\n",
      "363/363 [==============================] - 1s 2ms/step - loss: 0.3458 - val_loss: 0.3809\n",
      "Epoch 33/100\n",
      "363/363 [==============================] - 1s 2ms/step - loss: 0.3449 - val_loss: 0.4472\n",
      "Epoch 34/100\n",
      "363/363 [==============================] - 1s 1ms/step - loss: 0.3442 - val_loss: 0.4235\n",
      "Epoch 35/100\n",
      "363/363 [==============================] - 1s 2ms/step - loss: 0.3434 - val_loss: 0.3727\n",
      "Epoch 36/100\n",
      "363/363 [==============================] - 1s 2ms/step - loss: 0.3423 - val_loss: 0.4526\n",
      "Epoch 37/100\n",
      "363/363 [==============================] - 1s 2ms/step - loss: 0.3421 - val_loss: 0.3801\n",
      "Epoch 38/100\n",
      "363/363 [==============================] - 1s 1ms/step - loss: 0.3409 - val_loss: 0.3737\n",
      "Epoch 39/100\n",
      "363/363 [==============================] - 1s 2ms/step - loss: 0.3399 - val_loss: 0.4072\n",
      "Epoch 40/100\n",
      "363/363 [==============================] - 1s 2ms/step - loss: 0.3401 - val_loss: 0.3750\n",
      "Epoch 41/100\n",
      "363/363 [==============================] - 1s 1ms/step - loss: 0.3397 - val_loss: 0.3727\n",
      "Epoch 42/100\n",
      "363/363 [==============================] - 1s 2ms/step - loss: 0.3387 - val_loss: 0.4205\n",
      "Epoch 43/100\n",
      "363/363 [==============================] - 1s 2ms/step - loss: 0.3385 - val_loss: 0.3727\n",
      "Epoch 44/100\n",
      "363/363 [==============================] - 1s 2ms/step - loss: 0.3382 - val_loss: 0.3666\n",
      "Epoch 45/100\n",
      "363/363 [==============================] - 1s 2ms/step - loss: 0.3375 - val_loss: 0.3686\n",
      "Epoch 46/100\n",
      "363/363 [==============================] - 1s 2ms/step - loss: 0.3367 - val_loss: 0.4305\n",
      "Epoch 47/100\n",
      "363/363 [==============================] - 1s 2ms/step - loss: 0.3363 - val_loss: 0.3706\n",
      "Epoch 48/100\n",
      "363/363 [==============================] - 1s 1ms/step - loss: 0.3362 - val_loss: 0.3671\n",
      "Epoch 49/100\n",
      "363/363 [==============================] - 1s 2ms/step - loss: 0.3358 - val_loss: 0.3656\n",
      "Epoch 50/100\n",
      "363/363 [==============================] - 1s 2ms/step - loss: 0.3344 - val_loss: 0.4683\n",
      "Epoch 51/100\n",
      "363/363 [==============================] - 1s 2ms/step - loss: 0.3347 - val_loss: 0.4076\n",
      "Epoch 52/100\n",
      "363/363 [==============================] - 1s 2ms/step - loss: 0.3338 - val_loss: 0.3840\n",
      "Epoch 53/100\n",
      "363/363 [==============================] - 1s 2ms/step - loss: 0.3337 - val_loss: 0.3662\n",
      "Epoch 54/100\n",
      "363/363 [==============================] - 1s 2ms/step - loss: 0.3329 - val_loss: 0.4229\n",
      "Epoch 55/100\n",
      "363/363 [==============================] - 1s 1ms/step - loss: 0.3324 - val_loss: 0.4579\n",
      "Epoch 56/100\n",
      "363/363 [==============================] - 1s 2ms/step - loss: 0.3323 - val_loss: 0.4127\n",
      "Epoch 57/100\n",
      "363/363 [==============================] - 1s 2ms/step - loss: 0.3318 - val_loss: 0.3746\n",
      "Epoch 58/100\n",
      "363/363 [==============================] - 1s 2ms/step - loss: 0.3319 - val_loss: 0.3621\n",
      "Epoch 59/100\n",
      "363/363 [==============================] - 1s 2ms/step - loss: 0.3302 - val_loss: 0.3638\n",
      "Epoch 60/100\n",
      "363/363 [==============================] - 1s 2ms/step - loss: 0.3309 - val_loss: 0.3663\n",
      "Epoch 61/100\n",
      "363/363 [==============================] - 1s 2ms/step - loss: 0.3298 - val_loss: 0.3614\n",
      "Epoch 62/100\n",
      "363/363 [==============================] - 1s 1ms/step - loss: 0.3301 - val_loss: 0.3802\n",
      "Epoch 63/100\n",
      "363/363 [==============================] - 1s 2ms/step - loss: 0.3291 - val_loss: 0.3626\n",
      "Epoch 64/100\n",
      "363/363 [==============================] - 1s 2ms/step - loss: 0.3291 - val_loss: 0.4467\n",
      "Epoch 65/100\n",
      "363/363 [==============================] - 1s 1ms/step - loss: 0.3302 - val_loss: 0.3698\n",
      "Epoch 66/100\n",
      "363/363 [==============================] - 1s 2ms/step - loss: 0.3277 - val_loss: 0.4207\n",
      "Epoch 67/100\n",
      "363/363 [==============================] - 1s 2ms/step - loss: 0.3279 - val_loss: 0.3792\n",
      "Epoch 68/100\n",
      "363/363 [==============================] - 1s 2ms/step - loss: 0.3274 - val_loss: 0.3606\n",
      "Epoch 69/100\n",
      "363/363 [==============================] - 1s 1ms/step - loss: 0.3276 - val_loss: 0.4196\n",
      "Epoch 70/100\n",
      "363/363 [==============================] - 1s 2ms/step - loss: 0.3267 - val_loss: 0.3599\n",
      "Epoch 71/100\n",
      "363/363 [==============================] - 1s 2ms/step - loss: 0.3263 - val_loss: 0.3895\n",
      "Epoch 72/100\n",
      "363/363 [==============================] - 1s 1ms/step - loss: 0.3267 - val_loss: 0.3691\n",
      "Epoch 73/100\n",
      "363/363 [==============================] - 1s 2ms/step - loss: 0.3268 - val_loss: 0.4811\n",
      "Epoch 74/100\n",
      "363/363 [==============================] - 1s 2ms/step - loss: 0.3274 - val_loss: 0.3605\n",
      "Epoch 75/100\n",
      "363/363 [==============================] - 1s 2ms/step - loss: 0.3253 - val_loss: 0.3570\n",
      "Epoch 76/100\n",
      "363/363 [==============================] - 1s 1ms/step - loss: 0.3251 - val_loss: 0.3575\n",
      "Epoch 77/100\n",
      "363/363 [==============================] - 1s 2ms/step - loss: 0.3242 - val_loss: 0.3755\n",
      "Epoch 78/100\n",
      "363/363 [==============================] - 1s 2ms/step - loss: 0.3233 - val_loss: 0.4821\n",
      "Epoch 79/100\n",
      "363/363 [==============================] - 1s 1ms/step - loss: 0.3239 - val_loss: 0.4055\n",
      "Epoch 80/100\n",
      "363/363 [==============================] - 1s 2ms/step - loss: 0.3229 - val_loss: 0.3917\n",
      "Epoch 81/100\n",
      "363/363 [==============================] - 1s 2ms/step - loss: 0.3229 - val_loss: 0.4470\n",
      "Epoch 82/100\n",
      "363/363 [==============================] - 1s 2ms/step - loss: 0.3224 - val_loss: 0.3970\n",
      "Epoch 83/100\n",
      "363/363 [==============================] - 1s 2ms/step - loss: 0.3222 - val_loss: 0.3547\n",
      "Epoch 84/100\n",
      "363/363 [==============================] - 1s 2ms/step - loss: 0.3220 - val_loss: 0.3757\n",
      "Epoch 85/100\n",
      "363/363 [==============================] - 1s 2ms/step - loss: 0.3217 - val_loss: 0.4008\n",
      "Epoch 86/100\n",
      "363/363 [==============================] - 1s 1ms/step - loss: 0.3223 - val_loss: 0.4061\n",
      "Epoch 87/100\n",
      "363/363 [==============================] - 1s 2ms/step - loss: 0.3209 - val_loss: 0.4079\n",
      "Epoch 88/100\n",
      "363/363 [==============================] - 1s 2ms/step - loss: 0.3205 - val_loss: 0.4823\n",
      "Epoch 89/100\n",
      "363/363 [==============================] - 1s 2ms/step - loss: 0.3206 - val_loss: 0.4035\n",
      "Epoch 90/100\n",
      "363/363 [==============================] - 1s 1ms/step - loss: 0.3228 - val_loss: 0.4217\n",
      "Epoch 91/100\n",
      "363/363 [==============================] - 1s 2ms/step - loss: 0.3200 - val_loss: 0.3722\n",
      "Epoch 92/100\n",
      "363/363 [==============================] - 1s 2ms/step - loss: 0.3199 - val_loss: 0.3540\n",
      "Epoch 93/100\n",
      "363/363 [==============================] - 1s 2ms/step - loss: 0.3192 - val_loss: 0.3618\n",
      "Epoch 94/100\n",
      "363/363 [==============================] - 1s 2ms/step - loss: 0.3187 - val_loss: 0.3632\n",
      "Epoch 95/100\n",
      "363/363 [==============================] - 1s 2ms/step - loss: 0.3213 - val_loss: 0.3520\n",
      "Epoch 96/100\n",
      "363/363 [==============================] - 1s 2ms/step - loss: 0.3186 - val_loss: 0.3897\n",
      "Epoch 97/100\n",
      "363/363 [==============================] - 1s 2ms/step - loss: 0.3182 - val_loss: 0.3905\n",
      "Epoch 98/100\n",
      "363/363 [==============================] - 1s 2ms/step - loss: 0.3184 - val_loss: 0.3560\n",
      "Epoch 99/100\n",
      "363/363 [==============================] - 1s 2ms/step - loss: 0.3175 - val_loss: 0.3709\n",
      "Epoch 100/100\n",
      "363/363 [==============================] - 1s 2ms/step - loss: 0.3176 - val_loss: 0.4371\n",
      "  1/162 [..............................] - ETA: 0s - loss: 0.4923WARNING:tensorflow:Callbacks method `on_test_batch_end` is slow compared to the batch time (batch time: 0.0000s vs `on_test_batch_end` time: 0.0010s). Check your callbacks.\n",
      "162/162 [==============================] - 0s 926us/step - loss: 0.6655\n",
      "-0.6655368804931641\n",
      "[2.4115167 1.7090827 2.7317872]\n"
     ]
    }
   ],
   "source": [
    "def build_model(n_hidden=1,n_neurons=30,learning_rate=3e-3,input_shape=[8]):\n",
    "    model=keras.models.Sequential()\n",
    "    model.add(keras.layers.InputLayer(input_shape=input_shape))\n",
    "    for layer in range(n_hidden):\n",
    "        model.add(keras.layers.Dense(n_neurons,activation=\"relu\"))\n",
    "    model.add(keras.layers.Dense(1))\n",
    "    optimizer=keras.optimizers.SGD(lr=learning_rate)\n",
    "    model.compile(loss=\"mse\",optimizer=optimizer)\n",
    "    return model\n",
    "\n",
    "keras_reg=keras.wrappers.scikit_learn.KerasRegressor(build_model)\n",
    "keras_reg.fit(X_train,y_train,epochs=100,\n",
    "             validation_data=(X_valid,y_valid),\n",
    "             callbacks=[keras.callbacks.EarlyStopping(patience=10)])\n",
    "mse_test=keras_reg.score(X_test,y_test)\n",
    "y_pred=keras_reg.predict(X_test[:3])\n",
    "print(mse_test)\n",
    "print(y_pred)"
   ]
  },
  {
   "cell_type": "code",
   "execution_count": 19,
   "id": "3340b50d",
   "metadata": {},
   "outputs": [
    {
     "name": "stdout",
     "output_type": "stream",
     "text": [
      "121/121 [==============================] - 0s 1ms/step - loss: 0.4556\n",
      "121/121 [==============================] - 0s 1ms/step - loss: 0.3765\n",
      "121/121 [==============================] - 0s 901us/step - loss: 0.3695\n",
      "121/121 [==============================] - 0s 901us/step - loss: 0.5990\n",
      "  1/121 [..............................] - ETA: 0s - loss: 0.4404WARNING:tensorflow:Callbacks method `on_test_batch_end` is slow compared to the batch time (batch time: 0.0000s vs `on_test_batch_end` time: 0.0010s). Check your callbacks.\n",
      "121/121 [==============================] - 0s 768us/step - loss: 0.5100\n",
      "  1/121 [..............................] - ETA: 0s - loss: 0.6079WARNING:tensorflow:Callbacks method `on_test_batch_end` is slow compared to the batch time (batch time: 0.0000s vs `on_test_batch_end` time: 0.0010s). Check your callbacks.\n",
      "121/121 [==============================] - 0s 934us/step - loss: 0.5091\n",
      "121/121 [==============================] - 0s 2ms/step - loss: 0.3482\n",
      "121/121 [==============================] - 0s 958us/step - loss: 0.3637\n",
      "121/121 [==============================] - 0s 1ms/step - loss: 0.4180\n",
      "121/121 [==============================] - 0s 934us/step - loss: 0.3893\n",
      "121/121 [==============================] - 0s 975us/step - loss: 0.3754\n",
      "121/121 [==============================] - 0s 1ms/step - loss: 0.4337\n",
      "121/121 [==============================] - 0s 1ms/step - loss: 0.3584\n",
      "121/121 [==============================] - 0s 1ms/step - loss: 0.3630\n",
      "121/121 [==============================] - 0s 990us/step - loss: 0.3765\n",
      "  1/121 [..............................] - ETA: 0s - loss: 1.7649WARNING:tensorflow:Callbacks method `on_test_batch_end` is slow compared to the batch time (batch time: 0.0000s vs `on_test_batch_end` time: 0.0010s). Check your callbacks.\n",
      "121/121 [==============================] - 0s 793us/step - loss: 1.8005\n",
      "121/121 [==============================] - 0s 793us/step - loss: 0.9350\n",
      "121/121 [==============================] - 0s 801us/step - loss: 0.8532\n",
      "121/121 [==============================] - 0s 909us/step - loss: 0.6636\n",
      "  1/121 [..............................] - ETA: 0s - loss: 0.4549WARNING:tensorflow:Callbacks method `on_test_batch_end` is slow compared to the batch time (batch time: 0.0000s vs `on_test_batch_end` time: 0.0010s). Check your callbacks.\n",
      "121/121 [==============================] - 0s 917us/step - loss: 0.5454\n",
      "121/121 [==============================] - 0s 909us/step - loss: 0.6347\n",
      "  1/121 [..............................] - ETA: 0s - loss: 1.1097WARNING:tensorflow:Callbacks method `on_test_batch_end` is slow compared to the batch time (batch time: 0.0000s vs `on_test_batch_end` time: 0.0010s). Check your callbacks.\n",
      "121/121 [==============================] - 0s 1000us/step - loss: 1.2732\n",
      "121/121 [==============================] - 0s 1ms/step - loss: 0.8094\n",
      "121/121 [==============================] - 0s 934us/step - loss: 1.5211\n",
      "121/121 [==============================] - 0s 851us/step - loss: 2.8510\n",
      "121/121 [==============================] - 0s 892us/step - loss: 2.4015\n",
      "  1/121 [..............................] - ETA: 0s - loss: 1.8334WARNING:tensorflow:Callbacks method `on_test_batch_begin` is slow compared to the batch time (batch time: 0.0000s vs `on_test_batch_begin` time: 0.0010s). Check your callbacks.\n",
      "WARNING:tensorflow:Callbacks method `on_test_batch_end` is slow compared to the batch time (batch time: 0.0000s vs `on_test_batch_end` time: 0.0010s). Check your callbacks.\n",
      "121/121 [==============================] - 0s 1ms/step - loss: 2.0974\n",
      "121/121 [==============================] - 0s 950us/step - loss: 0.3670\n",
      "121/121 [==============================] - 0s 826us/step - loss: 0.3729\n",
      "121/121 [==============================] - 0s 991us/step - loss: 0.3626\n"
     ]
    },
    {
     "data": {
      "text/plain": [
       "RandomizedSearchCV(cv=3,\n",
       "                   estimator=<tensorflow.python.keras.wrappers.scikit_learn.KerasRegressor object at 0x0000029359C67048>,\n",
       "                   param_distributions={'learning_rate': [0.0003, 0.003, 0.03],\n",
       "                                        'n_hidden': [0, 1, 2, 3],\n",
       "                                        'n_neurons': [1, 2, 3, 4, 5, 6, 7, 8, 9,\n",
       "                                                      10, 11, 12, 13, 14, 15,\n",
       "                                                      16, 17, 18, 19, 20, 21,\n",
       "                                                      22, 23, 24, 25, 26, 27,\n",
       "                                                      28, 29, 30, ...]})"
      ]
     },
     "execution_count": 19,
     "metadata": {},
     "output_type": "execute_result"
    }
   ],
   "source": [
    "param_distribs={\n",
    "    \"n_hidden\":[0,1,2,3],\n",
    "    \"n_neurons\":list(range(1,100)),\n",
    "    \"learning_rate\":[3e-4,3e-3,3e-2]\n",
    "}\n",
    "\n",
    "rnd_search_cv=RandomizedSearchCV(keras_reg,param_distribs,n_iter=10,cv=3)\n",
    "rnd_search_cv.fit(X_train,y_train,epochs=30,\n",
    "                 validation_data=(X_valid,y_valid),\n",
    "                 callbacks=[keras.callbacks.EarlyStopping(patience=5)],\n",
    "                 batch_size=256,\n",
    "                 verbose=0)"
   ]
  },
  {
   "cell_type": "code",
   "execution_count": 20,
   "id": "f6b285d3",
   "metadata": {},
   "outputs": [
    {
     "name": "stdout",
     "output_type": "stream",
     "text": [
      "{'n_neurons': 55, 'n_hidden': 2, 'learning_rate': 0.03}\n",
      "-0.36600056290626526\n"
     ]
    }
   ],
   "source": [
    "print(rnd_search_cv.best_params_)\n",
    "print(rnd_search_cv.best_score_)\n",
    "model=rnd_search_cv.best_estimator_.model"
   ]
  },
  {
   "cell_type": "code",
   "execution_count": 3,
   "id": "442ec91e",
   "metadata": {},
   "outputs": [
    {
     "name": "stdout",
     "output_type": "stream",
     "text": [
      "(55000, 28, 28)\n",
      "(55000,)\n"
     ]
    }
   ],
   "source": [
    "\"\"\"10. Train a deep MLP on the MNIST dataset (you can load it using keras.data\n",
    "sets.mnist.load_data(). See if you can get over 98% precision. Try searching\n",
    "for the optimal learning rate by using the approach presented in this chapter (i.e.,\n",
    "by growing the learning rate exponentially, plotting the loss, and finding the\n",
    "point where the loss shoots up). Try adding all the bells and whistles—save\n",
    "checkpoints, use early stopping, and plot learning curves using TensorBoard.\n",
    "\"\"\"\n",
    "\n",
    "(X_train_full,y_train_full),(X_test,y_test)=keras.datasets.mnist.load_data()\n",
    "\n",
    "X_train_full, X_test=(X_train_full/255.0, X_test/255.0)\n",
    "\n",
    "X_valid,y_valid=(X_train_full[:5000],y_train_full[:5000])\n",
    "X_train,y_train=(X_train_full[5000:],y_train_full[5000:])\n",
    "print(X_train.shape)\n",
    "print(y_train.shape)"
   ]
  },
  {
   "cell_type": "code",
   "execution_count": 22,
   "id": "9bbac4fc",
   "metadata": {},
   "outputs": [
    {
     "name": "stdout",
     "output_type": "stream",
     "text": [
      "Epoch 1/100\n",
      "   1/1719 [..............................] - ETA: 1s - loss: 2.2551 - accuracy: 0.1250WARNING:tensorflow:From C:\\Users\\Daniel\\anaconda3\\envs\\py37ml\\lib\\site-packages\\tensorflow\\python\\ops\\summary_ops_v2.py:1277: stop (from tensorflow.python.eager.profiler) is deprecated and will be removed after 2020-07-01.\n",
      "Instructions for updating:\n",
      "use `tf.profiler.experimental.stop` instead.\n",
      "   2/1719 [..............................] - ETA: 3:16 - loss: 2.2616 - accuracy: 0.0938WARNING:tensorflow:Callbacks method `on_train_batch_end` is slow compared to the batch time (batch time: 0.0030s vs `on_train_batch_end` time: 0.2245s). Check your callbacks.\n",
      "1719/1719 [==============================] - 3s 2ms/step - loss: 2.2894 - accuracy: 0.1613 - val_loss: 2.2874 - val_accuracy: 0.1600\n",
      "Epoch 2/100\n",
      "1719/1719 [==============================] - 3s 2ms/step - loss: 2.2759 - accuracy: 0.1719 - val_loss: 2.2739 - val_accuracy: 0.1702\n",
      "Epoch 3/100\n",
      "1719/1719 [==============================] - 3s 2ms/step - loss: 2.2628 - accuracy: 0.1841 - val_loss: 2.2609 - val_accuracy: 0.1816\n",
      "Epoch 4/100\n",
      "1719/1719 [==============================] - 3s 2ms/step - loss: 2.2501 - accuracy: 0.1967 - val_loss: 2.2482 - val_accuracy: 0.1972\n",
      "Epoch 5/100\n",
      "1719/1719 [==============================] - 3s 2ms/step - loss: 2.2376 - accuracy: 0.2097 - val_loss: 2.2357 - val_accuracy: 0.2116\n",
      "Epoch 6/100\n",
      "1719/1719 [==============================] - 3s 2ms/step - loss: 2.2255 - accuracy: 0.2248 - val_loss: 2.2235 - val_accuracy: 0.2262\n",
      "Epoch 7/100\n",
      "1719/1719 [==============================] - 3s 2ms/step - loss: 2.2135 - accuracy: 0.2406 - val_loss: 2.2115 - val_accuracy: 0.2444\n",
      "Epoch 8/100\n",
      "1719/1719 [==============================] - 3s 2ms/step - loss: 2.2018 - accuracy: 0.2583 - val_loss: 2.1997 - val_accuracy: 0.2626\n",
      "Epoch 9/100\n",
      "1719/1719 [==============================] - 3s 2ms/step - loss: 2.1902 - accuracy: 0.2766 - val_loss: 2.1880 - val_accuracy: 0.2826\n",
      "Epoch 10/100\n",
      "1719/1719 [==============================] - 3s 2ms/step - loss: 2.1787 - accuracy: 0.2958 - val_loss: 2.1765 - val_accuracy: 0.3032\n",
      "Epoch 11/100\n",
      "1719/1719 [==============================] - 3s 2ms/step - loss: 2.1674 - accuracy: 0.3159 - val_loss: 2.1650 - val_accuracy: 0.3250\n",
      "Epoch 12/100\n",
      "1719/1719 [==============================] - 3s 2ms/step - loss: 2.1562 - accuracy: 0.3365 - val_loss: 2.1537 - val_accuracy: 0.3442\n",
      "Epoch 13/100\n",
      "1719/1719 [==============================] - 3s 2ms/step - loss: 2.1451 - accuracy: 0.3559 - val_loss: 2.1425 - val_accuracy: 0.3668\n",
      "Epoch 14/100\n",
      "1719/1719 [==============================] - 3s 2ms/step - loss: 2.1340 - accuracy: 0.3751 - val_loss: 2.1313 - val_accuracy: 0.3852\n",
      "Epoch 15/100\n",
      "1719/1719 [==============================] - 3s 2ms/step - loss: 2.1231 - accuracy: 0.3928 - val_loss: 2.1202 - val_accuracy: 0.4018\n",
      "Epoch 16/100\n",
      "1719/1719 [==============================] - 3s 2ms/step - loss: 2.1121 - accuracy: 0.4089 - val_loss: 2.1091 - val_accuracy: 0.4186\n",
      "Epoch 17/100\n",
      "1719/1719 [==============================] - 3s 2ms/step - loss: 2.1013 - accuracy: 0.4233 - val_loss: 2.0981 - val_accuracy: 0.4330\n",
      "Epoch 18/100\n",
      "1719/1719 [==============================] - 3s 2ms/step - loss: 2.0904 - accuracy: 0.4376 - val_loss: 2.0870 - val_accuracy: 0.4428\n",
      "Epoch 19/100\n",
      "1719/1719 [==============================] - 3s 2ms/step - loss: 2.0796 - accuracy: 0.4512 - val_loss: 2.0760 - val_accuracy: 0.4544\n",
      "Epoch 20/100\n",
      "1719/1719 [==============================] - 3s 2ms/step - loss: 2.0688 - accuracy: 0.4631 - val_loss: 2.0651 - val_accuracy: 0.4676\n",
      "Epoch 21/100\n",
      "1719/1719 [==============================] - 3s 2ms/step - loss: 2.0580 - accuracy: 0.4749 - val_loss: 2.0541 - val_accuracy: 0.4808\n",
      "Epoch 22/100\n",
      "1719/1719 [==============================] - 3s 2ms/step - loss: 2.0472 - accuracy: 0.4861 - val_loss: 2.0431 - val_accuracy: 0.4940\n",
      "Epoch 23/100\n",
      "1719/1719 [==============================] - 3s 2ms/step - loss: 2.0364 - accuracy: 0.4963 - val_loss: 2.0322 - val_accuracy: 0.5060\n",
      "Epoch 24/100\n",
      "1719/1719 [==============================] - 3s 2ms/step - loss: 2.0256 - accuracy: 0.5063 - val_loss: 2.0212 - val_accuracy: 0.5154\n",
      "Epoch 25/100\n",
      "1719/1719 [==============================] - 3s 2ms/step - loss: 2.0148 - accuracy: 0.5147 - val_loss: 2.0103 - val_accuracy: 0.5240\n",
      "Epoch 26/100\n",
      "1719/1719 [==============================] - 3s 2ms/step - loss: 2.0039 - accuracy: 0.5232 - val_loss: 1.9993 - val_accuracy: 0.5320\n",
      "Epoch 27/100\n",
      "1719/1719 [==============================] - 3s 2ms/step - loss: 1.9931 - accuracy: 0.5316 - val_loss: 1.9883 - val_accuracy: 0.5410\n",
      "Epoch 28/100\n",
      "1719/1719 [==============================] - 3s 2ms/step - loss: 1.9822 - accuracy: 0.5401 - val_loss: 1.9773 - val_accuracy: 0.5488\n",
      "Epoch 29/100\n",
      "1719/1719 [==============================] - 3s 2ms/step - loss: 1.9713 - accuracy: 0.5476 - val_loss: 1.9662 - val_accuracy: 0.5548\n",
      "Epoch 30/100\n",
      "1719/1719 [==============================] - 3s 2ms/step - loss: 1.9604 - accuracy: 0.5540 - val_loss: 1.9552 - val_accuracy: 0.5620\n",
      "Epoch 31/100\n",
      "1719/1719 [==============================] - 3s 2ms/step - loss: 1.9495 - accuracy: 0.5610 - val_loss: 1.9441 - val_accuracy: 0.5690\n",
      "Epoch 32/100\n",
      "1719/1719 [==============================] - 3s 2ms/step - loss: 1.9386 - accuracy: 0.5674 - val_loss: 1.9330 - val_accuracy: 0.5752\n",
      "Epoch 33/100\n",
      "1719/1719 [==============================] - 3s 2ms/step - loss: 1.9276 - accuracy: 0.5732 - val_loss: 1.9218 - val_accuracy: 0.5804\n",
      "Epoch 34/100\n",
      "1719/1719 [==============================] - 3s 2ms/step - loss: 1.9166 - accuracy: 0.5794 - val_loss: 1.9107 - val_accuracy: 0.5874\n",
      "Epoch 35/100\n",
      "1719/1719 [==============================] - 3s 2ms/step - loss: 1.9056 - accuracy: 0.5851 - val_loss: 1.8995 - val_accuracy: 0.5930\n",
      "Epoch 36/100\n",
      "1719/1719 [==============================] - 3s 2ms/step - loss: 1.8946 - accuracy: 0.5903 - val_loss: 1.8883 - val_accuracy: 0.5976\n",
      "Epoch 37/100\n",
      "1719/1719 [==============================] - 3s 2ms/step - loss: 1.8835 - accuracy: 0.5958 - val_loss: 1.8771 - val_accuracy: 0.6014\n",
      "Epoch 38/100\n",
      "1719/1719 [==============================] - 3s 2ms/step - loss: 1.8725 - accuracy: 0.6010 - val_loss: 1.8659 - val_accuracy: 0.6060\n",
      "Epoch 39/100\n",
      "1719/1719 [==============================] - 3s 2ms/step - loss: 1.8614 - accuracy: 0.6054 - val_loss: 1.8547 - val_accuracy: 0.6108\n",
      "Epoch 40/100\n",
      "1719/1719 [==============================] - 3s 2ms/step - loss: 1.8503 - accuracy: 0.6096 - val_loss: 1.8434 - val_accuracy: 0.6138\n",
      "Epoch 41/100\n",
      "1719/1719 [==============================] - 3s 2ms/step - loss: 1.8392 - accuracy: 0.6136 - val_loss: 1.8321 - val_accuracy: 0.6182\n",
      "Epoch 42/100\n",
      "1719/1719 [==============================] - 3s 2ms/step - loss: 1.8281 - accuracy: 0.6175 - val_loss: 1.8208 - val_accuracy: 0.6206\n",
      "Epoch 43/100\n",
      "1719/1719 [==============================] - 3s 2ms/step - loss: 1.8169 - accuracy: 0.6206 - val_loss: 1.8095 - val_accuracy: 0.6248\n",
      "Epoch 44/100\n",
      "1719/1719 [==============================] - 3s 2ms/step - loss: 1.8057 - accuracy: 0.6240 - val_loss: 1.7981 - val_accuracy: 0.6282\n",
      "Epoch 45/100\n",
      "1719/1719 [==============================] - 3s 2ms/step - loss: 1.7946 - accuracy: 0.6271 - val_loss: 1.7868 - val_accuracy: 0.6308\n",
      "Epoch 46/100\n",
      "1719/1719 [==============================] - 3s 2ms/step - loss: 1.7834 - accuracy: 0.6302 - val_loss: 1.7755 - val_accuracy: 0.6332\n",
      "Epoch 47/100\n",
      "1719/1719 [==============================] - 3s 2ms/step - loss: 1.7722 - accuracy: 0.6335 - val_loss: 1.7641 - val_accuracy: 0.6360\n",
      "Epoch 48/100\n",
      "1719/1719 [==============================] - 3s 2ms/step - loss: 1.7610 - accuracy: 0.6368 - val_loss: 1.7528 - val_accuracy: 0.6384\n",
      "Epoch 49/100\n",
      "1719/1719 [==============================] - 3s 2ms/step - loss: 1.7498 - accuracy: 0.6402 - val_loss: 1.7414 - val_accuracy: 0.6412\n",
      "Epoch 50/100\n",
      "1719/1719 [==============================] - 3s 2ms/step - loss: 1.7386 - accuracy: 0.6429 - val_loss: 1.7301 - val_accuracy: 0.6440\n",
      "Epoch 51/100\n",
      "1719/1719 [==============================] - 3s 2ms/step - loss: 1.7274 - accuracy: 0.6463 - val_loss: 1.7187 - val_accuracy: 0.6460\n",
      "Epoch 52/100\n",
      "1719/1719 [==============================] - 3s 2ms/step - loss: 1.7162 - accuracy: 0.6489 - val_loss: 1.7074 - val_accuracy: 0.6494\n"
     ]
    },
    {
     "name": "stdout",
     "output_type": "stream",
     "text": [
      "Epoch 53/100\n",
      "1719/1719 [==============================] - 3s 2ms/step - loss: 1.7050 - accuracy: 0.6519 - val_loss: 1.6960 - val_accuracy: 0.6524\n",
      "Epoch 54/100\n",
      "1719/1719 [==============================] - 3s 2ms/step - loss: 1.6938 - accuracy: 0.6543 - val_loss: 1.6847 - val_accuracy: 0.6552\n",
      "Epoch 55/100\n",
      "1719/1719 [==============================] - 3s 2ms/step - loss: 1.6827 - accuracy: 0.6575 - val_loss: 1.6734 - val_accuracy: 0.6564\n",
      "Epoch 56/100\n",
      "1719/1719 [==============================] - 3s 2ms/step - loss: 1.6715 - accuracy: 0.6605 - val_loss: 1.6621 - val_accuracy: 0.6580\n",
      "Epoch 57/100\n",
      "1719/1719 [==============================] - 3s 2ms/step - loss: 1.6603 - accuracy: 0.6628 - val_loss: 1.6508 - val_accuracy: 0.6608\n",
      "Epoch 58/100\n",
      "1719/1719 [==============================] - 3s 2ms/step - loss: 1.6492 - accuracy: 0.6657 - val_loss: 1.6395 - val_accuracy: 0.6652\n",
      "Epoch 59/100\n",
      "1719/1719 [==============================] - 3s 2ms/step - loss: 1.6381 - accuracy: 0.6683 - val_loss: 1.6283 - val_accuracy: 0.6674\n",
      "Epoch 60/100\n",
      "1719/1719 [==============================] - 3s 2ms/step - loss: 1.6270 - accuracy: 0.6707 - val_loss: 1.6170 - val_accuracy: 0.6700\n",
      "Epoch 61/100\n",
      "1719/1719 [==============================] - 3s 2ms/step - loss: 1.6159 - accuracy: 0.6733 - val_loss: 1.6058 - val_accuracy: 0.6726\n",
      "Epoch 62/100\n",
      "1719/1719 [==============================] - 3s 2ms/step - loss: 1.6049 - accuracy: 0.6751 - val_loss: 1.5946 - val_accuracy: 0.6748\n",
      "Epoch 63/100\n",
      "1719/1719 [==============================] - 3s 2ms/step - loss: 1.5938 - accuracy: 0.6773 - val_loss: 1.5835 - val_accuracy: 0.6772\n",
      "Epoch 64/100\n",
      "1719/1719 [==============================] - 3s 2ms/step - loss: 1.5828 - accuracy: 0.6796 - val_loss: 1.5724 - val_accuracy: 0.6808\n",
      "Epoch 65/100\n",
      "1719/1719 [==============================] - 3s 2ms/step - loss: 1.5719 - accuracy: 0.6816 - val_loss: 1.5613 - val_accuracy: 0.6830\n",
      "Epoch 66/100\n",
      "1719/1719 [==============================] - 3s 2ms/step - loss: 1.5610 - accuracy: 0.6837 - val_loss: 1.5502 - val_accuracy: 0.6852\n",
      "Epoch 67/100\n",
      "1719/1719 [==============================] - 3s 2ms/step - loss: 1.5501 - accuracy: 0.6865 - val_loss: 1.5392 - val_accuracy: 0.6876\n",
      "Epoch 68/100\n",
      "1719/1719 [==============================] - 3s 2ms/step - loss: 1.5392 - accuracy: 0.6888 - val_loss: 1.5282 - val_accuracy: 0.6898\n",
      "Epoch 69/100\n",
      "1719/1719 [==============================] - 3s 2ms/step - loss: 1.5284 - accuracy: 0.6914 - val_loss: 1.5173 - val_accuracy: 0.6916\n",
      "Epoch 70/100\n",
      "1719/1719 [==============================] - 3s 2ms/step - loss: 1.5176 - accuracy: 0.6938 - val_loss: 1.5064 - val_accuracy: 0.6942\n",
      "Epoch 71/100\n",
      "1719/1719 [==============================] - 3s 2ms/step - loss: 1.5069 - accuracy: 0.6961 - val_loss: 1.4955 - val_accuracy: 0.6968\n",
      "Epoch 72/100\n",
      "1719/1719 [==============================] - 3s 2ms/step - loss: 1.4962 - accuracy: 0.6978 - val_loss: 1.4847 - val_accuracy: 0.6988\n",
      "Epoch 73/100\n",
      "1719/1719 [==============================] - 3s 2ms/step - loss: 1.4855 - accuracy: 0.7002 - val_loss: 1.4740 - val_accuracy: 0.7016\n",
      "Epoch 74/100\n",
      "1719/1719 [==============================] - 3s 2ms/step - loss: 1.4749 - accuracy: 0.7025 - val_loss: 1.4633 - val_accuracy: 0.7040\n",
      "Epoch 75/100\n",
      "1719/1719 [==============================] - 3s 2ms/step - loss: 1.4644 - accuracy: 0.7044 - val_loss: 1.4526 - val_accuracy: 0.7066\n",
      "Epoch 76/100\n",
      "1719/1719 [==============================] - 3s 2ms/step - loss: 1.4539 - accuracy: 0.7065 - val_loss: 1.4421 - val_accuracy: 0.7086\n",
      "Epoch 77/100\n",
      "1719/1719 [==============================] - 3s 2ms/step - loss: 1.4435 - accuracy: 0.7085 - val_loss: 1.4315 - val_accuracy: 0.7108\n",
      "Epoch 78/100\n",
      "1719/1719 [==============================] - 3s 2ms/step - loss: 1.4331 - accuracy: 0.7106 - val_loss: 1.4211 - val_accuracy: 0.7136\n",
      "Epoch 79/100\n",
      "1719/1719 [==============================] - 3s 2ms/step - loss: 1.4228 - accuracy: 0.7126 - val_loss: 1.4106 - val_accuracy: 0.7146\n",
      "Epoch 80/100\n",
      "1719/1719 [==============================] - 3s 2ms/step - loss: 1.4125 - accuracy: 0.7145 - val_loss: 1.4003 - val_accuracy: 0.7166\n",
      "Epoch 81/100\n",
      "1719/1719 [==============================] - 3s 2ms/step - loss: 1.4023 - accuracy: 0.7162 - val_loss: 1.3900 - val_accuracy: 0.7178\n",
      "Epoch 82/100\n",
      "1719/1719 [==============================] - 3s 2ms/step - loss: 1.3922 - accuracy: 0.7185 - val_loss: 1.3798 - val_accuracy: 0.7198\n",
      "Epoch 83/100\n",
      "1719/1719 [==============================] - 3s 2ms/step - loss: 1.3821 - accuracy: 0.7207 - val_loss: 1.3697 - val_accuracy: 0.7208\n",
      "Epoch 84/100\n",
      "1719/1719 [==============================] - 3s 2ms/step - loss: 1.3721 - accuracy: 0.7228 - val_loss: 1.3596 - val_accuracy: 0.7228\n",
      "Epoch 85/100\n",
      "1719/1719 [==============================] - 3s 2ms/step - loss: 1.3622 - accuracy: 0.7248 - val_loss: 1.3496 - val_accuracy: 0.7248\n",
      "Epoch 86/100\n",
      "1719/1719 [==============================] - 3s 2ms/step - loss: 1.3524 - accuracy: 0.7271 - val_loss: 1.3396 - val_accuracy: 0.7262\n",
      "Epoch 87/100\n",
      "1719/1719 [==============================] - 3s 2ms/step - loss: 1.3426 - accuracy: 0.7291 - val_loss: 1.3298 - val_accuracy: 0.7294\n",
      "Epoch 88/100\n",
      "1719/1719 [==============================] - 3s 2ms/step - loss: 1.3328 - accuracy: 0.7308 - val_loss: 1.3200 - val_accuracy: 0.7304\n",
      "Epoch 89/100\n",
      "1719/1719 [==============================] - 3s 2ms/step - loss: 1.3232 - accuracy: 0.7324 - val_loss: 1.3103 - val_accuracy: 0.7308\n",
      "Epoch 90/100\n",
      "1719/1719 [==============================] - 3s 2ms/step - loss: 1.3136 - accuracy: 0.7343 - val_loss: 1.3007 - val_accuracy: 0.7334\n",
      "Epoch 91/100\n",
      "1719/1719 [==============================] - 3s 2ms/step - loss: 1.3041 - accuracy: 0.7363 - val_loss: 1.2911 - val_accuracy: 0.7364\n",
      "Epoch 92/100\n",
      "1719/1719 [==============================] - 3s 2ms/step - loss: 1.2947 - accuracy: 0.7381 - val_loss: 1.2816 - val_accuracy: 0.7382\n",
      "Epoch 93/100\n",
      "1719/1719 [==============================] - 3s 2ms/step - loss: 1.2854 - accuracy: 0.7400 - val_loss: 1.2722 - val_accuracy: 0.7390\n",
      "Epoch 94/100\n",
      "1719/1719 [==============================] - 3s 2ms/step - loss: 1.2761 - accuracy: 0.7420 - val_loss: 1.2629 - val_accuracy: 0.7426\n",
      "Epoch 95/100\n",
      "1719/1719 [==============================] - 3s 2ms/step - loss: 1.2669 - accuracy: 0.7439 - val_loss: 1.2537 - val_accuracy: 0.7438\n",
      "Epoch 96/100\n",
      "1719/1719 [==============================] - 3s 2ms/step - loss: 1.2578 - accuracy: 0.7456 - val_loss: 1.2445 - val_accuracy: 0.7456\n",
      "Epoch 97/100\n",
      "1719/1719 [==============================] - 3s 2ms/step - loss: 1.2488 - accuracy: 0.7474 - val_loss: 1.2355 - val_accuracy: 0.7470\n",
      "Epoch 98/100\n",
      "1719/1719 [==============================] - 3s 2ms/step - loss: 1.2399 - accuracy: 0.7489 - val_loss: 1.2265 - val_accuracy: 0.7492\n",
      "Epoch 99/100\n",
      "1719/1719 [==============================] - 3s 2ms/step - loss: 1.2310 - accuracy: 0.7506 - val_loss: 1.2176 - val_accuracy: 0.7516\n",
      "Epoch 100/100\n",
      "1719/1719 [==============================] - 3s 2ms/step - loss: 1.2223 - accuracy: 0.7525 - val_loss: 1.2088 - val_accuracy: 0.7540\n",
      "Epoch 1/100\n",
      "   2/1719 [..............................] - ETA: 2:58 - loss: 2.2914 - accuracy: 0.1406WARNING:tensorflow:Callbacks method `on_train_batch_end` is slow compared to the batch time (batch time: 0.0030s vs `on_train_batch_end` time: 0.2034s). Check your callbacks.\n",
      "1719/1719 [==============================] - 3s 2ms/step - loss: 2.2594 - accuracy: 0.1474 - val_loss: 2.2180 - val_accuracy: 0.1922\n",
      "Epoch 2/100\n",
      "1719/1719 [==============================] - 3s 2ms/step - loss: 2.1738 - accuracy: 0.2506 - val_loss: 2.1358 - val_accuracy: 0.3128\n",
      "Epoch 3/100\n",
      "1719/1719 [==============================] - 3s 2ms/step - loss: 2.0940 - accuracy: 0.3802 - val_loss: 2.0558 - val_accuracy: 0.4460\n",
      "Epoch 4/100\n",
      "1719/1719 [==============================] - 3s 2ms/step - loss: 2.0134 - accuracy: 0.4913 - val_loss: 1.9728 - val_accuracy: 0.5376\n",
      "Epoch 5/100\n",
      "1719/1719 [==============================] - 3s 2ms/step - loss: 1.9288 - accuracy: 0.5693 - val_loss: 1.8849 - val_accuracy: 0.6004\n",
      "Epoch 6/100\n",
      "1719/1719 [==============================] - 3s 2ms/step - loss: 1.8392 - accuracy: 0.6214 - val_loss: 1.7914 - val_accuracy: 0.6442\n",
      "Epoch 7/100\n",
      "1719/1719 [==============================] - 3s 2ms/step - loss: 1.7445 - accuracy: 0.6578 - val_loss: 1.6932 - val_accuracy: 0.6752\n",
      "Epoch 8/100\n",
      "1719/1719 [==============================] - 3s 2ms/step - loss: 1.6459 - accuracy: 0.6846 - val_loss: 1.5920 - val_accuracy: 0.6988\n",
      "Epoch 9/100\n",
      "1719/1719 [==============================] - 3s 2ms/step - loss: 1.5458 - accuracy: 0.7054 - val_loss: 1.4906 - val_accuracy: 0.7154\n",
      "Epoch 10/100\n",
      "1719/1719 [==============================] - 3s 2ms/step - loss: 1.4468 - accuracy: 0.7230 - val_loss: 1.3918 - val_accuracy: 0.7320\n",
      "Epoch 11/100\n",
      "1719/1719 [==============================] - 3s 2ms/step - loss: 1.3515 - accuracy: 0.7385 - val_loss: 1.2980 - val_accuracy: 0.7474\n",
      "Epoch 12/100\n",
      "1719/1719 [==============================] - 3s 2ms/step - loss: 1.2620 - accuracy: 0.7539 - val_loss: 1.2111 - val_accuracy: 0.7612\n",
      "Epoch 13/100\n",
      "1719/1719 [==============================] - 3s 2ms/step - loss: 1.1797 - accuracy: 0.7678 - val_loss: 1.1319 - val_accuracy: 0.7728\n",
      "Epoch 14/100\n",
      "1719/1719 [==============================] - 3s 2ms/step - loss: 1.1050 - accuracy: 0.7789 - val_loss: 1.0607 - val_accuracy: 0.7848\n",
      "Epoch 15/100\n",
      "1719/1719 [==============================] - 3s 2ms/step - loss: 1.0381 - accuracy: 0.7902 - val_loss: 0.9972 - val_accuracy: 0.7932\n",
      "Epoch 16/100\n",
      "1719/1719 [==============================] - 3s 2ms/step - loss: 0.9785 - accuracy: 0.7986 - val_loss: 0.9409 - val_accuracy: 0.8052\n",
      "Epoch 17/100\n",
      "1719/1719 [==============================] - 3s 2ms/step - loss: 0.9256 - accuracy: 0.8059 - val_loss: 0.8910 - val_accuracy: 0.8118\n",
      "Epoch 18/100\n",
      "1719/1719 [==============================] - 3s 2ms/step - loss: 0.8789 - accuracy: 0.8125 - val_loss: 0.8469 - val_accuracy: 0.8196\n",
      "Epoch 19/100\n",
      "1719/1719 [==============================] - 3s 2ms/step - loss: 0.8375 - accuracy: 0.8180 - val_loss: 0.8079 - val_accuracy: 0.8240\n",
      "Epoch 20/100\n",
      "1719/1719 [==============================] - 3s 2ms/step - loss: 0.8007 - accuracy: 0.8231 - val_loss: 0.7732 - val_accuracy: 0.8280\n",
      "Epoch 21/100\n",
      "1719/1719 [==============================] - 3s 2ms/step - loss: 0.7679 - accuracy: 0.8272 - val_loss: 0.7422 - val_accuracy: 0.8332\n",
      "Epoch 22/100\n",
      "1719/1719 [==============================] - 3s 2ms/step - loss: 0.7387 - accuracy: 0.8318 - val_loss: 0.7144 - val_accuracy: 0.8360\n",
      "Epoch 23/100\n",
      "1719/1719 [==============================] - 3s 2ms/step - loss: 0.7124 - accuracy: 0.8357 - val_loss: 0.6894 - val_accuracy: 0.8406\n",
      "Epoch 24/100\n",
      "1719/1719 [==============================] - 3s 2ms/step - loss: 0.6887 - accuracy: 0.8393 - val_loss: 0.6669 - val_accuracy: 0.8450\n",
      "Epoch 25/100\n",
      "1719/1719 [==============================] - 3s 2ms/step - loss: 0.6674 - accuracy: 0.8420 - val_loss: 0.6463 - val_accuracy: 0.8468\n",
      "Epoch 26/100\n",
      "1719/1719 [==============================] - 3s 2ms/step - loss: 0.6479 - accuracy: 0.8447 - val_loss: 0.6277 - val_accuracy: 0.8496\n",
      "Epoch 27/100\n",
      "1719/1719 [==============================] - 3s 2ms/step - loss: 0.6302 - accuracy: 0.8475 - val_loss: 0.6106 - val_accuracy: 0.8532\n",
      "Epoch 28/100\n",
      "1719/1719 [==============================] - 3s 2ms/step - loss: 0.6140 - accuracy: 0.8501 - val_loss: 0.5950 - val_accuracy: 0.8566\n",
      "Epoch 29/100\n",
      "1719/1719 [==============================] - 3s 2ms/step - loss: 0.5991 - accuracy: 0.8525 - val_loss: 0.5805 - val_accuracy: 0.8582\n",
      "Epoch 30/100\n",
      "1719/1719 [==============================] - 3s 2ms/step - loss: 0.5854 - accuracy: 0.8545 - val_loss: 0.5672 - val_accuracy: 0.8612\n",
      "Epoch 31/100\n",
      "1719/1719 [==============================] - 3s 2ms/step - loss: 0.5727 - accuracy: 0.8568 - val_loss: 0.5548 - val_accuracy: 0.8636\n",
      "Epoch 32/100\n",
      "1719/1719 [==============================] - 3s 2ms/step - loss: 0.5609 - accuracy: 0.8589 - val_loss: 0.5433 - val_accuracy: 0.8652\n",
      "Epoch 33/100\n",
      "1719/1719 [==============================] - 3s 2ms/step - loss: 0.5500 - accuracy: 0.8611 - val_loss: 0.5327 - val_accuracy: 0.8666\n",
      "Epoch 34/100\n",
      "1719/1719 [==============================] - 3s 2ms/step - loss: 0.5398 - accuracy: 0.8627 - val_loss: 0.5226 - val_accuracy: 0.8694\n",
      "Epoch 35/100\n",
      "1719/1719 [==============================] - 3s 2ms/step - loss: 0.5303 - accuracy: 0.8643 - val_loss: 0.5132 - val_accuracy: 0.8716\n",
      "Epoch 36/100\n",
      "1719/1719 [==============================] - 3s 2ms/step - loss: 0.5214 - accuracy: 0.8659 - val_loss: 0.5046 - val_accuracy: 0.8736\n",
      "Epoch 37/100\n",
      "1719/1719 [==============================] - 3s 2ms/step - loss: 0.5130 - accuracy: 0.8675 - val_loss: 0.4963 - val_accuracy: 0.8746\n",
      "Epoch 38/100\n",
      "1719/1719 [==============================] - 3s 2ms/step - loss: 0.5051 - accuracy: 0.8691 - val_loss: 0.4885 - val_accuracy: 0.8758\n",
      "Epoch 39/100\n",
      "1719/1719 [==============================] - 3s 2ms/step - loss: 0.4977 - accuracy: 0.8703 - val_loss: 0.4812 - val_accuracy: 0.8776\n",
      "Epoch 40/100\n",
      "1719/1719 [==============================] - 3s 2ms/step - loss: 0.4907 - accuracy: 0.8716 - val_loss: 0.4743 - val_accuracy: 0.8790\n",
      "Epoch 41/100\n",
      "1719/1719 [==============================] - 3s 2ms/step - loss: 0.4841 - accuracy: 0.8730 - val_loss: 0.4677 - val_accuracy: 0.8804\n",
      "Epoch 42/100\n",
      "1719/1719 [==============================] - 3s 2ms/step - loss: 0.4778 - accuracy: 0.8744 - val_loss: 0.4616 - val_accuracy: 0.8810\n",
      "Epoch 43/100\n",
      "1719/1719 [==============================] - 3s 2ms/step - loss: 0.4719 - accuracy: 0.8750 - val_loss: 0.4558 - val_accuracy: 0.8826\n",
      "Epoch 44/100\n",
      "1719/1719 [==============================] - 3s 2ms/step - loss: 0.4662 - accuracy: 0.8763 - val_loss: 0.4501 - val_accuracy: 0.8846\n",
      "Epoch 45/100\n",
      "1719/1719 [==============================] - 3s 2ms/step - loss: 0.4608 - accuracy: 0.8771 - val_loss: 0.4448 - val_accuracy: 0.8852\n",
      "Epoch 46/100\n",
      "1719/1719 [==============================] - 3s 2ms/step - loss: 0.4557 - accuracy: 0.8782 - val_loss: 0.4397 - val_accuracy: 0.8862\n",
      "Epoch 47/100\n",
      "1719/1719 [==============================] - 3s 2ms/step - loss: 0.4508 - accuracy: 0.8792 - val_loss: 0.4348 - val_accuracy: 0.8888\n",
      "Epoch 48/100\n",
      "1719/1719 [==============================] - 3s 2ms/step - loss: 0.4462 - accuracy: 0.8800 - val_loss: 0.4302 - val_accuracy: 0.8890\n",
      "Epoch 49/100\n",
      "1719/1719 [==============================] - 3s 2ms/step - loss: 0.4417 - accuracy: 0.8809 - val_loss: 0.4259 - val_accuracy: 0.8898\n",
      "Epoch 50/100\n",
      "1719/1719 [==============================] - 3s 2ms/step - loss: 0.4374 - accuracy: 0.8819 - val_loss: 0.4215 - val_accuracy: 0.8916\n",
      "Epoch 51/100\n",
      "1719/1719 [==============================] - 3s 2ms/step - loss: 0.4333 - accuracy: 0.8829 - val_loss: 0.4175 - val_accuracy: 0.8918\n",
      "Epoch 52/100\n",
      "1719/1719 [==============================] - 3s 2ms/step - loss: 0.4294 - accuracy: 0.8835 - val_loss: 0.4136 - val_accuracy: 0.8938\n",
      "Epoch 53/100\n",
      "1719/1719 [==============================] - 3s 2ms/step - loss: 0.4256 - accuracy: 0.8848 - val_loss: 0.4099 - val_accuracy: 0.8934\n",
      "Epoch 54/100\n",
      "1719/1719 [==============================] - 3s 2ms/step - loss: 0.4220 - accuracy: 0.8857 - val_loss: 0.4062 - val_accuracy: 0.8948\n",
      "Epoch 55/100\n",
      "1719/1719 [==============================] - 3s 2ms/step - loss: 0.4185 - accuracy: 0.8866 - val_loss: 0.4028 - val_accuracy: 0.8950\n",
      "Epoch 56/100\n",
      "1719/1719 [==============================] - 3s 2ms/step - loss: 0.4151 - accuracy: 0.8872 - val_loss: 0.3994 - val_accuracy: 0.8958\n",
      "Epoch 57/100\n",
      "1719/1719 [==============================] - 3s 2ms/step - loss: 0.4119 - accuracy: 0.8879 - val_loss: 0.3963 - val_accuracy: 0.8960\n",
      "Epoch 58/100\n",
      "1719/1719 [==============================] - 3s 2ms/step - loss: 0.4088 - accuracy: 0.8885 - val_loss: 0.3932 - val_accuracy: 0.8958\n",
      "Epoch 59/100\n",
      "1719/1719 [==============================] - 3s 2ms/step - loss: 0.4057 - accuracy: 0.8895 - val_loss: 0.3902 - val_accuracy: 0.8962\n",
      "Epoch 60/100\n",
      "1719/1719 [==============================] - 3s 2ms/step - loss: 0.4028 - accuracy: 0.8903 - val_loss: 0.3872 - val_accuracy: 0.8962\n",
      "Epoch 61/100\n",
      "1719/1719 [==============================] - 3s 2ms/step - loss: 0.4000 - accuracy: 0.8909 - val_loss: 0.3844 - val_accuracy: 0.8966\n",
      "Epoch 62/100\n",
      "1719/1719 [==============================] - 3s 2ms/step - loss: 0.3973 - accuracy: 0.8917 - val_loss: 0.3817 - val_accuracy: 0.8966\n",
      "Epoch 63/100\n"
     ]
    },
    {
     "name": "stdout",
     "output_type": "stream",
     "text": [
      "1719/1719 [==============================] - 3s 2ms/step - loss: 0.3946 - accuracy: 0.8920 - val_loss: 0.3791 - val_accuracy: 0.8978\n",
      "Epoch 64/100\n",
      "1719/1719 [==============================] - 3s 2ms/step - loss: 0.3920 - accuracy: 0.8925 - val_loss: 0.3767 - val_accuracy: 0.8990\n",
      "Epoch 65/100\n",
      "1719/1719 [==============================] - 3s 2ms/step - loss: 0.3896 - accuracy: 0.8931 - val_loss: 0.3741 - val_accuracy: 0.8994\n",
      "Epoch 66/100\n",
      "1719/1719 [==============================] - 3s 2ms/step - loss: 0.3872 - accuracy: 0.8934 - val_loss: 0.3717 - val_accuracy: 0.9002\n",
      "Epoch 67/100\n",
      "1719/1719 [==============================] - 3s 2ms/step - loss: 0.3848 - accuracy: 0.8941 - val_loss: 0.3694 - val_accuracy: 0.9006\n",
      "Epoch 68/100\n",
      "1719/1719 [==============================] - 3s 2ms/step - loss: 0.3825 - accuracy: 0.8945 - val_loss: 0.3671 - val_accuracy: 0.9014\n",
      "Epoch 69/100\n",
      "1719/1719 [==============================] - 3s 2ms/step - loss: 0.3803 - accuracy: 0.8947 - val_loss: 0.3649 - val_accuracy: 0.9028\n",
      "Epoch 70/100\n",
      "1719/1719 [==============================] - 3s 2ms/step - loss: 0.3782 - accuracy: 0.8952 - val_loss: 0.3628 - val_accuracy: 0.9042\n",
      "Epoch 71/100\n",
      "1719/1719 [==============================] - 3s 2ms/step - loss: 0.3761 - accuracy: 0.8957 - val_loss: 0.3609 - val_accuracy: 0.9046\n",
      "Epoch 72/100\n",
      "1719/1719 [==============================] - 3s 2ms/step - loss: 0.3740 - accuracy: 0.8960 - val_loss: 0.3588 - val_accuracy: 0.9050\n",
      "Epoch 73/100\n",
      "1719/1719 [==============================] - 3s 2ms/step - loss: 0.3721 - accuracy: 0.8965 - val_loss: 0.3568 - val_accuracy: 0.9056\n",
      "Epoch 74/100\n",
      "1719/1719 [==============================] - 3s 2ms/step - loss: 0.3701 - accuracy: 0.8970 - val_loss: 0.3549 - val_accuracy: 0.9064\n",
      "Epoch 75/100\n",
      "1719/1719 [==============================] - 3s 2ms/step - loss: 0.3682 - accuracy: 0.8973 - val_loss: 0.3530 - val_accuracy: 0.9066\n",
      "Epoch 76/100\n",
      "1719/1719 [==============================] - 3s 2ms/step - loss: 0.3664 - accuracy: 0.8979 - val_loss: 0.3512 - val_accuracy: 0.9068\n",
      "Epoch 77/100\n",
      "1719/1719 [==============================] - 3s 2ms/step - loss: 0.3646 - accuracy: 0.8984 - val_loss: 0.3495 - val_accuracy: 0.9072\n",
      "Epoch 78/100\n",
      "1719/1719 [==============================] - 3s 2ms/step - loss: 0.3628 - accuracy: 0.8986 - val_loss: 0.3477 - val_accuracy: 0.9076\n",
      "Epoch 79/100\n",
      "1719/1719 [==============================] - 3s 2ms/step - loss: 0.3611 - accuracy: 0.8991 - val_loss: 0.3459 - val_accuracy: 0.9080\n",
      "Epoch 80/100\n",
      "1719/1719 [==============================] - 3s 2ms/step - loss: 0.3594 - accuracy: 0.8992 - val_loss: 0.3444 - val_accuracy: 0.9078\n",
      "Epoch 81/100\n",
      "1719/1719 [==============================] - 3s 2ms/step - loss: 0.3578 - accuracy: 0.8997 - val_loss: 0.3428 - val_accuracy: 0.9078\n",
      "Epoch 82/100\n",
      "1719/1719 [==============================] - 3s 2ms/step - loss: 0.3562 - accuracy: 0.8999 - val_loss: 0.3413 - val_accuracy: 0.9090\n",
      "Epoch 83/100\n",
      "1719/1719 [==============================] - 3s 2ms/step - loss: 0.3546 - accuracy: 0.9005 - val_loss: 0.3396 - val_accuracy: 0.9084\n",
      "Epoch 84/100\n",
      "1719/1719 [==============================] - 3s 2ms/step - loss: 0.3530 - accuracy: 0.9009 - val_loss: 0.3381 - val_accuracy: 0.9092\n",
      "Epoch 85/100\n",
      "1719/1719 [==============================] - 3s 2ms/step - loss: 0.3515 - accuracy: 0.9013 - val_loss: 0.3367 - val_accuracy: 0.9102\n",
      "Epoch 86/100\n",
      "1719/1719 [==============================] - 3s 2ms/step - loss: 0.3501 - accuracy: 0.9015 - val_loss: 0.3352 - val_accuracy: 0.9100\n",
      "Epoch 87/100\n",
      "1719/1719 [==============================] - 3s 2ms/step - loss: 0.3486 - accuracy: 0.9019 - val_loss: 0.3338 - val_accuracy: 0.9100\n",
      "Epoch 88/100\n",
      "1719/1719 [==============================] - 3s 2ms/step - loss: 0.3472 - accuracy: 0.9021 - val_loss: 0.3323 - val_accuracy: 0.9092\n",
      "Epoch 89/100\n",
      "1719/1719 [==============================] - 3s 2ms/step - loss: 0.3458 - accuracy: 0.9026 - val_loss: 0.3309 - val_accuracy: 0.9108\n",
      "Epoch 90/100\n",
      "1719/1719 [==============================] - 3s 2ms/step - loss: 0.3444 - accuracy: 0.9028 - val_loss: 0.3296 - val_accuracy: 0.9108\n",
      "Epoch 91/100\n",
      "1719/1719 [==============================] - 3s 2ms/step - loss: 0.3431 - accuracy: 0.9033 - val_loss: 0.3283 - val_accuracy: 0.9106\n",
      "Epoch 92/100\n",
      "1719/1719 [==============================] - 3s 2ms/step - loss: 0.3417 - accuracy: 0.9035 - val_loss: 0.3271 - val_accuracy: 0.9108\n",
      "Epoch 93/100\n",
      "1719/1719 [==============================] - 3s 2ms/step - loss: 0.3404 - accuracy: 0.9042 - val_loss: 0.3257 - val_accuracy: 0.9110\n",
      "Epoch 94/100\n",
      "1719/1719 [==============================] - 3s 2ms/step - loss: 0.3392 - accuracy: 0.9043 - val_loss: 0.3246 - val_accuracy: 0.9108\n",
      "Epoch 95/100\n",
      "1719/1719 [==============================] - 3s 2ms/step - loss: 0.3379 - accuracy: 0.9045 - val_loss: 0.3232 - val_accuracy: 0.9118\n",
      "Epoch 96/100\n",
      "1719/1719 [==============================] - 3s 2ms/step - loss: 0.3367 - accuracy: 0.9050 - val_loss: 0.3220 - val_accuracy: 0.9114\n",
      "Epoch 97/100\n",
      "1719/1719 [==============================] - 3s 2ms/step - loss: 0.3354 - accuracy: 0.9053 - val_loss: 0.3209 - val_accuracy: 0.9120\n",
      "Epoch 98/100\n",
      "1719/1719 [==============================] - 3s 2ms/step - loss: 0.3342 - accuracy: 0.9055 - val_loss: 0.3198 - val_accuracy: 0.9126\n",
      "Epoch 99/100\n",
      "1719/1719 [==============================] - 3s 2ms/step - loss: 0.3331 - accuracy: 0.9060 - val_loss: 0.3185 - val_accuracy: 0.9128\n",
      "Epoch 100/100\n",
      "1719/1719 [==============================] - 3s 2ms/step - loss: 0.3319 - accuracy: 0.9061 - val_loss: 0.3175 - val_accuracy: 0.9128\n",
      "Epoch 1/100\n",
      "   2/1719 [..............................] - ETA: 3:11 - loss: 2.3483 - accuracy: 0.0625WARNING:tensorflow:Callbacks method `on_train_batch_end` is slow compared to the batch time (batch time: 0.0030s vs `on_train_batch_end` time: 0.2185s). Check your callbacks.\n",
      "1719/1719 [==============================] - 3s 2ms/step - loss: 1.8518 - accuracy: 0.5220 - val_loss: 1.3191 - val_accuracy: 0.7534\n",
      "Epoch 2/100\n",
      "1719/1719 [==============================] - 3s 2ms/step - loss: 0.9763 - accuracy: 0.7975 - val_loss: 0.7282 - val_accuracy: 0.8376\n",
      "Epoch 3/100\n",
      "1719/1719 [==============================] - 3s 2ms/step - loss: 0.6370 - accuracy: 0.8465 - val_loss: 0.5419 - val_accuracy: 0.8670\n",
      "Epoch 4/100\n",
      "1719/1719 [==============================] - 3s 2ms/step - loss: 0.5130 - accuracy: 0.8676 - val_loss: 0.4572 - val_accuracy: 0.8842\n",
      "Epoch 5/100\n",
      "1719/1719 [==============================] - 3s 2ms/step - loss: 0.4501 - accuracy: 0.8801 - val_loss: 0.4089 - val_accuracy: 0.8938\n",
      "Epoch 6/100\n",
      "1719/1719 [==============================] - 3s 2ms/step - loss: 0.4115 - accuracy: 0.8877 - val_loss: 0.3777 - val_accuracy: 0.8984\n",
      "Epoch 7/100\n",
      "1719/1719 [==============================] - 3s 2ms/step - loss: 0.3848 - accuracy: 0.8937 - val_loss: 0.3550 - val_accuracy: 0.9044879  - ETA: 0s - l\n",
      "Epoch 8/100\n",
      "1719/1719 [==============================] - 3s 2ms/step - loss: 0.3648 - accuracy: 0.8981 - val_loss: 0.3374 - val_accuracy: 0.9066\n",
      "Epoch 9/100\n",
      "1719/1719 [==============================] - 3s 2ms/step - loss: 0.3490 - accuracy: 0.9017 - val_loss: 0.3247 - val_accuracy: 0.9098\n",
      "Epoch 10/100\n",
      "1719/1719 [==============================] - 3s 2ms/step - loss: 0.3360 - accuracy: 0.9051 - val_loss: 0.3121 - val_accuracy: 0.9114\n",
      "Epoch 11/100\n",
      "1719/1719 [==============================] - 3s 2ms/step - loss: 0.3248 - accuracy: 0.9078 - val_loss: 0.3010 - val_accuracy: 0.9146\n",
      "Epoch 12/100\n",
      "1719/1719 [==============================] - 3s 2ms/step - loss: 0.3150 - accuracy: 0.9107 - val_loss: 0.2920 - val_accuracy: 0.9182\n",
      "Epoch 13/100\n",
      "1719/1719 [==============================] - 3s 2ms/step - loss: 0.3063 - accuracy: 0.9122 - val_loss: 0.2847 - val_accuracy: 0.9204\n",
      "Epoch 14/100\n",
      "1719/1719 [==============================] - 3s 2ms/step - loss: 0.2985 - accuracy: 0.9150 - val_loss: 0.2782 - val_accuracy: 0.9238\n",
      "Epoch 15/100\n",
      "1719/1719 [==============================] - 3s 2ms/step - loss: 0.2913 - accuracy: 0.9167 - val_loss: 0.2710 - val_accuracy: 0.9240\n",
      "Epoch 16/100\n",
      "1719/1719 [==============================] - 3s 2ms/step - loss: 0.2845 - accuracy: 0.9186 - val_loss: 0.2646 - val_accuracy: 0.9272\n",
      "Epoch 17/100\n",
      "1719/1719 [==============================] - 3s 2ms/step - loss: 0.2785 - accuracy: 0.9206 - val_loss: 0.2586 - val_accuracy: 0.9280\n",
      "Epoch 18/100\n",
      "1719/1719 [==============================] - 3s 2ms/step - loss: 0.2727 - accuracy: 0.9223 - val_loss: 0.2534 - val_accuracy: 0.9288\n",
      "Epoch 19/100\n",
      "1719/1719 [==============================] - 3s 2ms/step - loss: 0.2672 - accuracy: 0.9243 - val_loss: 0.2488 - val_accuracy: 0.9314\n",
      "Epoch 20/100\n",
      "1719/1719 [==============================] - 3s 2ms/step - loss: 0.2618 - accuracy: 0.9255 - val_loss: 0.2450 - val_accuracy: 0.9324\n",
      "Epoch 21/100\n",
      "1719/1719 [==============================] - 3s 2ms/step - loss: 0.2570 - accuracy: 0.9275 - val_loss: 0.2397 - val_accuracy: 0.9338\n",
      "Epoch 22/100\n",
      "1719/1719 [==============================] - 3s 2ms/step - loss: 0.2523 - accuracy: 0.9285 - val_loss: 0.2354 - val_accuracy: 0.9350\n",
      "Epoch 23/100\n",
      "1719/1719 [==============================] - 3s 2ms/step - loss: 0.2478 - accuracy: 0.9297 - val_loss: 0.2311 - val_accuracy: 0.9358\n",
      "Epoch 24/100\n",
      "1719/1719 [==============================] - 3s 2ms/step - loss: 0.2433 - accuracy: 0.9310 - val_loss: 0.2275 - val_accuracy: 0.9376\n",
      "Epoch 25/100\n",
      "1719/1719 [==============================] - 3s 2ms/step - loss: 0.2392 - accuracy: 0.9329 - val_loss: 0.2237 - val_accuracy: 0.9386\n",
      "Epoch 26/100\n",
      "1719/1719 [==============================] - 3s 2ms/step - loss: 0.2351 - accuracy: 0.9339 - val_loss: 0.2206 - val_accuracy: 0.9392\n",
      "Epoch 27/100\n",
      "1719/1719 [==============================] - 3s 2ms/step - loss: 0.2313 - accuracy: 0.9353 - val_loss: 0.2167 - val_accuracy: 0.9412\n",
      "Epoch 28/100\n",
      "1719/1719 [==============================] - 3s 2ms/step - loss: 0.2275 - accuracy: 0.9364 - val_loss: 0.2135 - val_accuracy: 0.9422\n",
      "Epoch 29/100\n",
      "1719/1719 [==============================] - 3s 2ms/step - loss: 0.2239 - accuracy: 0.9375 - val_loss: 0.2102 - val_accuracy: 0.9422\n",
      "Epoch 30/100\n",
      "1719/1719 [==============================] - 3s 2ms/step - loss: 0.2204 - accuracy: 0.9381 - val_loss: 0.2080 - val_accuracy: 0.9420\n",
      "Epoch 31/100\n",
      "1719/1719 [==============================] - 3s 2ms/step - loss: 0.2170 - accuracy: 0.9393 - val_loss: 0.2048 - val_accuracy: 0.9432\n",
      "Epoch 32/100\n",
      "1719/1719 [==============================] - 3s 2ms/step - loss: 0.2136 - accuracy: 0.9401 - val_loss: 0.2017 - val_accuracy: 0.9444\n",
      "Epoch 33/100\n",
      "1719/1719 [==============================] - 3s 2ms/step - loss: 0.2105 - accuracy: 0.9413 - val_loss: 0.1994 - val_accuracy: 0.9440\n",
      "Epoch 34/100\n",
      "1719/1719 [==============================] - 3s 2ms/step - loss: 0.2074 - accuracy: 0.9419 - val_loss: 0.1962 - val_accuracy: 0.9464\n",
      "Epoch 35/100\n",
      "1719/1719 [==============================] - 3s 2ms/step - loss: 0.2042 - accuracy: 0.9429 - val_loss: 0.1939 - val_accuracy: 0.9474\n",
      "Epoch 36/100\n",
      "1719/1719 [==============================] - 3s 2ms/step - loss: 0.2015 - accuracy: 0.9435 - val_loss: 0.1912 - val_accuracy: 0.9464\n",
      "Epoch 37/100\n",
      "1719/1719 [==============================] - 3s 2ms/step - loss: 0.1986 - accuracy: 0.9442 - val_loss: 0.1889 - val_accuracy: 0.9484\n",
      "Epoch 38/100\n",
      "1719/1719 [==============================] - 3s 2ms/step - loss: 0.1958 - accuracy: 0.9449 - val_loss: 0.1863 - val_accuracy: 0.9482\n",
      "Epoch 39/100\n",
      "1719/1719 [==============================] - 3s 2ms/step - loss: 0.1932 - accuracy: 0.9458 - val_loss: 0.1841 - val_accuracy: 0.9488\n",
      "Epoch 40/100\n",
      "1719/1719 [==============================] - 3s 2ms/step - loss: 0.1905 - accuracy: 0.9465 - val_loss: 0.1818 - val_accuracy: 0.9498\n",
      "Epoch 41/100\n",
      "1719/1719 [==============================] - 3s 2ms/step - loss: 0.1880 - accuracy: 0.9472 - val_loss: 0.1797 - val_accuracy: 0.9500\n",
      "Epoch 42/100\n",
      "1719/1719 [==============================] - 3s 2ms/step - loss: 0.1856 - accuracy: 0.9479 - val_loss: 0.1778 - val_accuracy: 0.9502\n",
      "Epoch 43/100\n",
      "1719/1719 [==============================] - 3s 2ms/step - loss: 0.1831 - accuracy: 0.9484 - val_loss: 0.1757 - val_accuracy: 0.9508\n",
      "Epoch 44/100\n",
      "1719/1719 [==============================] - 3s 2ms/step - loss: 0.1808 - accuracy: 0.9490 - val_loss: 0.1736 - val_accuracy: 0.9508\n",
      "Epoch 45/100\n",
      "1719/1719 [==============================] - 3s 2ms/step - loss: 0.1784 - accuracy: 0.9496 - val_loss: 0.1720 - val_accuracy: 0.9518\n",
      "Epoch 46/100\n",
      "1719/1719 [==============================] - 3s 2ms/step - loss: 0.1761 - accuracy: 0.9503 - val_loss: 0.1698 - val_accuracy: 0.9534\n",
      "Epoch 47/100\n",
      "1719/1719 [==============================] - 3s 2ms/step - loss: 0.1740 - accuracy: 0.9509 - val_loss: 0.1681 - val_accuracy: 0.9530\n",
      "Epoch 48/100\n",
      "1719/1719 [==============================] - 3s 2ms/step - loss: 0.1718 - accuracy: 0.9515 - val_loss: 0.1660 - val_accuracy: 0.9538\n",
      "Epoch 49/100\n",
      "1719/1719 [==============================] - 3s 2ms/step - loss: 0.1696 - accuracy: 0.9521 - val_loss: 0.1644 - val_accuracy: 0.9550\n",
      "Epoch 50/100\n",
      "1719/1719 [==============================] - 3s 2ms/step - loss: 0.1676 - accuracy: 0.9525 - val_loss: 0.1630 - val_accuracy: 0.9560\n",
      "Epoch 51/100\n",
      "1719/1719 [==============================] - 3s 2ms/step - loss: 0.1656 - accuracy: 0.9533 - val_loss: 0.1609 - val_accuracy: 0.9550\n",
      "Epoch 52/100\n",
      "1719/1719 [==============================] - 3s 2ms/step - loss: 0.1635 - accuracy: 0.9533 - val_loss: 0.1596 - val_accuracy: 0.9558\n",
      "Epoch 53/100\n",
      "1719/1719 [==============================] - 3s 2ms/step - loss: 0.1616 - accuracy: 0.9543 - val_loss: 0.1579 - val_accuracy: 0.9564\n",
      "Epoch 54/100\n",
      "1719/1719 [==============================] - 3s 2ms/step - loss: 0.1598 - accuracy: 0.9550 - val_loss: 0.1561 - val_accuracy: 0.9566\n",
      "Epoch 55/100\n",
      "1719/1719 [==============================] - 3s 2ms/step - loss: 0.1579 - accuracy: 0.9555 - val_loss: 0.1545 - val_accuracy: 0.9568\n",
      "Epoch 56/100\n",
      "1719/1719 [==============================] - 3s 2ms/step - loss: 0.1560 - accuracy: 0.9561 - val_loss: 0.1531 - val_accuracy: 0.9578\n",
      "Epoch 57/100\n",
      "1719/1719 [==============================] - 3s 2ms/step - loss: 0.1543 - accuracy: 0.9563 - val_loss: 0.1516 - val_accuracy: 0.9572\n",
      "Epoch 58/100\n",
      "1719/1719 [==============================] - 3s 2ms/step - loss: 0.1526 - accuracy: 0.9572 - val_loss: 0.1503 - val_accuracy: 0.9578\n",
      "Epoch 59/100\n",
      "1719/1719 [==============================] - 3s 2ms/step - loss: 0.1510 - accuracy: 0.9572 - val_loss: 0.1490 - val_accuracy: 0.9592\n",
      "Epoch 60/100\n",
      "1719/1719 [==============================] - 3s 2ms/step - loss: 0.1492 - accuracy: 0.9577 - val_loss: 0.1476 - val_accuracy: 0.9586\n",
      "Epoch 61/100\n",
      "1719/1719 [==============================] - 3s 2ms/step - loss: 0.1475 - accuracy: 0.9585 - val_loss: 0.1462 - val_accuracy: 0.9596\n",
      "Epoch 62/100\n",
      "1719/1719 [==============================] - 3s 2ms/step - loss: 0.1460 - accuracy: 0.9588 - val_loss: 0.1447 - val_accuracy: 0.9598\n",
      "Epoch 63/100\n",
      "1719/1719 [==============================] - 3s 2ms/step - loss: 0.1444 - accuracy: 0.9593 - val_loss: 0.1436 - val_accuracy: 0.9604\n",
      "Epoch 64/100\n",
      "1719/1719 [==============================] - 3s 2ms/step - loss: 0.1428 - accuracy: 0.9597 - val_loss: 0.1430 - val_accuracy: 0.9608\n",
      "Epoch 65/100\n",
      "1719/1719 [==============================] - 3s 2ms/step - loss: 0.1414 - accuracy: 0.9602 - val_loss: 0.1413 - val_accuracy: 0.9602\n",
      "Epoch 66/100\n",
      "1719/1719 [==============================] - 3s 2ms/step - loss: 0.1399 - accuracy: 0.9604 - val_loss: 0.1397 - val_accuracy: 0.9618\n",
      "Epoch 67/100\n",
      "1719/1719 [==============================] - 3s 2ms/step - loss: 0.1384 - accuracy: 0.9612 - val_loss: 0.1389 - val_accuracy: 0.9626\n",
      "Epoch 68/100\n",
      "1719/1719 [==============================] - 3s 2ms/step - loss: 0.1370 - accuracy: 0.9615 - val_loss: 0.1378 - val_accuracy: 0.9610\n",
      "Epoch 69/100\n",
      "1719/1719 [==============================] - 3s 2ms/step - loss: 0.1356 - accuracy: 0.9615 - val_loss: 0.1372 - val_accuracy: 0.9626\n",
      "Epoch 70/100\n",
      "1719/1719 [==============================] - 3s 2ms/step - loss: 0.1342 - accuracy: 0.9625 - val_loss: 0.1360 - val_accuracy: 0.9634\n",
      "Epoch 71/100\n",
      "1719/1719 [==============================] - 3s 2ms/step - loss: 0.1328 - accuracy: 0.9630 - val_loss: 0.1347 - val_accuracy: 0.9630\n",
      "Epoch 72/100\n",
      "1719/1719 [==============================] - 3s 2ms/step - loss: 0.1314 - accuracy: 0.9629 - val_loss: 0.1341 - val_accuracy: 0.9638\n",
      "Epoch 73/100\n"
     ]
    },
    {
     "name": "stdout",
     "output_type": "stream",
     "text": [
      "1719/1719 [==============================] - 3s 2ms/step - loss: 0.1302 - accuracy: 0.9634 - val_loss: 0.1328 - val_accuracy: 0.9638\n",
      "Epoch 74/100\n",
      "1719/1719 [==============================] - 4s 2ms/step - loss: 0.1290 - accuracy: 0.9635 - val_loss: 0.1317 - val_accuracy: 0.9640\n",
      "Epoch 75/100\n",
      "1719/1719 [==============================] - 3s 2ms/step - loss: 0.1277 - accuracy: 0.9635 - val_loss: 0.1304 - val_accuracy: 0.9638\n",
      "Epoch 76/100\n",
      "1719/1719 [==============================] - 3s 2ms/step - loss: 0.1265 - accuracy: 0.9644 - val_loss: 0.1291 - val_accuracy: 0.9648\n",
      "Epoch 77/100\n",
      "1719/1719 [==============================] - 3s 2ms/step - loss: 0.1252 - accuracy: 0.9646 - val_loss: 0.1287 - val_accuracy: 0.9644\n",
      "Epoch 78/100\n",
      "1719/1719 [==============================] - 3s 2ms/step - loss: 0.1240 - accuracy: 0.9648 - val_loss: 0.1273 - val_accuracy: 0.9648\n",
      "Epoch 79/100\n",
      "1719/1719 [==============================] - 3s 2ms/step - loss: 0.1228 - accuracy: 0.9651 - val_loss: 0.1267 - val_accuracy: 0.9650\n",
      "Epoch 80/100\n",
      "1719/1719 [==============================] - 3s 2ms/step - loss: 0.1217 - accuracy: 0.9656 - val_loss: 0.1260 - val_accuracy: 0.9662\n",
      "Epoch 81/100\n",
      "1719/1719 [==============================] - 3s 2ms/step - loss: 0.1204 - accuracy: 0.9658 - val_loss: 0.1255 - val_accuracy: 0.9652\n",
      "Epoch 82/100\n",
      "1719/1719 [==============================] - 3s 2ms/step - loss: 0.1194 - accuracy: 0.9660 - val_loss: 0.1240 - val_accuracy: 0.9662\n",
      "Epoch 83/100\n",
      "1719/1719 [==============================] - 3s 2ms/step - loss: 0.1184 - accuracy: 0.9662 - val_loss: 0.1231 - val_accuracy: 0.9670\n",
      "Epoch 84/100\n",
      "1719/1719 [==============================] - 3s 2ms/step - loss: 0.1172 - accuracy: 0.9670 - val_loss: 0.1225 - val_accuracy: 0.9668\n",
      "Epoch 85/100\n",
      "1719/1719 [==============================] - 3s 2ms/step - loss: 0.1161 - accuracy: 0.9672 - val_loss: 0.1215 - val_accuracy: 0.9672\n",
      "Epoch 86/100\n",
      "1719/1719 [==============================] - 3s 2ms/step - loss: 0.1152 - accuracy: 0.9676 - val_loss: 0.1211 - val_accuracy: 0.9666\n",
      "Epoch 87/100\n",
      "1719/1719 [==============================] - 4s 2ms/step - loss: 0.1141 - accuracy: 0.9677 - val_loss: 0.1205 - val_accuracy: 0.9674\n",
      "Epoch 88/100\n",
      "1719/1719 [==============================] - 3s 2ms/step - loss: 0.1130 - accuracy: 0.9679 - val_loss: 0.1194 - val_accuracy: 0.9682\n",
      "Epoch 89/100\n",
      "1719/1719 [==============================] - 3s 2ms/step - loss: 0.1120 - accuracy: 0.9684 - val_loss: 0.1185 - val_accuracy: 0.9684racy: 0.\n",
      "Epoch 90/100\n",
      "1719/1719 [==============================] - 4s 2ms/step - loss: 0.1109 - accuracy: 0.9685 - val_loss: 0.1175 - val_accuracy: 0.9688\n",
      "Epoch 91/100\n",
      "1719/1719 [==============================] - 3s 2ms/step - loss: 0.1101 - accuracy: 0.9688 - val_loss: 0.1175 - val_accuracy: 0.9692\n",
      "Epoch 92/100\n",
      "1719/1719 [==============================] - 3s 2ms/step - loss: 0.1091 - accuracy: 0.9692 - val_loss: 0.1171 - val_accuracy: 0.9688\n",
      "Epoch 93/100\n",
      "1719/1719 [==============================] - 3s 2ms/step - loss: 0.1082 - accuracy: 0.9693 - val_loss: 0.1155 - val_accuracy: 0.9690\n",
      "Epoch 94/100\n",
      "1719/1719 [==============================] - 4s 2ms/step - loss: 0.1073 - accuracy: 0.9698 - val_loss: 0.1154 - val_accuracy: 0.9692\n",
      "Epoch 95/100\n",
      "1719/1719 [==============================] - 4s 2ms/step - loss: 0.1063 - accuracy: 0.9699 - val_loss: 0.1143 - val_accuracy: 0.9696\n",
      "Epoch 96/100\n",
      "1719/1719 [==============================] - 3s 2ms/step - loss: 0.1054 - accuracy: 0.9703 - val_loss: 0.1137 - val_accuracy: 0.9698\n",
      "Epoch 97/100\n",
      "1719/1719 [==============================] - 3s 2ms/step - loss: 0.1045 - accuracy: 0.9704 - val_loss: 0.1128 - val_accuracy: 0.9696\n",
      "Epoch 98/100\n",
      "1719/1719 [==============================] - 3s 2ms/step - loss: 0.1036 - accuracy: 0.9707 - val_loss: 0.1122 - val_accuracy: 0.9702\n",
      "Epoch 99/100\n",
      "1719/1719 [==============================] - 3s 2ms/step - loss: 0.1027 - accuracy: 0.9713 - val_loss: 0.1114 - val_accuracy: 0.9702\n",
      "Epoch 100/100\n",
      "1719/1719 [==============================] - 3s 2ms/step - loss: 0.1020 - accuracy: 0.9714 - val_loss: 0.1106 - val_accuracy: 0.9700\n",
      "Epoch 1/100\n",
      "   2/1719 [..............................] - ETA: 2:49 - loss: 2.3097 - accuracy: 0.0938WARNING:tensorflow:Callbacks method `on_train_batch_end` is slow compared to the batch time (batch time: 0.0020s vs `on_train_batch_end` time: 0.1960s). Check your callbacks.\n",
      "1719/1719 [==============================] - 4s 2ms/step - loss: 0.6311 - accuracy: 0.8387 - val_loss: 0.3130 - val_accuracy: 0.9154\n",
      "Epoch 2/100\n",
      "1719/1719 [==============================] - 3s 2ms/step - loss: 0.2955 - accuracy: 0.9161 - val_loss: 0.2450 - val_accuracy: 0.9316\n",
      "Epoch 3/100\n",
      "1719/1719 [==============================] - 3s 2ms/step - loss: 0.2411 - accuracy: 0.9317 - val_loss: 0.2025 - val_accuracy: 0.9436\n",
      "Epoch 4/100\n",
      "1719/1719 [==============================] - 3s 2ms/step - loss: 0.2059 - accuracy: 0.9411 - val_loss: 0.1809 - val_accuracy: 0.9502\n",
      "Epoch 5/100\n",
      "1719/1719 [==============================] - 3s 2ms/step - loss: 0.1805 - accuracy: 0.9482 - val_loss: 0.1600 - val_accuracy: 0.9558\n",
      "Epoch 6/100\n",
      "1719/1719 [==============================] - 3s 2ms/step - loss: 0.1610 - accuracy: 0.9543 - val_loss: 0.1471 - val_accuracy: 0.9600\n",
      "Epoch 7/100\n",
      "1719/1719 [==============================] - 3s 2ms/step - loss: 0.1449 - accuracy: 0.9590 - val_loss: 0.1371 - val_accuracy: 0.9620\n",
      "Epoch 8/100\n",
      "1719/1719 [==============================] - 3s 2ms/step - loss: 0.1319 - accuracy: 0.9621 - val_loss: 0.1311 - val_accuracy: 0.9658\n",
      "Epoch 9/100\n",
      "1719/1719 [==============================] - 3s 2ms/step - loss: 0.1210 - accuracy: 0.9660 - val_loss: 0.1207 - val_accuracy: 0.9676\n",
      "Epoch 10/100\n",
      "1719/1719 [==============================] - 3s 2ms/step - loss: 0.1115 - accuracy: 0.9682 - val_loss: 0.1123 - val_accuracy: 0.9698\n",
      "Epoch 11/100\n",
      "1719/1719 [==============================] - 3s 2ms/step - loss: 0.1029 - accuracy: 0.9709 - val_loss: 0.1089 - val_accuracy: 0.9716\n",
      "Epoch 12/100\n",
      "1719/1719 [==============================] - 3s 2ms/step - loss: 0.0957 - accuracy: 0.9732 - val_loss: 0.1047 - val_accuracy: 0.9706\n",
      "Epoch 13/100\n",
      "1719/1719 [==============================] - 3s 2ms/step - loss: 0.0893 - accuracy: 0.9752 - val_loss: 0.1002 - val_accuracy: 0.9724\n",
      "Epoch 14/100\n",
      "1719/1719 [==============================] - 3s 2ms/step - loss: 0.0833 - accuracy: 0.9765 - val_loss: 0.0980 - val_accuracy: 0.9724\n",
      "Epoch 15/100\n",
      "1719/1719 [==============================] - 3s 2ms/step - loss: 0.0780 - accuracy: 0.9781 - val_loss: 0.0929 - val_accuracy: 0.9740\n",
      "Epoch 16/100\n",
      "1719/1719 [==============================] - 3s 2ms/step - loss: 0.0733 - accuracy: 0.9795 - val_loss: 0.0943 - val_accuracy: 0.9728\n",
      "Epoch 17/100\n",
      "1719/1719 [==============================] - 3s 2ms/step - loss: 0.0690 - accuracy: 0.9811 - val_loss: 0.0900 - val_accuracy: 0.9754\n",
      "Epoch 18/100\n",
      "1719/1719 [==============================] - 3s 2ms/step - loss: 0.0650 - accuracy: 0.9824 - val_loss: 0.0869 - val_accuracy: 0.9758\n",
      "Epoch 19/100\n",
      "1719/1719 [==============================] - 3s 2ms/step - loss: 0.0614 - accuracy: 0.9833 - val_loss: 0.0854 - val_accuracy: 0.9764\n",
      "Epoch 20/100\n",
      "1719/1719 [==============================] - 3s 2ms/step - loss: 0.0580 - accuracy: 0.9839 - val_loss: 0.0867 - val_accuracy: 0.9756\n",
      "Epoch 21/100\n",
      "1719/1719 [==============================] - 3s 2ms/step - loss: 0.0548 - accuracy: 0.9851 - val_loss: 0.0818 - val_accuracy: 0.9760\n",
      "Epoch 22/100\n",
      "1719/1719 [==============================] - 4s 2ms/step - loss: 0.0518 - accuracy: 0.9859 - val_loss: 0.0815 - val_accuracy: 0.9768\n",
      "Epoch 23/100\n",
      "1719/1719 [==============================] - 3s 2ms/step - loss: 0.0491 - accuracy: 0.9868 - val_loss: 0.0826 - val_accuracy: 0.9762\n",
      "Epoch 24/100\n",
      "1719/1719 [==============================] - 3s 2ms/step - loss: 0.0464 - accuracy: 0.9875 - val_loss: 0.0818 - val_accuracy: 0.9756\n",
      "Epoch 25/100\n",
      "1719/1719 [==============================] - 3s 2ms/step - loss: 0.0442 - accuracy: 0.9882 - val_loss: 0.0789 - val_accuracy: 0.9778\n",
      "Epoch 26/100\n",
      "1719/1719 [==============================] - 3s 2ms/step - loss: 0.0417 - accuracy: 0.9888 - val_loss: 0.0765 - val_accuracy: 0.9780\n",
      "Epoch 27/100\n",
      "1719/1719 [==============================] - 3s 2ms/step - loss: 0.0398 - accuracy: 0.9896 - val_loss: 0.0760 - val_accuracy: 0.9780\n",
      "Epoch 28/100\n",
      "1719/1719 [==============================] - 3s 2ms/step - loss: 0.0378 - accuracy: 0.9904 - val_loss: 0.0784 - val_accuracy: 0.9784\n",
      "Epoch 29/100\n",
      "1719/1719 [==============================] - 3s 2ms/step - loss: 0.0356 - accuracy: 0.9910 - val_loss: 0.0772 - val_accuracy: 0.9774\n",
      "Epoch 30/100\n",
      "1719/1719 [==============================] - 3s 2ms/step - loss: 0.0341 - accuracy: 0.9912 - val_loss: 0.0755 - val_accuracy: 0.9786\n",
      "Epoch 31/100\n",
      "1719/1719 [==============================] - 3s 2ms/step - loss: 0.0323 - accuracy: 0.9922 - val_loss: 0.0761 - val_accuracy: 0.9790\n",
      "Epoch 32/100\n",
      "1719/1719 [==============================] - 3s 2ms/step - loss: 0.0305 - accuracy: 0.9925 - val_loss: 0.0749 - val_accuracy: 0.9774\n",
      "Epoch 33/100\n",
      "1719/1719 [==============================] - 3s 2ms/step - loss: 0.0291 - accuracy: 0.9929 - val_loss: 0.0735 - val_accuracy: 0.9798\n",
      "Epoch 34/100\n",
      "1719/1719 [==============================] - 3s 2ms/step - loss: 0.0278 - accuracy: 0.9932 - val_loss: 0.0751 - val_accuracy: 0.9804\n",
      "Epoch 35/100\n",
      "1719/1719 [==============================] - 3s 2ms/step - loss: 0.0263 - accuracy: 0.9940 - val_loss: 0.0734 - val_accuracy: 0.9790\n",
      "Epoch 36/100\n",
      "1719/1719 [==============================] - 3s 2ms/step - loss: 0.0250 - accuracy: 0.9944 - val_loss: 0.0753 - val_accuracy: 0.9788\n",
      "Epoch 37/100\n",
      "1719/1719 [==============================] - 3s 2ms/step - loss: 0.0237 - accuracy: 0.9952 - val_loss: 0.0724 - val_accuracy: 0.9808\n",
      "Epoch 38/100\n",
      "1719/1719 [==============================] - 3s 2ms/step - loss: 0.0227 - accuracy: 0.9954 - val_loss: 0.0734 - val_accuracy: 0.9790\n",
      "Epoch 39/100\n",
      "1719/1719 [==============================] - 3s 2ms/step - loss: 0.0216 - accuracy: 0.9956 - val_loss: 0.0743 - val_accuracy: 0.9786\n",
      "Epoch 40/100\n",
      "1719/1719 [==============================] - 3s 2ms/step - loss: 0.0205 - accuracy: 0.9960 - val_loss: 0.0746 - val_accuracy: 0.9800\n",
      "Epoch 41/100\n",
      "1719/1719 [==============================] - 3s 2ms/step - loss: 0.0196 - accuracy: 0.9963 - val_loss: 0.0728 - val_accuracy: 0.9798\n",
      "Epoch 42/100\n",
      "1719/1719 [==============================] - 3s 2ms/step - loss: 0.0186 - accuracy: 0.9964 - val_loss: 0.0732 - val_accuracy: 0.9800\n",
      "Epoch 43/100\n",
      "1719/1719 [==============================] - 3s 2ms/step - loss: 0.0179 - accuracy: 0.9967 - val_loss: 0.0775 - val_accuracy: 0.9784\n",
      "Epoch 44/100\n",
      "1719/1719 [==============================] - 3s 2ms/step - loss: 0.0171 - accuracy: 0.9970 - val_loss: 0.0720 - val_accuracy: 0.9804\n",
      "Epoch 45/100\n",
      "1719/1719 [==============================] - 3s 2ms/step - loss: 0.0161 - accuracy: 0.9975 - val_loss: 0.0742 - val_accuracy: 0.9802\n",
      "Epoch 46/100\n",
      "1719/1719 [==============================] - 3s 2ms/step - loss: 0.0155 - accuracy: 0.9976 - val_loss: 0.0744 - val_accuracy: 0.9794\n",
      "Epoch 47/100\n",
      "1719/1719 [==============================] - 3s 2ms/step - loss: 0.0148 - accuracy: 0.9978 - val_loss: 0.0740 - val_accuracy: 0.9802\n",
      "Epoch 48/100\n",
      "1719/1719 [==============================] - 3s 2ms/step - loss: 0.0140 - accuracy: 0.9981 - val_loss: 0.0747 - val_accuracy: 0.9802\n",
      "Epoch 49/100\n",
      "1719/1719 [==============================] - 3s 2ms/step - loss: 0.0134 - accuracy: 0.9983 - val_loss: 0.0724 - val_accuracy: 0.9796\n",
      "Epoch 50/100\n",
      "1719/1719 [==============================] - 3s 2ms/step - loss: 0.0129 - accuracy: 0.9982 - val_loss: 0.0738 - val_accuracy: 0.9804\n",
      "Epoch 51/100\n",
      "1719/1719 [==============================] - 3s 2ms/step - loss: 0.0122 - accuracy: 0.9985 - val_loss: 0.0739 - val_accuracy: 0.9804\n",
      "Epoch 52/100\n",
      "1719/1719 [==============================] - 3s 2ms/step - loss: 0.0117 - accuracy: 0.9987 - val_loss: 0.0738 - val_accuracy: 0.9796\n",
      "Epoch 53/100\n",
      "1719/1719 [==============================] - 3s 2ms/step - loss: 0.0113 - accuracy: 0.9988 - val_loss: 0.0741 - val_accuracy: 0.9804\n",
      "Epoch 54/100\n",
      "1719/1719 [==============================] - 3s 2ms/step - loss: 0.0108 - accuracy: 0.9986 - val_loss: 0.0745 - val_accuracy: 0.9798\n",
      "Epoch 1/100\n",
      "   2/1719 [..............................] - ETA: 2:52 - loss: 2.3487 - accuracy: 0.0938WARNING:tensorflow:Callbacks method `on_train_batch_end` is slow compared to the batch time (batch time: 0.0040s vs `on_train_batch_end` time: 0.1960s). Check your callbacks.\n",
      "1719/1719 [==============================] - 4s 2ms/step - loss: 0.2757 - accuracy: 0.9170 - val_loss: 0.1308 - val_accuracy: 0.9610\n",
      "Epoch 2/100\n",
      "1719/1719 [==============================] - 3s 2ms/step - loss: 0.1130 - accuracy: 0.9663 - val_loss: 0.1121 - val_accuracy: 0.9660\n",
      "Epoch 3/100\n",
      "1719/1719 [==============================] - 3s 2ms/step - loss: 0.0779 - accuracy: 0.9762 - val_loss: 0.0738 - val_accuracy: 0.9774\n",
      "Epoch 4/100\n",
      "1719/1719 [==============================] - 3s 2ms/step - loss: 0.0576 - accuracy: 0.9820 - val_loss: 0.0777 - val_accuracy: 0.9782\n",
      "Epoch 5/100\n",
      "1719/1719 [==============================] - 3s 2ms/step - loss: 0.0446 - accuracy: 0.9860 - val_loss: 0.0726 - val_accuracy: 0.9780\n",
      "Epoch 6/100\n",
      "1719/1719 [==============================] - 3s 2ms/step - loss: 0.0342 - accuracy: 0.9892 - val_loss: 0.0677 - val_accuracy: 0.9818\n",
      "Epoch 7/100\n",
      "1719/1719 [==============================] - 3s 2ms/step - loss: 0.0263 - accuracy: 0.9922 - val_loss: 0.0750 - val_accuracy: 0.9800\n",
      "Epoch 8/100\n",
      "1719/1719 [==============================] - 3s 2ms/step - loss: 0.0195 - accuracy: 0.9943 - val_loss: 0.0789 - val_accuracy: 0.9794\n",
      "Epoch 9/100\n",
      "1719/1719 [==============================] - 3s 2ms/step - loss: 0.0161 - accuracy: 0.9957 - val_loss: 0.0753 - val_accuracy: 0.9816\n",
      "Epoch 10/100\n",
      "1719/1719 [==============================] - 3s 2ms/step - loss: 0.0107 - accuracy: 0.9973 - val_loss: 0.0765 - val_accuracy: 0.9808\n",
      "Epoch 11/100\n",
      "1719/1719 [==============================] - 3s 2ms/step - loss: 0.0080 - accuracy: 0.9982 - val_loss: 0.0755 - val_accuracy: 0.9834\n",
      "Epoch 12/100\n",
      "1719/1719 [==============================] - 3s 2ms/step - loss: 0.0050 - accuracy: 0.9991 - val_loss: 0.0744 - val_accuracy: 0.9838\n",
      "Epoch 13/100\n",
      "1719/1719 [==============================] - 4s 2ms/step - loss: 0.0030 - accuracy: 0.9997 - val_loss: 0.0859 - val_accuracy: 0.9796\n",
      "Epoch 14/100\n",
      "1719/1719 [==============================] - 3s 2ms/step - loss: 0.0023 - accuracy: 0.9998 - val_loss: 0.0778 - val_accuracy: 0.9828\n",
      "Epoch 15/100\n",
      "1719/1719 [==============================] - 3s 2ms/step - loss: 0.0017 - accuracy: 0.9998 - val_loss: 0.0793 - val_accuracy: 0.9838\n",
      "Epoch 16/100\n",
      "1719/1719 [==============================] - 3s 2ms/step - loss: 0.0011 - accuracy: 1.0000 - val_loss: 0.0808 - val_accuracy: 0.9834\n",
      "Epoch 1/100\n",
      "   2/1719 [..............................] - ETA: 4:11 - loss: 2.5536 - accuracy: 0.1875WARNING:tensorflow:Callbacks method `on_train_batch_end` is slow compared to the batch time (batch time: 0.0020s vs `on_train_batch_end` time: 0.2894s). Check your callbacks.\n",
      "1719/1719 [==============================] - 3s 2ms/step - loss: 1.3047 - accuracy: 0.5313 - val_loss: 1.2094 - val_accuracy: 0.4704\n",
      "Epoch 2/100\n",
      "1719/1719 [==============================] - 3s 2ms/step - loss: 1.0468 - accuracy: 0.6391 - val_loss: 0.7762 - val_accuracy: 0.7086\n",
      "Epoch 3/100\n",
      "1719/1719 [==============================] - 3s 2ms/step - loss: 1.0146 - accuracy: 0.6304 - val_loss: 1.0323 - val_accuracy: 0.6062\n",
      "Epoch 4/100\n",
      "1719/1719 [==============================] - 3s 2ms/step - loss: 0.9330 - accuracy: 0.6747 - val_loss: 1.0599 - val_accuracy: 0.5720\n",
      "Epoch 5/100\n",
      "1719/1719 [==============================] - 3s 2ms/step - loss: 1.2194 - accuracy: 0.5307 - val_loss: 1.7129 - val_accuracy: 0.4150\n",
      "Epoch 6/100\n",
      "1719/1719 [==============================] - 3s 2ms/step - loss: 1.5193 - accuracy: 0.4237 - val_loss: 1.4069 - val_accuracy: 0.4148: 0s - loss: 1.5\n",
      "Epoch 7/100\n",
      "1719/1719 [==============================] - 4s 2ms/step - loss: 1.5796 - accuracy: 0.3409 - val_loss: 1.1818 - val_accuracy: 0.4706\n",
      "Epoch 8/100\n",
      "1719/1719 [==============================] - 3s 2ms/step - loss: 1.3544 - accuracy: 0.4425 - val_loss: 1.2396 - val_accuracy: 0.4636\n",
      "Epoch 9/100\n"
     ]
    },
    {
     "name": "stdout",
     "output_type": "stream",
     "text": [
      "1719/1719 [==============================] - 3s 2ms/step - loss: 1.5692 - accuracy: 0.3653 - val_loss: 1.7609 - val_accuracy: 0.2776\n",
      "Epoch 10/100\n",
      "1719/1719 [==============================] - 3s 2ms/step - loss: 1.8737 - accuracy: 0.2217 - val_loss: 1.9218 - val_accuracy: 0.1986\n",
      "Epoch 11/100\n",
      "1719/1719 [==============================] - 3s 2ms/step - loss: 1.8902 - accuracy: 0.1901 - val_loss: 1.8357 - val_accuracy: 0.2010\n",
      "Epoch 12/100\n",
      "1719/1719 [==============================] - 3s 2ms/step - loss: 1.8549 - accuracy: 0.1978 - val_loss: 1.8376 - val_accuracy: 0.2164\n",
      "Epoch 1/100\n",
      "   2/1719 [..............................] - ETA: 3:07 - loss: 71.5900 - accuracy: 0.0781WARNING:tensorflow:Callbacks method `on_train_batch_end` is slow compared to the batch time (batch time: 0.0020s vs `on_train_batch_end` time: 0.2142s). Check your callbacks.\n",
      "1719/1719 [==============================] - 4s 2ms/step - loss: 13124170024359771583731554320384.0000 - accuracy: 0.1011 - val_loss: 2.4872 - val_accuracy: 0.112635808.0000 - a - ETA: 2s - loss: 500158917800\n",
      "Epoch 2/100\n",
      "1719/1719 [==============================] - 3s 2ms/step - loss: 2.4720 - accuracy: 0.1012 - val_loss: 2.4489 - val_accuracy: 0.1126\n",
      "Epoch 3/100\n",
      "1719/1719 [==============================] - 3s 2ms/step - loss: 2.4740 - accuracy: 0.0999 - val_loss: 2.5142 - val_accuracy: 0.1002\n",
      "Epoch 4/100\n",
      "1719/1719 [==============================] - 3s 2ms/step - loss: 2.4779 - accuracy: 0.0998 - val_loss: 2.5367 - val_accuracy: 0.0990\n",
      "Epoch 5/100\n",
      "1719/1719 [==============================] - 3s 2ms/step - loss: 2.4755 - accuracy: 0.1001 - val_loss: 2.5847 - val_accuracy: 0.0990\n",
      "Epoch 6/100\n",
      "1719/1719 [==============================] - 3s 2ms/step - loss: 2.4754 - accuracy: 0.1025 - val_loss: 2.5495 - val_accuracy: 0.0976\n",
      "Epoch 7/100\n",
      "1719/1719 [==============================] - 3s 2ms/step - loss: 2.4659 - accuracy: 0.1012 - val_loss: 2.7347 - val_accuracy: 0.1100\n",
      "Epoch 8/100\n",
      "1719/1719 [==============================] - 3s 2ms/step - loss: 2.4753 - accuracy: 0.0992 - val_loss: 2.4989 - val_accuracy: 0.1126\n",
      "Epoch 9/100\n",
      "1719/1719 [==============================] - 3s 2ms/step - loss: 2.4666 - accuracy: 0.1025 - val_loss: 2.9546 - val_accuracy: 0.1002\n",
      "Epoch 10/100\n",
      "1719/1719 [==============================] - 3s 2ms/step - loss: 2.4762 - accuracy: 0.0996 - val_loss: 2.6440 - val_accuracy: 0.0986\n",
      "Epoch 11/100\n",
      "1719/1719 [==============================] - 3s 2ms/step - loss: 2.4768 - accuracy: 0.1004 - val_loss: 2.5493 - val_accuracy: 0.0958\n",
      "Epoch 12/100\n",
      "1719/1719 [==============================] - 3s 2ms/step - loss: 2.4774 - accuracy: 0.0996 - val_loss: 2.5057 - val_accuracy: 0.0990\n"
     ]
    },
    {
     "data": {
      "text/plain": [
       "'param_grid={\"learning_rate\":[1e-5,1e-4,1e-3,1e-2,1e-1,1,10]}\\ngrid=GridSearchCV(mnist_model_keras,param_grid,cv=3)\\n\\n\\n\\ngrid.fit(X_train,y_train,epochs=100,verbose=0,\\n        callbacks=[early_stopping_cb,checkpoint_cb],\\n        validation_data=(X_valid,y_valid))'"
      ]
     },
     "execution_count": 22,
     "metadata": {},
     "output_type": "execute_result"
    },
    {
     "data": {
      "image/png": "[encoded data removed]",
      "text/plain": [
       "<Figure size 432x288 with 1 Axes>"
      ]
     },
     "metadata": {
      "needs_background": "light"
     },
     "output_type": "display_data"
    }
   ],
   "source": [
    "def mnist_model(n_hidden=2,n_neurons=200,learning_rate=1e-3,input_shape=[28,28],activation=\"relu\"):\n",
    "    model=keras.models.Sequential()\n",
    "    model.add(keras.layers.Flatten(input_shape=input_shape))\n",
    "    for layer in range(n_hidden):\n",
    "        model.add(keras.layers.Dense(n_neurons,activation=activation))\n",
    "    model.add(keras.layers.Dense(10,activation=\"softmax\"))\n",
    "    model.compile(loss=\"sparse_categorical_crossentropy\",\n",
    "                 optimizer=keras.optimizers.SGD(learning_rate=learning_rate),\n",
    "                 metrics=[\"accuracy\"])\n",
    "    return model\n",
    "\n",
    "mnist_model_keras=keras.wrappers.scikit_learn.KerasClassifier(mnist_model)\n",
    "\n",
    "early_stopping_cb=keras.callbacks.EarlyStopping(patience=10, restore_best_weights=True)\n",
    "checkpoint_cb=keras.callbacks.ModelCheckpoint(\"mnist_model_keras.h5\")\n",
    "\n",
    "run_logdir=get_run_logdir()\n",
    "tensorboard_cb=keras.callbacks.TensorBoard(run_logdir)\n",
    "\n",
    "validation_losses=[]\n",
    "cce=keras.losses.SparseCategoricalCrossentropy()\n",
    "for learning_rate in [1e-5,1e-4,1e-3,1e-2,1e-1,1,10]:\n",
    "    model=mnist_model(learning_rate=learning_rate)\n",
    "    history=model.fit(X_train,y_train,epochs=100,\n",
    "             validation_data=(X_valid,y_valid),\n",
    "             callbacks=[early_stopping_cb,checkpoint_cb,tensorboard_cb])\n",
    "    y_pred=model.predict(X_valid)\n",
    "    validation_losses.append(cce(y_valid,y_pred))\n",
    "\n",
    "plt.plot([1e-5,1e-4,1e-3,1e-2,1e-1,1,10],validation_losses)\n",
    "plt.yscale(\"log\")\n",
    "\n",
    "\"\"\"param_grid={\"learning_rate\":[1e-5,1e-4,1e-3,1e-2,1e-1,1,10]}\n",
    "grid=GridSearchCV(mnist_model_keras,param_grid,cv=3)\n",
    "\n",
    "\n",
    "\n",
    "grid.fit(X_train,y_train,epochs=100,verbose=0,\n",
    "        callbacks=[early_stopping_cb,checkpoint_cb],\n",
    "        validation_data=(X_valid,y_valid))\"\"\""
   ]
  },
  {
   "cell_type": "code",
   "execution_count": 24,
   "id": "4fe05797",
   "metadata": {},
   "outputs": [
    {
     "data": {
      "text/plain": [
       "Text(0, 0.5, 'Loss - crossentropy')"
      ]
     },
     "execution_count": 24,
     "metadata": {},
     "output_type": "execute_result"
    },
    {
     "data": {
      "image/png": "[encoded data removed]",
      "text/plain": [
       "<Figure size 576x360 with 1 Axes>"
      ]
     },
     "metadata": {
      "needs_background": "light"
     },
     "output_type": "display_data"
    }
   ],
   "source": [
    "plt.figure(figsize=(8,5))\n",
    "plt.plot([1e-5,1e-4,1e-3,1e-2,1e-1,1,10],validation_losses)\n",
    "plt.xscale(\"log\")\n",
    "plt.xlabel(\"learning_rate\")\n",
    "plt.ylabel(\"Loss - crossentropy\")"
   ]
  },
  {
   "cell_type": "code",
   "execution_count": 5,
   "id": "3828ba16",
   "metadata": {},
   "outputs": [],
   "source": [
    "K = keras.backend\n",
    "\n",
    "class ExponentialLearningRate(keras.callbacks.Callback):\n",
    "    def __init__(self, factor):\n",
    "        self.factor = factor\n",
    "        self.rates = []\n",
    "        self.losses = []\n",
    "    def on_batch_end(self, batch, logs):\n",
    "        self.rates.append(K.get_value(self.model.optimizer.lr))\n",
    "        self.losses.append(logs[\"loss\"])\n",
    "        K.set_value(self.model.optimizer.lr, self.model.optimizer.lr * self.factor)"
   ]
  },
  {
   "cell_type": "code",
   "execution_count": 70,
   "id": "efa9424d",
   "metadata": {},
   "outputs": [
    {
     "name": "stdout",
     "output_type": "stream",
     "text": [
      "1719/1719 [==============================] - 4s 2ms/step - loss: 224791.1094 - accuracy: 0.5459 - val_loss: 5582.9629 - val_accuracy: 0.1100\n"
     ]
    }
   ],
   "source": [
    "def mnist_model_2(n_hidden=2,n_neurons=200,learning_rate=1e-3,input_shape=[28,28],activation=\"selu\"):\n",
    "    model=keras.models.Sequential()\n",
    "    model.add(keras.layers.Flatten(input_shape=input_shape))\n",
    "    for layer in range(n_hidden):\n",
    "        model.add(keras.layers.Dense(n_neurons,activation=activation,kernel_initializer=\"lecun_normal\"))\n",
    "    model.add(keras.layers.Dense(10,activation=\"softmax\"))\n",
    "    model.compile(loss=\"sparse_categorical_crossentropy\",\n",
    "                 optimizer=keras.optimizers.SGD(learning_rate=learning_rate),\n",
    "                 metrics=[\"accuracy\"])\n",
    "    return model\n",
    "\n",
    "model=mnist_model_2(n_hidden=2,activation=\"selu\",learning_rate=1e-3)\n",
    "exp_lr_cb=ExponentialLearningRate(factor=1.005)\n",
    "\n",
    "history=model.fit(X_train,y_train,epochs=1,validation_data=(X_valid,y_valid),\n",
    "                 callbacks=[exp_lr_cb])"
   ]
  },
  {
   "cell_type": "code",
   "execution_count": 71,
   "id": "f1d57bbd",
   "metadata": {},
   "outputs": [
    {
     "data": {
      "image/png": "[encoded data removed]",
      "text/plain": [
       "<Figure size 432x288 with 1 Axes>"
      ]
     },
     "metadata": {
      "needs_background": "light"
     },
     "output_type": "display_data"
    }
   ],
   "source": [
    "plt.plot(exp_lr_cb.rates,exp_lr_cb.losses)\n",
    "plt.xscale(\"log\")\n",
    "plt.xlabel(\"learing rate\")\n",
    "plt.ylabel(\"losses\")\n",
    "plt.xlim(1e-3,5)\n",
    "plt.ylim(-1,2)\n",
    "plt.hlines(min(exp_lr_cb.losses),min(exp_lr_cb.rates),max(exp_lr_cb.rates))\n",
    "plt.vlines(exp_lr_cb.rates[exp_lr_cb.losses.index(min(exp_lr_cb.losses))],-1,5)\n",
    "plt.grid()"
   ]
  },
  {
   "cell_type": "code",
   "execution_count": 72,
   "id": "c9985de4",
   "metadata": {},
   "outputs": [
    {
     "data": {
      "text/plain": [
       "0.22620736"
      ]
     },
     "execution_count": 72,
     "metadata": {},
     "output_type": "execute_result"
    }
   ],
   "source": [
    "#po 0.226 loss zaczyna szybko sie piac w górę wiec optymalna jest polowa z 0.22 czyli ok 0.1\n",
    "max_rate=exp_lr_cb.rates[exp_lr_cb.losses.index(min(exp_lr_cb.losses))]\n",
    "max_rate"
   ]
  },
  {
   "cell_type": "code",
   "execution_count": 73,
   "id": "3dc61960",
   "metadata": {},
   "outputs": [
    {
     "name": "stdout",
     "output_type": "stream",
     "text": [
      "Epoch 1/200\n",
      "   2/1719 [..............................] - ETA: 4:40 - loss: 2.4743 - accuracy: 0.1719WARNING:tensorflow:Callbacks method `on_train_batch_end` is slow compared to the batch time (batch time: 0.0020s vs `on_train_batch_end` time: 0.3233s). Check your callbacks.\n",
      "1719/1719 [==============================] - 3s 2ms/step - loss: 0.3269 - accuracy: 0.9020 - val_loss: 0.1932 - val_accuracy: 0.9476\n",
      "Epoch 2/200\n",
      "1719/1719 [==============================] - 3s 2ms/step - loss: 0.1660 - accuracy: 0.9497 - val_loss: 0.1595 - val_accuracy: 0.9548\n",
      "Epoch 3/200\n",
      "1719/1719 [==============================] - 3s 2ms/step - loss: 0.1155 - accuracy: 0.9647 - val_loss: 0.1124 - val_accuracy: 0.9688\n",
      "Epoch 4/200\n",
      "1719/1719 [==============================] - 3s 2ms/step - loss: 0.0924 - accuracy: 0.9710 - val_loss: 0.1416 - val_accuracy: 0.9584\n",
      "Epoch 5/200\n",
      "1719/1719 [==============================] - 3s 2ms/step - loss: 0.0755 - accuracy: 0.9762 - val_loss: 0.1171 - val_accuracy: 0.9634\n",
      "Epoch 6/200\n",
      "1719/1719 [==============================] - 3s 1ms/step - loss: 0.0623 - accuracy: 0.9799 - val_loss: 0.1148 - val_accuracy: 0.9686\n",
      "Epoch 7/200\n",
      "1719/1719 [==============================] - 2s 1ms/step - loss: 0.0540 - accuracy: 0.9825 - val_loss: 0.0893 - val_accuracy: 0.9762\n",
      "Epoch 8/200\n",
      "1719/1719 [==============================] - 2s 1ms/step - loss: 0.0460 - accuracy: 0.9851 - val_loss: 0.0820 - val_accuracy: 0.9762\n",
      "Epoch 9/200\n",
      "1719/1719 [==============================] - 2s 1ms/step - loss: 0.0374 - accuracy: 0.9875 - val_loss: 0.0906 - val_accuracy: 0.9744\n",
      "Epoch 10/200\n",
      "1719/1719 [==============================] - 2s 1ms/step - loss: 0.0336 - accuracy: 0.9891 - val_loss: 0.0807 - val_accuracy: 0.9774\n",
      "Epoch 11/200\n",
      "1719/1719 [==============================] - 2s 1ms/step - loss: 0.0266 - accuracy: 0.9909 - val_loss: 0.0845 - val_accuracy: 0.9768\n",
      "Epoch 12/200\n",
      "1719/1719 [==============================] - 2s 1ms/step - loss: 0.0248 - accuracy: 0.9913 - val_loss: 0.0822 - val_accuracy: 0.9770\n",
      "Epoch 13/200\n",
      "1719/1719 [==============================] - 2s 1ms/step - loss: 0.0192 - accuracy: 0.9935 - val_loss: 0.0866 - val_accuracy: 0.9788\n",
      "Epoch 14/200\n",
      "1719/1719 [==============================] - 3s 2ms/step - loss: 0.0154 - accuracy: 0.9951 - val_loss: 0.0788 - val_accuracy: 0.9784\n",
      "Epoch 15/200\n",
      "1719/1719 [==============================] - 3s 1ms/step - loss: 0.0137 - accuracy: 0.9956 - val_loss: 0.0997 - val_accuracy: 0.9776\n",
      "Epoch 16/200\n",
      "1719/1719 [==============================] - 2s 1ms/step - loss: 0.0101 - accuracy: 0.9968 - val_loss: 0.0881 - val_accuracy: 0.9812\n",
      "Epoch 17/200\n",
      "1719/1719 [==============================] - 2s 1ms/step - loss: 0.0074 - accuracy: 0.9979 - val_loss: 0.0804 - val_accuracy: 0.9808\n",
      "Epoch 18/200\n",
      "1719/1719 [==============================] - 2s 1ms/step - loss: 0.0045 - accuracy: 0.9990 - val_loss: 0.0892 - val_accuracy: 0.9802\n",
      "Epoch 19/200\n",
      "1719/1719 [==============================] - 2s 1ms/step - loss: 0.0031 - accuracy: 0.9995 - val_loss: 0.0814 - val_accuracy: 0.9810\n",
      "Epoch 20/200\n",
      "1719/1719 [==============================] - 2s 1ms/step - loss: 0.0020 - accuracy: 0.9997 - val_loss: 0.0799 - val_accuracy: 0.9822\n",
      "Epoch 21/200\n",
      "1719/1719 [==============================] - 2s 1ms/step - loss: 0.0013 - accuracy: 1.0000 - val_loss: 0.0801 - val_accuracy: 0.9834\n",
      "Epoch 22/200\n",
      "1719/1719 [==============================] - 3s 2ms/step - loss: 0.0011 - accuracy: 0.9999 - val_loss: 0.0806 - val_accuracy: 0.9824\n",
      "Epoch 23/200\n",
      "1719/1719 [==============================] - 3s 1ms/step - loss: 8.3598e-04 - accuracy: 1.0000 - val_loss: 0.0796 - val_accuracy: 0.9836\n",
      "Epoch 24/200\n",
      "1719/1719 [==============================] - 2s 1ms/step - loss: 7.4855e-04 - accuracy: 1.0000 - val_loss: 0.0801 - val_accuracy: 0.9830\n"
     ]
    }
   ],
   "source": [
    "model=mnist_model_2(n_hidden=2,activation=\"selu\",learning_rate=0.1)\n",
    "\n",
    "early_stopping_cb=keras.callbacks.EarlyStopping(patience=10,restore_best_weights=True)\n",
    "checkpoint_cb=keras.callbacks.ModelCheckpoint(\"fashion_mnist_model_keras.h5\")\n",
    "\n",
    "run_logdir=get_run_logdir()\n",
    "tensorboard_cb=keras.callbacks.TensorBoard(run_logdir)\n",
    "history=model.fit(X_train,y_train,epochs=200,validation_data=(X_valid,y_valid),\n",
    "                 callbacks=[early_stopping_cb,checkpoint_cb,tensorboard_cb])"
   ]
  },
  {
   "cell_type": "code",
   "execution_count": null,
   "id": "faac50d3",
   "metadata": {},
   "outputs": [],
   "source": []
  }
 ],
 "metadata": {
  "kernelspec": {
   "display_name": "Python 3",
   "language": "python",
   "name": "python3"
  },
  "language_info": {
   "codemirror_mode": {
    "name": "ipython",
    "version": 3
   },
   "file_extension": ".py",
   "mimetype": "text/x-python",
   "name": "python",
   "nbconvert_exporter": "python",
   "pygments_lexer": "ipython3",
   "version": "3.7.10"
  }
 },
 "nbformat": 4,
 "nbformat_minor": 5
}
