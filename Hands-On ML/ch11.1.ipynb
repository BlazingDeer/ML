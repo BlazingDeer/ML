{
 "cells": [
  {
   "cell_type": "code",
   "execution_count": 1,
   "id": "8959c7b8",
   "metadata": {},
   "outputs": [],
   "source": [
    "import matplotlib.pyplot as plt\n",
    "import numpy as np\n",
    "import pandas as pd\n",
    "import tensorflow as tf\n",
    "from tensorflow import keras"
   ]
  },
  {
   "cell_type": "code",
   "execution_count": 5,
   "id": "65ce55b0",
   "metadata": {},
   "outputs": [
    {
     "data": {
      "text/plain": [
       "['Constant',\n",
       " 'GlorotNormal',\n",
       " 'GlorotUniform',\n",
       " 'HeNormal',\n",
       " 'HeUniform',\n",
       " 'Identity',\n",
       " 'Initializer',\n",
       " 'LecunNormal',\n",
       " 'LecunUniform',\n",
       " 'Ones',\n",
       " 'Orthogonal',\n",
       " 'RandomNormal',\n",
       " 'RandomUniform',\n",
       " 'TruncatedNormal',\n",
       " 'VarianceScaling',\n",
       " 'Zeros',\n",
       " 'constant',\n",
       " 'deserialize',\n",
       " 'get',\n",
       " 'glorot_normal',\n",
       " 'glorot_uniform',\n",
       " 'he_normal',\n",
       " 'he_uniform',\n",
       " 'identity',\n",
       " 'lecun_normal',\n",
       " 'lecun_uniform',\n",
       " 'ones',\n",
       " 'orthogonal',\n",
       " 'random_normal',\n",
       " 'random_uniform',\n",
       " 'serialize',\n",
       " 'truncated_normal',\n",
       " 'variance_scaling',\n",
       " 'zeros']"
      ]
     },
     "execution_count": 5,
     "metadata": {},
     "output_type": "execute_result"
    }
   ],
   "source": [
    "[name for name in dir(keras.initializers) if not name.startswith(\"_\")]"
   ]
  },
  {
   "cell_type": "code",
   "execution_count": 6,
   "id": "de03b0ef",
   "metadata": {},
   "outputs": [
    {
     "data": {
      "text/plain": [
       "['deserialize',\n",
       " 'elu',\n",
       " 'exponential',\n",
       " 'get',\n",
       " 'hard_sigmoid',\n",
       " 'linear',\n",
       " 'relu',\n",
       " 'selu',\n",
       " 'serialize',\n",
       " 'sigmoid',\n",
       " 'softmax',\n",
       " 'softplus',\n",
       " 'softsign',\n",
       " 'swish',\n",
       " 'tanh']"
      ]
     },
     "execution_count": 6,
     "metadata": {},
     "output_type": "execute_result"
    }
   ],
   "source": [
    "[m for m in dir(keras.activations) if not m.startswith(\"_\")]"
   ]
  },
  {
   "cell_type": "code",
   "execution_count": 2,
   "id": "9b86463a",
   "metadata": {},
   "outputs": [
    {
     "name": "stdout",
     "output_type": "stream",
     "text": [
      "Model: \"sequential\"\n",
      "_________________________________________________________________\n",
      "Layer (type)                 Output Shape              Param #   \n",
      "=================================================================\n",
      "flatten (Flatten)            (None, 784)               0         \n",
      "_________________________________________________________________\n",
      "batch_normalization (BatchNo (None, 784)               3136      \n",
      "_________________________________________________________________\n",
      "dense (Dense)                (None, 300)               235500    \n",
      "_________________________________________________________________\n",
      "batch_normalization_1 (Batch (None, 300)               1200      \n",
      "_________________________________________________________________\n",
      "dense_1 (Dense)              (None, 100)               30100     \n",
      "_________________________________________________________________\n",
      "batch_normalization_2 (Batch (None, 100)               400       \n",
      "_________________________________________________________________\n",
      "dense_2 (Dense)              (None, 10)                1010      \n",
      "=================================================================\n",
      "Total params: 271,346\n",
      "Trainable params: 268,978\n",
      "Non-trainable params: 2,368\n",
      "_________________________________________________________________\n"
     ]
    }
   ],
   "source": [
    "model=keras.models.Sequential([\n",
    "    keras.layers.Flatten(input_shape=[28,28]),\n",
    "    keras.layers.BatchNormalization(),\n",
    "    keras.layers.Dense(300,activation=\"elu\", kernel_initializer=\"he_normal\"),\n",
    "    keras.layers.BatchNormalization(),\n",
    "    keras.layers.Dense(100,activation=\"elu\", kernel_initializer=\"he_normal\"),\n",
    "    keras.layers.BatchNormalization(),\n",
    "    keras.layers.Dense(10,activation=\"softmax\")\n",
    "])\n",
    "\n",
    "model.summary()"
   ]
  },
  {
   "cell_type": "code",
   "execution_count": 3,
   "id": "2a844644",
   "metadata": {},
   "outputs": [
    {
     "data": {
      "text/plain": [
       "[('batch_normalization/gamma:0', True),\n",
       " ('batch_normalization/beta:0', True),\n",
       " ('batch_normalization/moving_mean:0', False),\n",
       " ('batch_normalization/moving_variance:0', False)]"
      ]
     },
     "execution_count": 3,
     "metadata": {},
     "output_type": "execute_result"
    }
   ],
   "source": [
    "[(var.name,var.trainable) for var in model.layers[1].variables]"
   ]
  },
  {
   "cell_type": "code",
   "execution_count": 2,
   "id": "d8f49967",
   "metadata": {},
   "outputs": [
    {
     "name": "stdout",
     "output_type": "stream",
     "text": [
      "Model: \"sequential\"\n",
      "_________________________________________________________________\n",
      "Layer (type)                 Output Shape              Param #   \n",
      "=================================================================\n",
      "flatten (Flatten)            (None, 784)               0         \n",
      "_________________________________________________________________\n",
      "batch_normalization (BatchNo (None, 784)               3136      \n",
      "_________________________________________________________________\n",
      "dense (Dense)                (None, 300)               235200    \n",
      "_________________________________________________________________\n",
      "batch_normalization_1 (Batch (None, 300)               1200      \n",
      "_________________________________________________________________\n",
      "activation (Activation)      (None, 300)               0         \n",
      "_________________________________________________________________\n",
      "dense_1 (Dense)              (None, 100)               30000     \n",
      "_________________________________________________________________\n",
      "batch_normalization_2 (Batch (None, 100)               400       \n",
      "_________________________________________________________________\n",
      "activation_1 (Activation)    (None, 100)               0         \n",
      "_________________________________________________________________\n",
      "dense_2 (Dense)              (None, 10)                1010      \n",
      "=================================================================\n",
      "Total params: 270,946\n",
      "Trainable params: 268,578\n",
      "Non-trainable params: 2,368\n",
      "_________________________________________________________________\n"
     ]
    }
   ],
   "source": [
    "model=keras.models.Sequential([\n",
    "    keras.layers.Flatten(input_shape=[28,28]),\n",
    "    keras.layers.BatchNormalization(),\n",
    "    keras.layers.Dense(300,kernel_initializer=\"he_normal\",use_bias=False),\n",
    "    keras.layers.BatchNormalization(),\n",
    "    keras.layers.Activation(\"elu\"),\n",
    "    keras.layers.Dense(100,kernel_initializer=\"he_normal\",use_bias=False),\n",
    "    keras.layers.BatchNormalization(),\n",
    "    keras.layers.Activation(\"elu\"),\n",
    "    keras.layers.Dense(10,activation=\"softmax\")\n",
    "])\n",
    "\n",
    "model.summary()"
   ]
  },
  {
   "cell_type": "code",
   "execution_count": 4,
   "id": "095bc3ba",
   "metadata": {},
   "outputs": [],
   "source": [
    "optimizer=keras.optimizers.SGD(clipvalue=1.0)\n",
    "model.compile(loss=\"mse\",optimizer=optimizer)"
   ]
  },
  {
   "cell_type": "code",
   "execution_count": 7,
   "id": "936e0774",
   "metadata": {},
   "outputs": [],
   "source": [
    "(X_train_full, y_train_full), (X_test, y_test) = keras.datasets.fashion_mnist.load_data()\n",
    "X_train_full = X_train_full / 255.0\n",
    "X_test = X_test / 255.0\n",
    "X_valid, X_train = X_train_full[:5000], X_train_full[5000:]\n",
    "y_valid, y_train = y_train_full[:5000], y_train_full[5000:]\n",
    "\n",
    "def split_dataset(X, y):\n",
    "    y_5_or_6 = (y == 5) | (y == 6) # sandals or shirts\n",
    "    y_A = y[~y_5_or_6]\n",
    "    y_A[y_A > 6] -= 2 # class indices 7, 8, 9 should be moved to 5, 6, 7\n",
    "    y_B = (y[y_5_or_6] == 6).astype(np.float32) # binary classification task: is it a shirt (class 6)?\n",
    "    return ((X[~y_5_or_6], y_A),\n",
    "            (X[y_5_or_6], y_B))\n",
    "\n",
    "(X_train_A, y_train_A), (X_train_B, y_train_B) = split_dataset(X_train, y_train)\n",
    "(X_valid_A, y_valid_A), (X_valid_B, y_valid_B) = split_dataset(X_valid, y_valid)\n",
    "(X_test_A, y_test_A), (X_test_B, y_test_B) = split_dataset(X_test, y_test)\n",
    "X_train_B = X_train_B[:200]\n",
    "y_train_B = y_train_B[:200]"
   ]
  },
  {
   "cell_type": "code",
   "execution_count": 11,
   "id": "e0ffde55",
   "metadata": {},
   "outputs": [],
   "source": [
    "model_A=keras.models.Sequential()\n",
    "model_A.add(keras.layers.Flatten(input_shape=[28,28]))\n",
    "for n_hidden in [300,100,50,50,50]:\n",
    "    model.add(keras.layers.Dense(n_hidden,activation=\"selu\",kernel_initializer=\"lecun_normal\"))\n",
    "model_A.add(keras.layers.Dense(8,activation=\"softmax\"))"
   ]
  },
  {
   "cell_type": "code",
   "execution_count": 14,
   "id": "4c112c08",
   "metadata": {},
   "outputs": [],
   "source": [
    "model_A.compile(loss=\"sparse_categorical_crossentropy\",\n",
    "               optimizer=keras.optimizers.SGD(learning_rate=1e-3),\n",
    "               metrics=[\"accuracy\"])"
   ]
  },
  {
   "cell_type": "code",
   "execution_count": 18,
   "id": "f057a8f0",
   "metadata": {
    "scrolled": true
   },
   "outputs": [
    {
     "name": "stdout",
     "output_type": "stream",
     "text": [
      "Epoch 1/40\n",
      "1375/1375 [==============================] - 2s 1ms/step - loss: 0.3348 - accuracy: 0.8901 - val_loss: 0.3306 - val_accuracy: 0.8936\n",
      "Epoch 2/40\n",
      "1375/1375 [==============================] - 2s 1ms/step - loss: 0.3332 - accuracy: 0.8906 - val_loss: 0.3294 - val_accuracy: 0.8941\n",
      "Epoch 3/40\n",
      "1375/1375 [==============================] - 2s 1ms/step - loss: 0.3317 - accuracy: 0.8911 - val_loss: 0.3276 - val_accuracy: 0.8964\n",
      "Epoch 4/40\n",
      "1375/1375 [==============================] - ETA: 0s - loss: 0.3305 - accuracy: 0.89 - 2s 1ms/step - loss: 0.3302 - accuracy: 0.8916 - val_loss: 0.3262 - val_accuracy: 0.8961\n",
      "Epoch 5/40\n",
      "1375/1375 [==============================] - 2s 1ms/step - loss: 0.3288 - accuracy: 0.8924 - val_loss: 0.3249 - val_accuracy: 0.8961\n",
      "Epoch 6/40\n",
      "1375/1375 [==============================] - 2s 1ms/step - loss: 0.3275 - accuracy: 0.8925 - val_loss: 0.3234 - val_accuracy: 0.8984\n",
      "Epoch 7/40\n",
      "1375/1375 [==============================] - 2s 1ms/step - loss: 0.3262 - accuracy: 0.8927 - val_loss: 0.3224 - val_accuracy: 0.8974\n",
      "Epoch 8/40\n",
      "1375/1375 [==============================] - 2s 1ms/step - loss: 0.3250 - accuracy: 0.8932 - val_loss: 0.3213 - val_accuracy: 0.8991\n",
      "Epoch 9/40\n",
      "1375/1375 [==============================] - 2s 1ms/step - loss: 0.3236 - accuracy: 0.8931 - val_loss: 0.3204 - val_accuracy: 0.9001\n",
      "Epoch 10/40\n",
      "1375/1375 [==============================] - 2s 1ms/step - loss: 0.3226 - accuracy: 0.8938 - val_loss: 0.3194 - val_accuracy: 0.8996\n",
      "Epoch 11/40\n",
      "1375/1375 [==============================] - 2s 1ms/step - loss: 0.3215 - accuracy: 0.8941 - val_loss: 0.3183 - val_accuracy: 0.9006\n",
      "Epoch 12/40\n",
      "1375/1375 [==============================] - 2s 1ms/step - loss: 0.3204 - accuracy: 0.8946 - val_loss: 0.3173 - val_accuracy: 0.9003\n",
      "Epoch 13/40\n",
      "1375/1375 [==============================] - 2s 1ms/step - loss: 0.3194 - accuracy: 0.8950 - val_loss: 0.3165 - val_accuracy: 0.9008\n",
      "Epoch 14/40\n",
      "1375/1375 [==============================] - 2s 1ms/step - loss: 0.3183 - accuracy: 0.8955 - val_loss: 0.3161 - val_accuracy: 0.8994\n",
      "Epoch 15/40\n",
      "1375/1375 [==============================] - 2s 1ms/step - loss: 0.3174 - accuracy: 0.8956 - val_loss: 0.3146 - val_accuracy: 0.9006\n",
      "Epoch 16/40\n",
      "1375/1375 [==============================] - 2s 1ms/step - loss: 0.3164 - accuracy: 0.8959 - val_loss: 0.3143 - val_accuracy: 0.9011\n",
      "Epoch 17/40\n",
      "1375/1375 [==============================] - 2s 1ms/step - loss: 0.3155 - accuracy: 0.8960 - val_loss: 0.3131 - val_accuracy: 0.9008\n",
      "Epoch 18/40\n",
      "1375/1375 [==============================] - 2s 1ms/step - loss: 0.3147 - accuracy: 0.8964 - val_loss: 0.3121 - val_accuracy: 0.9016\n",
      "Epoch 19/40\n",
      "1375/1375 [==============================] - 2s 1ms/step - loss: 0.3138 - accuracy: 0.8969 - val_loss: 0.3115 - val_accuracy: 0.9011\n",
      "Epoch 20/40\n",
      "1375/1375 [==============================] - 2s 1ms/step - loss: 0.3130 - accuracy: 0.8971 - val_loss: 0.3105 - val_accuracy: 0.9021\n",
      "Epoch 21/40\n",
      "1375/1375 [==============================] - 2s 1ms/step - loss: 0.3121 - accuracy: 0.8979 - val_loss: 0.3102 - val_accuracy: 0.9018\n",
      "Epoch 22/40\n",
      "1375/1375 [==============================] - 2s 1ms/step - loss: 0.3114 - accuracy: 0.8975 - val_loss: 0.3098 - val_accuracy: 0.9018\n",
      "Epoch 23/40\n",
      "1375/1375 [==============================] - 2s 1ms/step - loss: 0.3106 - accuracy: 0.8986 - val_loss: 0.3086 - val_accuracy: 0.9028\n",
      "Epoch 24/40\n",
      "1375/1375 [==============================] - 2s 1ms/step - loss: 0.3098 - accuracy: 0.8982 - val_loss: 0.3079 - val_accuracy: 0.9026\n",
      "Epoch 25/40\n",
      "1375/1375 [==============================] - 2s 1ms/step - loss: 0.3091 - accuracy: 0.8983 - val_loss: 0.3075 - val_accuracy: 0.9018\n",
      "Epoch 26/40\n",
      "1375/1375 [==============================] - 2s 1ms/step - loss: 0.3084 - accuracy: 0.8984 - val_loss: 0.3065 - val_accuracy: 0.9026\n",
      "Epoch 27/40\n",
      "1375/1375 [==============================] - 2s 1ms/step - loss: 0.3077 - accuracy: 0.8988 - val_loss: 0.3061 - val_accuracy: 0.9033\n",
      "Epoch 28/40\n",
      "1375/1375 [==============================] - 2s 1ms/step - loss: 0.3070 - accuracy: 0.8990 - val_loss: 0.3054 - val_accuracy: 0.9031\n",
      "Epoch 29/40\n",
      "1375/1375 [==============================] - 2s 1ms/step - loss: 0.3064 - accuracy: 0.8993 - val_loss: 0.3051 - val_accuracy: 0.9036\n",
      "Epoch 30/40\n",
      "1375/1375 [==============================] - 2s 1ms/step - loss: 0.3057 - accuracy: 0.8995 - val_loss: 0.3044 - val_accuracy: 0.9036\n",
      "Epoch 31/40\n",
      "1375/1375 [==============================] - 2s 1ms/step - loss: 0.3050 - accuracy: 0.8998 - val_loss: 0.3039 - val_accuracy: 0.9038\n",
      "Epoch 32/40\n",
      "1375/1375 [==============================] - 2s 1ms/step - loss: 0.3044 - accuracy: 0.8999 - val_loss: 0.3033 - val_accuracy: 0.9033\n",
      "Epoch 33/40\n",
      "1375/1375 [==============================] - 2s 1ms/step - loss: 0.3039 - accuracy: 0.9000 - val_loss: 0.3027 - val_accuracy: 0.9046\n",
      "Epoch 34/40\n",
      "1375/1375 [==============================] - 2s 1ms/step - loss: 0.3032 - accuracy: 0.9002 - val_loss: 0.3021 - val_accuracy: 0.9048\n",
      "Epoch 35/40\n",
      "1375/1375 [==============================] - 2s 1ms/step - loss: 0.3026 - accuracy: 0.9007 - val_loss: 0.3016 - val_accuracy: 0.9048\n",
      "Epoch 36/40\n",
      "1375/1375 [==============================] - 2s 1ms/step - loss: 0.3021 - accuracy: 0.9008 - val_loss: 0.3010 - val_accuracy: 0.9051\n",
      "Epoch 37/40\n",
      "1375/1375 [==============================] - 2s 1ms/step - loss: 0.3014 - accuracy: 0.9015 - val_loss: 0.3008 - val_accuracy: 0.9043\n",
      "Epoch 38/40\n",
      "1375/1375 [==============================] - 2s 1ms/step - loss: 0.3010 - accuracy: 0.9012 - val_loss: 0.3001 - val_accuracy: 0.9041\n",
      "Epoch 39/40\n",
      "1375/1375 [==============================] - 2s 1ms/step - loss: 0.3005 - accuracy: 0.9013 - val_loss: 0.2999 - val_accuracy: 0.9053\n",
      "Epoch 40/40\n",
      "1375/1375 [==============================] - 2s 1ms/step - loss: 0.2999 - accuracy: 0.9013 - val_loss: 0.2995 - val_accuracy: 0.9056\n"
     ]
    }
   ],
   "source": [
    "checkpoint_cb=keras.callbacks.ModelCheckpoint(\"my_model_A.h5\")\n",
    "history=model_A.fit(X_train_A,y_train_A,epochs=40,\n",
    "                 validation_data=(X_valid_A,y_valid_A),\n",
    "                   callbacks=[checkpoint_cb])\n"
   ]
  },
  {
   "cell_type": "code",
   "execution_count": 19,
   "id": "890c028e",
   "metadata": {},
   "outputs": [
    {
     "name": "stdout",
     "output_type": "stream",
     "text": [
      "250/250 [==============================] - 0s 1ms/step - loss: 0.3159 - accuracy: 0.8936\n"
     ]
    },
    {
     "data": {
      "text/plain": [
       "[0.3158901333808899, 0.893625020980835]"
      ]
     },
     "execution_count": 19,
     "metadata": {},
     "output_type": "execute_result"
    }
   ],
   "source": [
    "model_A.evaluate(X_test_A,y_test_A)"
   ]
  },
  {
   "cell_type": "code",
   "execution_count": 20,
   "id": "0bbc022c",
   "metadata": {},
   "outputs": [],
   "source": [
    "model_A_clone=keras.models.clone_model(model_A)\n",
    "model_A_clone.set_weights(model_A.get_weights())\n",
    "model_B_on_A=keras.models.Sequential(model_A_clone.layers[:-1])\n",
    "model_B_on_A.add(keras.layers.Dense(1,activation=\"sigmoid\"))\n",
    "\n",
    "for layer in model_B_on_A.layers[:-1]:\n",
    "    layer.trainable=False\n",
    "    \n",
    "model_B_on_A.compile(loss=\"binary_crossentropy\",optimizer=\"sgd\",metrics=[\"accuracy\"])"
   ]
  },
  {
   "cell_type": "code",
   "execution_count": 21,
   "id": "84b7f57c",
   "metadata": {
    "scrolled": true
   },
   "outputs": [
    {
     "name": "stdout",
     "output_type": "stream",
     "text": [
      "Epoch 1/10\n",
      "7/7 [==============================] - 0s 21ms/step - loss: 0.6752 - accuracy: 0.5700 - val_loss: 0.5764 - val_accuracy: 0.7150\n",
      "Epoch 2/10\n",
      "7/7 [==============================] - 0s 8ms/step - loss: 0.5546 - accuracy: 0.7250 - val_loss: 0.4993 - val_accuracy: 0.7748\n",
      "Epoch 3/10\n",
      "7/7 [==============================] - 0s 8ms/step - loss: 0.4811 - accuracy: 0.8050 - val_loss: 0.4401 - val_accuracy: 0.8560\n",
      "Epoch 4/10\n",
      "7/7 [==============================] - 0s 8ms/step - loss: 0.4219 - accuracy: 0.8350 - val_loss: 0.3950 - val_accuracy: 0.8976\n",
      "Epoch 5/10\n",
      "7/7 [==============================] - 0s 8ms/step - loss: 0.3768 - accuracy: 0.8600 - val_loss: 0.3600 - val_accuracy: 0.9158\n",
      "Epoch 6/10\n",
      "7/7 [==============================] - 0s 8ms/step - loss: 0.3411 - accuracy: 0.9050 - val_loss: 0.3294 - val_accuracy: 0.9351\n",
      "Epoch 7/10\n",
      "7/7 [==============================] - 0s 8ms/step - loss: 0.3105 - accuracy: 0.9600 - val_loss: 0.3058 - val_accuracy: 0.9412\n",
      "Epoch 8/10\n",
      "7/7 [==============================] - 0s 8ms/step - loss: 0.2869 - accuracy: 0.9600 - val_loss: 0.2845 - val_accuracy: 0.9523\n",
      "Epoch 9/10\n",
      "7/7 [==============================] - 0s 8ms/step - loss: 0.2660 - accuracy: 0.9700 - val_loss: 0.2659 - val_accuracy: 0.9594\n",
      "Epoch 10/10\n",
      "7/7 [==============================] - 0s 8ms/step - loss: 0.2469 - accuracy: 0.9800 - val_loss: 0.2510 - val_accuracy: 0.9645\n",
      "Epoch 1/20\n",
      "7/7 [==============================] - 0s 22ms/step - loss: 0.2364 - accuracy: 0.9800 - val_loss: 0.2508 - val_accuracy: 0.9645\n",
      "Epoch 2/20\n",
      "7/7 [==============================] - 0s 11ms/step - loss: 0.2363 - accuracy: 0.9800 - val_loss: 0.2507 - val_accuracy: 0.9645\n",
      "Epoch 3/20\n",
      "7/7 [==============================] - 0s 10ms/step - loss: 0.2361 - accuracy: 0.9800 - val_loss: 0.2506 - val_accuracy: 0.9645\n",
      "Epoch 4/20\n",
      "7/7 [==============================] - 0s 9ms/step - loss: 0.2360 - accuracy: 0.9800 - val_loss: 0.2504 - val_accuracy: 0.9645\n",
      "Epoch 5/20\n",
      "7/7 [==============================] - 0s 8ms/step - loss: 0.2358 - accuracy: 0.9800 - val_loss: 0.2503 - val_accuracy: 0.9645\n",
      "Epoch 6/20\n",
      "7/7 [==============================] - 0s 9ms/step - loss: 0.2357 - accuracy: 0.9800 - val_loss: 0.2502 - val_accuracy: 0.9645\n",
      "Epoch 7/20\n",
      "7/7 [==============================] - 0s 8ms/step - loss: 0.2355 - accuracy: 0.9800 - val_loss: 0.2500 - val_accuracy: 0.9645\n",
      "Epoch 8/20\n",
      "7/7 [==============================] - 0s 10ms/step - loss: 0.2354 - accuracy: 0.9800 - val_loss: 0.2499 - val_accuracy: 0.9645\n",
      "Epoch 9/20\n",
      "7/7 [==============================] - 0s 10ms/step - loss: 0.2352 - accuracy: 0.9800 - val_loss: 0.2498 - val_accuracy: 0.9645\n",
      "Epoch 10/20\n",
      "7/7 [==============================] - 0s 9ms/step - loss: 0.2351 - accuracy: 0.9800 - val_loss: 0.2496 - val_accuracy: 0.9645\n",
      "Epoch 11/20\n",
      "7/7 [==============================] - 0s 9ms/step - loss: 0.2349 - accuracy: 0.9800 - val_loss: 0.2495 - val_accuracy: 0.9645\n",
      "Epoch 12/20\n",
      "7/7 [==============================] - 0s 9ms/step - loss: 0.2348 - accuracy: 0.9800 - val_loss: 0.2494 - val_accuracy: 0.9645\n",
      "Epoch 13/20\n",
      "7/7 [==============================] - 0s 12ms/step - loss: 0.2347 - accuracy: 0.9800 - val_loss: 0.2492 - val_accuracy: 0.9645\n",
      "Epoch 14/20\n",
      "7/7 [==============================] - 0s 10ms/step - loss: 0.2345 - accuracy: 0.9800 - val_loss: 0.2491 - val_accuracy: 0.9645\n",
      "Epoch 15/20\n",
      "7/7 [==============================] - 0s 9ms/step - loss: 0.2344 - accuracy: 0.9800 - val_loss: 0.2489 - val_accuracy: 0.9645\n",
      "Epoch 16/20\n",
      "7/7 [==============================] - 0s 8ms/step - loss: 0.2342 - accuracy: 0.9800 - val_loss: 0.2488 - val_accuracy: 0.9645\n",
      "Epoch 17/20\n",
      "7/7 [==============================] - 0s 8ms/step - loss: 0.2341 - accuracy: 0.9800 - val_loss: 0.2487 - val_accuracy: 0.9645\n",
      "Epoch 18/20\n",
      "7/7 [==============================] - 0s 8ms/step - loss: 0.2339 - accuracy: 0.9800 - val_loss: 0.2485 - val_accuracy: 0.9655\n",
      "Epoch 19/20\n",
      "7/7 [==============================] - 0s 8ms/step - loss: 0.2338 - accuracy: 0.9800 - val_loss: 0.2484 - val_accuracy: 0.9655\n",
      "Epoch 20/20\n",
      "7/7 [==============================] - 0s 8ms/step - loss: 0.2336 - accuracy: 0.9800 - val_loss: 0.2483 - val_accuracy: 0.9655\n",
      "63/63 [==============================] - 0s 1ms/step - loss: 0.2542 - accuracy: 0.9680\n"
     ]
    },
    {
     "data": {
      "text/plain": [
       "[0.254163920879364, 0.9679999947547913]"
      ]
     },
     "execution_count": 21,
     "metadata": {},
     "output_type": "execute_result"
    }
   ],
   "source": [
    "history=model_B_on_A.fit(X_train_B,y_train_B,epochs=10,\n",
    "                        validation_data=(X_valid_B,y_valid_B))\n",
    "for layer in model_B_on_A.layers[:-1]:\n",
    "    layer.trainable=True\n",
    "    \n",
    "model_B_on_A.compile(loss=\"binary_crossentropy\",\n",
    "                    optimizer=keras.optimizers.SGD(learning_rate=1e-4),\n",
    "                    metrics=[\"accuracy\"])\n",
    "history=model_B_on_A.fit(X_train_B,y_train_B,epochs=20,\n",
    "                        validation_data=(X_valid_B,y_valid_B))\n",
    "\n",
    "model_B_on_A.evaluate(X_test_B,y_test_B)"
   ]
  },
  {
   "cell_type": "code",
   "execution_count": 2,
   "id": "e1a37f07",
   "metadata": {},
   "outputs": [],
   "source": [
    "(X_train_full, y_train_full), (X_test, y_test) = keras.datasets.fashion_mnist.load_data()\n",
    "X_train_full = X_train_full / 255.0\n",
    "X_test = X_test / 255.0\n",
    "X_valid, X_train = X_train_full[:5000], X_train_full[5000:]\n",
    "y_valid, y_train = y_train_full[:5000], y_train_full[5000:]"
   ]
  },
  {
   "cell_type": "code",
   "execution_count": 5,
   "id": "18d8e303",
   "metadata": {},
   "outputs": [],
   "source": [
    "model=keras.models.Sequential([\n",
    "    keras.layers.Flatten(input_shape=[28,28]),\n",
    "    keras.layers.Dense(200,activation=\"selu\",kernel_initializer=\"lecun_normal\"),\n",
    "    keras.layers.Dense(100,activation=\"selu\",kernel_initializer=\"lecun_normal\"),\n",
    "    keras.layers.Dense(50,activation=\"selu\",kernel_initializer=\"lecun_normal\"),\n",
    "    keras.layers.Dense(10,activation=\"softmax\")\n",
    "])\n",
    "\n",
    "optimizer=keras.optimizers.SGD(learning_rate=1e-2,decay=1e-4)\n",
    "model.compile(loss=\"sparse_categorical_crossentropy\",\n",
    "             optimizer=optimizer,\n",
    "             metrics=[\"accuracy\"])"
   ]
  },
  {
   "cell_type": "code",
   "execution_count": 6,
   "id": "ade1fd36",
   "metadata": {
    "scrolled": true
   },
   "outputs": [
    {
     "name": "stdout",
     "output_type": "stream",
     "text": [
      "Epoch 1/30\n",
      "1719/1719 [==============================] - 2s 1ms/step - loss: 0.5811 - accuracy: 0.7966 - val_loss: 0.4547 - val_accuracy: 0.8374\n",
      "Epoch 2/30\n",
      "1719/1719 [==============================] - 2s 1ms/step - loss: 0.4412 - accuracy: 0.8424 - val_loss: 0.4057 - val_accuracy: 0.8570\n",
      "Epoch 3/30\n",
      "1719/1719 [==============================] - 2s 1ms/step - loss: 0.4099 - accuracy: 0.8527 - val_loss: 0.4050 - val_accuracy: 0.8572\n",
      "Epoch 4/30\n",
      "1719/1719 [==============================] - 2s 1ms/step - loss: 0.3915 - accuracy: 0.8597 - val_loss: 0.3835 - val_accuracy: 0.8628\n",
      "Epoch 5/30\n",
      "1719/1719 [==============================] - 2s 1ms/step - loss: 0.3783 - accuracy: 0.8654 - val_loss: 0.3703 - val_accuracy: 0.8688\n",
      "Epoch 6/30\n",
      "1719/1719 [==============================] - 2s 1ms/step - loss: 0.3674 - accuracy: 0.8682 - val_loss: 0.3700 - val_accuracy: 0.8684\n",
      "Epoch 7/30\n",
      "1719/1719 [==============================] - 2s 1ms/step - loss: 0.3590 - accuracy: 0.8697 - val_loss: 0.3653 - val_accuracy: 0.8688\n",
      "Epoch 8/30\n",
      "1719/1719 [==============================] - 2s 1ms/step - loss: 0.3520 - accuracy: 0.8738 - val_loss: 0.3581 - val_accuracy: 0.8724\n",
      "Epoch 9/30\n",
      "1719/1719 [==============================] - 2s 1ms/step - loss: 0.3462 - accuracy: 0.8759 - val_loss: 0.3595 - val_accuracy: 0.8712\n",
      "Epoch 10/30\n",
      "1719/1719 [==============================] - 2s 1ms/step - loss: 0.3395 - accuracy: 0.8775 - val_loss: 0.3550 - val_accuracy: 0.8738\n",
      "Epoch 11/30\n",
      "1719/1719 [==============================] - 2s 1ms/step - loss: 0.3348 - accuracy: 0.8794 - val_loss: 0.3570 - val_accuracy: 0.8724\n",
      "Epoch 12/30\n",
      "1719/1719 [==============================] - 2s 1ms/step - loss: 0.3308 - accuracy: 0.8816 - val_loss: 0.3578 - val_accuracy: 0.8712\n",
      "Epoch 13/30\n",
      "1719/1719 [==============================] - 2s 1ms/step - loss: 0.3265 - accuracy: 0.8828 - val_loss: 0.3477 - val_accuracy: 0.8774\n",
      "Epoch 14/30\n",
      "1719/1719 [==============================] - 2s 1ms/step - loss: 0.3225 - accuracy: 0.8838 - val_loss: 0.3422 - val_accuracy: 0.8744\n",
      "Epoch 15/30\n",
      "1719/1719 [==============================] - 2s 1ms/step - loss: 0.3195 - accuracy: 0.8849 - val_loss: 0.3439 - val_accuracy: 0.8746\n",
      "Epoch 16/30\n",
      "1719/1719 [==============================] - 2s 1ms/step - loss: 0.3162 - accuracy: 0.8859 - val_loss: 0.3542 - val_accuracy: 0.8778\n",
      "Epoch 17/30\n",
      "1719/1719 [==============================] - 2s 1ms/step - loss: 0.3129 - accuracy: 0.8876 - val_loss: 0.3440 - val_accuracy: 0.8740\n",
      "Epoch 18/30\n",
      "1719/1719 [==============================] - 2s 1ms/step - loss: 0.3099 - accuracy: 0.8888 - val_loss: 0.3421 - val_accuracy: 0.8770\n",
      "Epoch 19/30\n",
      "1719/1719 [==============================] - 2s 1ms/step - loss: 0.3073 - accuracy: 0.8897 - val_loss: 0.3400 - val_accuracy: 0.8808\n",
      "Epoch 20/30\n",
      "1719/1719 [==============================] - 2s 1ms/step - loss: 0.3048 - accuracy: 0.8914 - val_loss: 0.3369 - val_accuracy: 0.8774\n",
      "Epoch 21/30\n",
      "1719/1719 [==============================] - 2s 1ms/step - loss: 0.3024 - accuracy: 0.8917 - val_loss: 0.3370 - val_accuracy: 0.8794\n",
      "Epoch 22/30\n",
      "1719/1719 [==============================] - 2s 1ms/step - loss: 0.3008 - accuracy: 0.8928 - val_loss: 0.3318 - val_accuracy: 0.8780\n",
      "Epoch 23/30\n",
      "1719/1719 [==============================] - 2s 1ms/step - loss: 0.2987 - accuracy: 0.8923 - val_loss: 0.3326 - val_accuracy: 0.8782\n",
      "Epoch 24/30\n",
      "1719/1719 [==============================] - 2s 1ms/step - loss: 0.2964 - accuracy: 0.8943 - val_loss: 0.3322 - val_accuracy: 0.8804\n",
      "Epoch 25/30\n",
      "1719/1719 [==============================] - 2s 1ms/step - loss: 0.2943 - accuracy: 0.8943 - val_loss: 0.3276 - val_accuracy: 0.8782\n",
      "Epoch 26/30\n",
      "1719/1719 [==============================] - 2s 1ms/step - loss: 0.2921 - accuracy: 0.8952 - val_loss: 0.3352 - val_accuracy: 0.8772\n",
      "Epoch 27/30\n",
      "1719/1719 [==============================] - 2s 1ms/step - loss: 0.2904 - accuracy: 0.8962 - val_loss: 0.3342 - val_accuracy: 0.8756\n",
      "Epoch 28/30\n",
      "1719/1719 [==============================] - 2s 1ms/step - loss: 0.2888 - accuracy: 0.8967 - val_loss: 0.3279 - val_accuracy: 0.8796\n",
      "Epoch 29/30\n",
      "1719/1719 [==============================] - 2s 1ms/step - loss: 0.2871 - accuracy: 0.8971 - val_loss: 0.3238 - val_accuracy: 0.8794\n",
      "Epoch 30/30\n",
      "1719/1719 [==============================] - 2s 1ms/step - loss: 0.2858 - accuracy: 0.8983 - val_loss: 0.3251 - val_accuracy: 0.8814\n"
     ]
    }
   ],
   "source": [
    "history=model.fit(X_train,y_train,epochs=30,validation_data=(X_valid,y_valid))"
   ]
  },
  {
   "cell_type": "code",
   "execution_count": 8,
   "id": "6ca2e1d5",
   "metadata": {},
   "outputs": [
    {
     "name": "stdout",
     "output_type": "stream",
     "text": [
      "313/313 [==============================] - 0s 951us/step - loss: 0.3573 - accuracy: 0.8727\n"
     ]
    },
    {
     "data": {
      "text/plain": [
       "[0.3572896718978882, 0.8726999759674072]"
      ]
     },
     "execution_count": 8,
     "metadata": {},
     "output_type": "execute_result"
    },
    {
     "data": {
      "image/png": "[encoded data removed]",
      "text/plain": [
       "<Figure size 576x360 with 1 Axes>"
      ]
     },
     "metadata": {
      "needs_background": "light"
     },
     "output_type": "display_data"
    }
   ],
   "source": [
    "pd.DataFrame(history.history).plot(figsize=(8,5))\n",
    "model.evaluate(X_test,y_test)"
   ]
  },
  {
   "cell_type": "code",
   "execution_count": 9,
   "id": "2f09b07e",
   "metadata": {},
   "outputs": [],
   "source": [
    "def exponential_decay(lr,s):\n",
    "    def exponential_decay_fn(epoch):\n",
    "        return lr*(0.1**(epoch/s))\n",
    "    return exponential_decay_fn"
   ]
  },
  {
   "cell_type": "code",
   "execution_count": 13,
   "id": "ed155f77",
   "metadata": {},
   "outputs": [],
   "source": [
    "model=keras.models.Sequential([\n",
    "    keras.layers.Flatten(input_shape=[28,28]),\n",
    "    keras.layers.Dense(200,activation=\"selu\",kernel_initializer=\"lecun_normal\"),\n",
    "    keras.layers.Dense(100,activation=\"selu\",kernel_initializer=\"lecun_normal\"),\n",
    "    keras.layers.Dense(50,activation=\"selu\",kernel_initializer=\"lecun_normal\"),\n",
    "    keras.layers.Dense(10,activation=\"softmax\")\n",
    "])\n",
    "\n",
    "model.compile(loss=\"sparse_categorical_crossentropy\", optimizer=\"nadam\", metrics=[\"accuracy\"])"
   ]
  },
  {
   "cell_type": "code",
   "execution_count": 14,
   "id": "d420acf2",
   "metadata": {
    "scrolled": true
   },
   "outputs": [
    {
     "name": "stdout",
     "output_type": "stream",
     "text": [
      "Epoch 1/30\n",
      "1692/1719 [============================>.] - ETA: 0s - loss: 0.6742 - accuracy: 0.7701WARNING:tensorflow:Callbacks method `on_test_batch_end` is slow compared to the batch time (batch time: 0.0000s vs `on_test_batch_end` time: 0.0010s). Check your callbacks.\n",
      "1719/1719 [==============================] - 3s 2ms/step - loss: 0.6716 - accuracy: 0.7709 - val_loss: 0.5852 - val_accuracy: 0.8004\n",
      "Epoch 2/30\n",
      "1719/1719 [==============================] - 3s 2ms/step - loss: 0.4837 - accuracy: 0.8308 - val_loss: 0.6581 - val_accuracy: 0.7394\n",
      "Epoch 3/30\n",
      "1719/1719 [==============================] - 3s 2ms/step - loss: 0.4283 - accuracy: 0.8497 - val_loss: 0.4004 - val_accuracy: 0.8600\n",
      "Epoch 4/30\n",
      "1719/1719 [==============================] - 3s 2ms/step - loss: 0.3948 - accuracy: 0.8629 - val_loss: 0.4128 - val_accuracy: 0.8666\n",
      "Epoch 5/30\n",
      "1719/1719 [==============================] - 3s 2ms/step - loss: 0.3693 - accuracy: 0.8705 - val_loss: 0.4084 - val_accuracy: 0.8686\n",
      "Epoch 6/30\n",
      "1719/1719 [==============================] - 3s 2ms/step - loss: 0.3496 - accuracy: 0.8782 - val_loss: 0.3883 - val_accuracy: 0.8646\n",
      "Epoch 7/30\n",
      "1719/1719 [==============================] - 3s 2ms/step - loss: 0.3301 - accuracy: 0.8831 - val_loss: 0.3561 - val_accuracy: 0.8804\n",
      "Epoch 8/30\n",
      "1719/1719 [==============================] - 3s 2ms/step - loss: 0.3195 - accuracy: 0.8877 - val_loss: 0.3620 - val_accuracy: 0.8792\n",
      "Epoch 9/30\n",
      "1719/1719 [==============================] - 3s 2ms/step - loss: 0.2969 - accuracy: 0.8942 - val_loss: 0.3325 - val_accuracy: 0.8858\n",
      "Epoch 10/30\n",
      "1719/1719 [==============================] - 3s 2ms/step - loss: 0.2835 - accuracy: 0.8980 - val_loss: 0.3688 - val_accuracy: 0.8694\n",
      "Epoch 11/30\n",
      "1719/1719 [==============================] - 3s 2ms/step - loss: 0.2775 - accuracy: 0.9013 - val_loss: 0.3537 - val_accuracy: 0.8880\n",
      "Epoch 12/30\n",
      "1719/1719 [==============================] - 3s 2ms/step - loss: 0.2586 - accuracy: 0.9055 - val_loss: 0.3768 - val_accuracy: 0.8896\n",
      "Epoch 13/30\n",
      "1719/1719 [==============================] - 3s 2ms/step - loss: 0.2460 - accuracy: 0.9090 - val_loss: 0.3834 - val_accuracy: 0.8890\n",
      "Epoch 14/30\n",
      "1719/1719 [==============================] - 3s 2ms/step - loss: 0.2365 - accuracy: 0.9138 - val_loss: 0.3682 - val_accuracy: 0.8886\n",
      "Epoch 15/30\n",
      "1719/1719 [==============================] - 4s 2ms/step - loss: 0.2306 - accuracy: 0.9165 - val_loss: 0.3659 - val_accuracy: 0.8918\n",
      "Epoch 16/30\n",
      "1719/1719 [==============================] - 3s 2ms/step - loss: 0.2194 - accuracy: 0.9197 - val_loss: 0.3632 - val_accuracy: 0.8878\n",
      "Epoch 17/30\n",
      "1719/1719 [==============================] - 3s 2ms/step - loss: 0.2110 - accuracy: 0.9225 - val_loss: 0.3455 - val_accuracy: 0.8924\n",
      "Epoch 18/30\n",
      "1719/1719 [==============================] - 3s 2ms/step - loss: 0.2036 - accuracy: 0.9250 - val_loss: 0.3588 - val_accuracy: 0.8808\n",
      "Epoch 19/30\n",
      "1719/1719 [==============================] - 3s 2ms/step - loss: 0.1983 - accuracy: 0.9270 - val_loss: 0.3637 - val_accuracy: 0.8936\n",
      "Epoch 20/30\n",
      "1719/1719 [==============================] - 3s 2ms/step - loss: 0.1896 - accuracy: 0.9300 - val_loss: 0.3480 - val_accuracy: 0.8976\n",
      "Epoch 21/30\n",
      "1719/1719 [==============================] - 3s 2ms/step - loss: 0.1837 - accuracy: 0.9320 - val_loss: 0.3766 - val_accuracy: 0.8910\n",
      "Epoch 22/30\n",
      "1719/1719 [==============================] - 3s 2ms/step - loss: 0.1787 - accuracy: 0.9330 - val_loss: 0.3624 - val_accuracy: 0.8914\n",
      "Epoch 23/30\n",
      "1719/1719 [==============================] - 3s 2ms/step - loss: 0.1730 - accuracy: 0.9362 - val_loss: 0.3814 - val_accuracy: 0.8930\n",
      "Epoch 24/30\n",
      "1719/1719 [==============================] - 3s 2ms/step - loss: 0.1764 - accuracy: 0.9375 - val_loss: 0.3652 - val_accuracy: 0.8958\n",
      "Epoch 25/30\n",
      "1719/1719 [==============================] - 3s 2ms/step - loss: 0.1648 - accuracy: 0.9393 - val_loss: 0.3819 - val_accuracy: 0.8986\n",
      "Epoch 26/30\n",
      "1719/1719 [==============================] - 3s 2ms/step - loss: 0.1600 - accuracy: 0.9415 - val_loss: 0.3773 - val_accuracy: 0.8988\n",
      "Epoch 27/30\n",
      "1719/1719 [==============================] - 3s 2ms/step - loss: 0.1577 - accuracy: 0.9422 - val_loss: 0.3906 - val_accuracy: 0.8994\n",
      "Epoch 28/30\n",
      "1719/1719 [==============================] - 3s 2ms/step - loss: 0.1546 - accuracy: 0.9433 - val_loss: 0.3927 - val_accuracy: 0.8988\n",
      "Epoch 29/30\n",
      "1719/1719 [==============================] - 3s 2ms/step - loss: 0.1511 - accuracy: 0.9449 - val_loss: 0.4133 - val_accuracy: 0.8976\n",
      "Epoch 30/30\n",
      "1719/1719 [==============================] - 3s 2ms/step - loss: 0.1492 - accuracy: 0.9462 - val_loss: 0.4169 - val_accuracy: 0.8980\n"
     ]
    }
   ],
   "source": [
    "learning_rate=1e-2\n",
    "s=20\n",
    "lr_cb=keras.callbacks.LearningRateScheduler(exponential_decay(lr=learning_rate,s=s))\n",
    "history=model.fit(X_train,y_train,epochs=30,validation_data=(X_valid,y_valid),\n",
    "                 callbacks=[lr_cb])"
   ]
  },
  {
   "cell_type": "code",
   "execution_count": 15,
   "id": "28c0139f",
   "metadata": {},
   "outputs": [
    {
     "name": "stdout",
     "output_type": "stream",
     "text": [
      "313/313 [==============================] - 0s 925us/step - loss: 0.4178 - accuracy: 0.8905\n"
     ]
    },
    {
     "data": {
      "text/plain": [
       "[0.4177727997303009, 0.890500009059906]"
      ]
     },
     "execution_count": 15,
     "metadata": {},
     "output_type": "execute_result"
    },
    {
     "data": {
      "image/png": "[encoded data removed]",
      "text/plain": [
       "<Figure size 576x360 with 1 Axes>"
      ]
     },
     "metadata": {
      "needs_background": "light"
     },
     "output_type": "display_data"
    }
   ],
   "source": [
    "pd.DataFrame(history.history).plot(figsize=(8,5))\n",
    "plt.title(\"Exponential scheduling\")\n",
    "model.evaluate(X_test,y_test)"
   ]
  },
  {
   "cell_type": "code",
   "execution_count": 16,
   "id": "eacf50b8",
   "metadata": {},
   "outputs": [],
   "source": [
    "def piecewise_constant_scheduling(epoch):\n",
    "    if epoch < 10:\n",
    "        return 1e-2\n",
    "    elif epoch < 20:\n",
    "        return 1e-3\n",
    "    elif epoch < 30:\n",
    "        return 3e-4"
   ]
  },
  {
   "cell_type": "code",
   "execution_count": 20,
   "id": "d24a80bb",
   "metadata": {},
   "outputs": [],
   "source": [
    "model=keras.models.Sequential([\n",
    "    keras.layers.Flatten(input_shape=[28,28]),\n",
    "    keras.layers.Dense(200,activation=\"selu\",kernel_initializer=\"lecun_normal\"),\n",
    "    keras.layers.Dense(100,activation=\"selu\",kernel_initializer=\"lecun_normal\"),\n",
    "    keras.layers.Dense(50,activation=\"selu\",kernel_initializer=\"lecun_normal\"),\n",
    "    keras.layers.Dense(10,activation=\"softmax\")\n",
    "])\n",
    "\n",
    "model.compile(loss=\"sparse_categorical_crossentropy\", optimizer=\"nadam\", metrics=[\"accuracy\"])"
   ]
  },
  {
   "cell_type": "code",
   "execution_count": 21,
   "id": "d27ef291",
   "metadata": {
    "scrolled": true
   },
   "outputs": [
    {
     "name": "stdout",
     "output_type": "stream",
     "text": [
      "Epoch 1/30\n",
      "1691/1719 [============================>.] - ETA: 0s - loss: 0.6559 - accuracy: 0.7717WARNING:tensorflow:Callbacks method `on_test_batch_end` is slow compared to the batch time (batch time: 0.0000s vs `on_test_batch_end` time: 0.0010s). Check your callbacks.\n",
      "1719/1719 [==============================] - 3s 2ms/step - loss: 0.6534 - accuracy: 0.7726 - val_loss: 0.4961 - val_accuracy: 0.8282\n",
      "Epoch 2/30\n",
      "1719/1719 [==============================] - 3s 2ms/step - loss: 0.5108 - accuracy: 0.8241 - val_loss: 0.4691 - val_accuracy: 0.8446\n",
      "Epoch 3/30\n",
      "1719/1719 [==============================] - 3s 2ms/step - loss: 0.4623 - accuracy: 0.8426 - val_loss: 0.6252 - val_accuracy: 0.8236\n",
      "Epoch 4/30\n",
      "1719/1719 [==============================] - 3s 2ms/step - loss: 0.4405 - accuracy: 0.8494 - val_loss: 0.4229 - val_accuracy: 0.8548\n",
      "Epoch 5/30\n",
      "1719/1719 [==============================] - 3s 2ms/step - loss: 0.4684 - accuracy: 0.8521 - val_loss: 0.3863 - val_accuracy: 0.8750\n",
      "Epoch 6/30\n",
      "1719/1719 [==============================] - 4s 2ms/step - loss: 0.4207 - accuracy: 0.8589 - val_loss: 0.5312 - val_accuracy: 0.8272\n",
      "Epoch 7/30\n",
      "1719/1719 [==============================] - 3s 2ms/step - loss: 0.4578 - accuracy: 0.8561 - val_loss: 0.3902 - val_accuracy: 0.8664\n",
      "Epoch 8/30\n",
      "1719/1719 [==============================] - 4s 2ms/step - loss: 0.4426 - accuracy: 0.8603 - val_loss: 0.5995 - val_accuracy: 0.8476\n",
      "Epoch 9/30\n",
      "1719/1719 [==============================] - 3s 2ms/step - loss: 0.4066 - accuracy: 0.8657 - val_loss: 0.4302 - val_accuracy: 0.8718\n",
      "Epoch 10/30\n",
      "1719/1719 [==============================] - 3s 2ms/step - loss: 0.3993 - accuracy: 0.8667 - val_loss: 0.4710 - val_accuracy: 0.8420\n",
      "Epoch 11/30\n",
      "1719/1719 [==============================] - 3s 2ms/step - loss: 0.3221 - accuracy: 0.8893 - val_loss: 0.3571 - val_accuracy: 0.8844\n",
      "Epoch 12/30\n",
      "1719/1719 [==============================] - 3s 2ms/step - loss: 0.2935 - accuracy: 0.8965 - val_loss: 0.3494 - val_accuracy: 0.8830\n",
      "Epoch 13/30\n",
      "1719/1719 [==============================] - 3s 2ms/step - loss: 0.2832 - accuracy: 0.8992 - val_loss: 0.3544 - val_accuracy: 0.8864\n",
      "Epoch 14/30\n",
      "1719/1719 [==============================] - 4s 2ms/step - loss: 0.2770 - accuracy: 0.9018 - val_loss: 0.3303 - val_accuracy: 0.8896\n",
      "Epoch 15/30\n",
      "1719/1719 [==============================] - 3s 2ms/step - loss: 0.2761 - accuracy: 0.9027 - val_loss: 0.3226 - val_accuracy: 0.8910\n",
      "Epoch 16/30\n",
      "1719/1719 [==============================] - 3s 2ms/step - loss: 0.2676 - accuracy: 0.9038 - val_loss: 0.3257 - val_accuracy: 0.8898\n",
      "Epoch 17/30\n",
      "1719/1719 [==============================] - 3s 2ms/step - loss: 0.2719 - accuracy: 0.9042 - val_loss: 0.3296 - val_accuracy: 0.8880\n",
      "Epoch 18/30\n",
      "1719/1719 [==============================] - 3s 2ms/step - loss: 0.2607 - accuracy: 0.9052 - val_loss: 0.3471 - val_accuracy: 0.8876\n",
      "Epoch 19/30\n",
      "1719/1719 [==============================] - 4s 2ms/step - loss: 0.2585 - accuracy: 0.9063 - val_loss: 0.3612 - val_accuracy: 0.8892\n",
      "Epoch 20/30\n",
      "1719/1719 [==============================] - 3s 2ms/step - loss: 0.2560 - accuracy: 0.9075 - val_loss: 0.3634 - val_accuracy: 0.8884\n",
      "Epoch 21/30\n",
      "1719/1719 [==============================] - 3s 2ms/step - loss: 0.2436 - accuracy: 0.9112 - val_loss: 0.3476 - val_accuracy: 0.8938\n",
      "Epoch 22/30\n",
      "1719/1719 [==============================] - 3s 2ms/step - loss: 0.2416 - accuracy: 0.9124 - val_loss: 0.3525 - val_accuracy: 0.8932\n",
      "Epoch 23/30\n",
      "1719/1719 [==============================] - 3s 2ms/step - loss: 0.2409 - accuracy: 0.9120 - val_loss: 0.3526 - val_accuracy: 0.8946\n",
      "Epoch 24/30\n",
      "1719/1719 [==============================] - 3s 2ms/step - loss: 0.2389 - accuracy: 0.9131 - val_loss: 0.3499 - val_accuracy: 0.8928\n",
      "Epoch 25/30\n",
      "1719/1719 [==============================] - 4s 2ms/step - loss: 0.2380 - accuracy: 0.9131 - val_loss: 0.3542 - val_accuracy: 0.8924\n",
      "Epoch 26/30\n",
      "1719/1719 [==============================] - 3s 2ms/step - loss: 0.2373 - accuracy: 0.9132 - val_loss: 0.3578 - val_accuracy: 0.8920\n",
      "Epoch 27/30\n",
      "1719/1719 [==============================] - 3s 2ms/step - loss: 0.2368 - accuracy: 0.9136 - val_loss: 0.3589 - val_accuracy: 0.8950\n",
      "Epoch 28/30\n",
      "1719/1719 [==============================] - 4s 2ms/step - loss: 0.2349 - accuracy: 0.9141 - val_loss: 0.3582 - val_accuracy: 0.8936\n",
      "Epoch 29/30\n",
      "1719/1719 [==============================] - 4s 2ms/step - loss: 0.2338 - accuracy: 0.9150 - val_loss: 0.3616 - val_accuracy: 0.8916\n",
      "Epoch 30/30\n",
      "1719/1719 [==============================] - 3s 2ms/step - loss: 0.2327 - accuracy: 0.9149 - val_loss: 0.3627 - val_accuracy: 0.8910\n"
     ]
    }
   ],
   "source": [
    "lr_cb=keras.callbacks.LearningRateScheduler(piecewise_constant_scheduling)\n",
    "history=model.fit(X_train,y_train,epochs=30,validation_data=(X_valid,y_valid),\n",
    "                 callbacks=[lr_cb])"
   ]
  },
  {
   "cell_type": "code",
   "execution_count": 22,
   "id": "a7c78c07",
   "metadata": {},
   "outputs": [
    {
     "name": "stdout",
     "output_type": "stream",
     "text": [
      "313/313 [==============================] - 0s 952us/step - loss: 0.4143 - accuracy: 0.8846\n"
     ]
    },
    {
     "data": {
      "text/plain": [
       "[0.41425392031669617, 0.8845999836921692]"
      ]
     },
     "execution_count": 22,
     "metadata": {},
     "output_type": "execute_result"
    },
    {
     "data": {
      "image/png": "[encoded data removed]",
      "text/plain": [
       "<Figure size 576x360 with 1 Axes>"
      ]
     },
     "metadata": {
      "needs_background": "light"
     },
     "output_type": "display_data"
    }
   ],
   "source": [
    "pd.DataFrame(history.history).plot(figsize=(8,5))\n",
    "plt.title(\"Piecewise constant scheduling\")\n",
    "model.evaluate(X_test,y_test)"
   ]
  },
  {
   "cell_type": "code",
   "execution_count": 23,
   "id": "dfb71a0e",
   "metadata": {
    "scrolled": true
   },
   "outputs": [
    {
     "name": "stdout",
     "output_type": "stream",
     "text": [
      "Epoch 1/30\n",
      "1718/1719 [============================>.] - ETA: 0s - loss: 0.4898 - accuracy: 0.8209WARNING:tensorflow:Callbacks method `on_test_batch_end` is slow compared to the batch time (batch time: 0.0000s vs `on_test_batch_end` time: 0.0010s). Check your callbacks.\n",
      "1719/1719 [==============================] - 3s 2ms/step - loss: 0.4898 - accuracy: 0.8209 - val_loss: 0.3853 - val_accuracy: 0.8628\n",
      "Epoch 2/30\n",
      "1719/1719 [==============================] - 3s 2ms/step - loss: 0.3781 - accuracy: 0.8594 - val_loss: 0.3920 - val_accuracy: 0.8578\n",
      "Epoch 3/30\n",
      "1719/1719 [==============================] - 3s 2ms/step - loss: 0.3437 - accuracy: 0.8728 - val_loss: 0.3392 - val_accuracy: 0.8728\n",
      "Epoch 4/30\n",
      "1719/1719 [==============================] - 3s 2ms/step - loss: 0.3213 - accuracy: 0.8795 - val_loss: 0.3217 - val_accuracy: 0.8836\n",
      "Epoch 5/30\n",
      "1719/1719 [==============================] - 3s 2ms/step - loss: 0.3005 - accuracy: 0.8880 - val_loss: 0.3191 - val_accuracy: 0.8868\n",
      "Epoch 6/30\n",
      "1719/1719 [==============================] - 3s 2ms/step - loss: 0.2873 - accuracy: 0.8918 - val_loss: 0.3177 - val_accuracy: 0.8854\n",
      "Epoch 7/30\n",
      "1719/1719 [==============================] - 3s 2ms/step - loss: 0.2754 - accuracy: 0.8961 - val_loss: 0.3135 - val_accuracy: 0.8820\n",
      "Epoch 8/30\n",
      "1719/1719 [==============================] - 3s 2ms/step - loss: 0.2652 - accuracy: 0.9013 - val_loss: 0.3089 - val_accuracy: 0.8900\n",
      "Epoch 9/30\n",
      "1719/1719 [==============================] - 3s 2ms/step - loss: 0.2538 - accuracy: 0.9039 - val_loss: 0.3278 - val_accuracy: 0.8840\n",
      "Epoch 10/30\n",
      "1719/1719 [==============================] - 3s 2ms/step - loss: 0.2442 - accuracy: 0.9081 - val_loss: 0.3421 - val_accuracy: 0.8842\n",
      "Epoch 11/30\n",
      "1719/1719 [==============================] - 3s 2ms/step - loss: 0.2375 - accuracy: 0.9095 - val_loss: 0.3248 - val_accuracy: 0.8898\n",
      "Epoch 12/30\n",
      "1719/1719 [==============================] - 3s 2ms/step - loss: 0.2295 - accuracy: 0.9120 - val_loss: 0.2947 - val_accuracy: 0.8942\n",
      "Epoch 13/30\n",
      "1719/1719 [==============================] - 3s 2ms/step - loss: 0.2218 - accuracy: 0.9159 - val_loss: 0.3282 - val_accuracy: 0.8888\n",
      "Epoch 14/30\n",
      "1719/1719 [==============================] - 3s 2ms/step - loss: 0.2126 - accuracy: 0.9196 - val_loss: 0.3133 - val_accuracy: 0.8950\n",
      "Epoch 15/30\n",
      "1719/1719 [==============================] - 3s 2ms/step - loss: 0.2076 - accuracy: 0.9211 - val_loss: 0.3193 - val_accuracy: 0.8910\n",
      "Epoch 16/30\n",
      "1719/1719 [==============================] - 3s 2ms/step - loss: 0.2028 - accuracy: 0.9227 - val_loss: 0.3371 - val_accuracy: 0.8896\n",
      "Epoch 17/30\n",
      "1719/1719 [==============================] - 3s 2ms/step - loss: 0.1955 - accuracy: 0.9257 - val_loss: 0.3440 - val_accuracy: 0.8904\n",
      "Epoch 18/30\n",
      "1719/1719 [==============================] - 4s 2ms/step - loss: 0.1569 - accuracy: 0.9397 - val_loss: 0.3031 - val_accuracy: 0.9010\n",
      "Epoch 19/30\n",
      "1719/1719 [==============================] - 3s 2ms/step - loss: 0.1477 - accuracy: 0.9429 - val_loss: 0.3253 - val_accuracy: 0.9014\n",
      "Epoch 20/30\n",
      "1719/1719 [==============================] - 3s 2ms/step - loss: 0.1428 - accuracy: 0.9454 - val_loss: 0.3505 - val_accuracy: 0.8936\n",
      "Epoch 21/30\n",
      "1719/1719 [==============================] - 3s 2ms/step - loss: 0.1366 - accuracy: 0.9472 - val_loss: 0.3253 - val_accuracy: 0.8996\n",
      "Epoch 22/30\n",
      "1719/1719 [==============================] - 4s 2ms/step - loss: 0.1294 - accuracy: 0.9502 - val_loss: 0.3424 - val_accuracy: 0.8948\n",
      "Epoch 23/30\n",
      "1719/1719 [==============================] - 3s 2ms/step - loss: 0.1073 - accuracy: 0.9588 - val_loss: 0.3435 - val_accuracy: 0.9030\n",
      "Epoch 24/30\n",
      "1719/1719 [==============================] - 3s 2ms/step - loss: 0.1011 - accuracy: 0.9615 - val_loss: 0.3625 - val_accuracy: 0.8968 0.1005 - accura\n",
      "Epoch 25/30\n",
      "1719/1719 [==============================] - 4s 2ms/step - loss: 0.0968 - accuracy: 0.9629 - val_loss: 0.3631 - val_accuracy: 0.8964\n",
      "Epoch 26/30\n",
      "1719/1719 [==============================] - 3s 2ms/step - loss: 0.0926 - accuracy: 0.9653 - val_loss: 0.3759 - val_accuracy: 0.9008\n",
      "Epoch 27/30\n",
      "1719/1719 [==============================] - 3s 2ms/step - loss: 0.0883 - accuracy: 0.9668 - val_loss: 0.3822 - val_accuracy: 0.9020\n",
      "Epoch 28/30\n",
      "1719/1719 [==============================] - 3s 2ms/step - loss: 0.0758 - accuracy: 0.9726 - val_loss: 0.3872 - val_accuracy: 0.8966\n",
      "Epoch 29/30\n",
      "1719/1719 [==============================] - 3s 2ms/step - loss: 0.0725 - accuracy: 0.9735 - val_loss: 0.4043 - val_accuracy: 0.9006\n",
      "Epoch 30/30\n",
      "1719/1719 [==============================] - 4s 2ms/step - loss: 0.0699 - accuracy: 0.9748 - val_loss: 0.4157 - val_accuracy: 0.9014\n"
     ]
    }
   ],
   "source": [
    "model=keras.models.Sequential([\n",
    "    keras.layers.Flatten(input_shape=[28,28]),\n",
    "    keras.layers.Dense(200,activation=\"selu\",kernel_initializer=\"lecun_normal\"),\n",
    "    keras.layers.Dense(100,activation=\"selu\",kernel_initializer=\"lecun_normal\"),\n",
    "    keras.layers.Dense(50,activation=\"selu\",kernel_initializer=\"lecun_normal\"),\n",
    "    keras.layers.Dense(10,activation=\"softmax\")\n",
    "])\n",
    "\n",
    "model.compile(loss=\"sparse_categorical_crossentropy\", optimizer=\"nadam\", metrics=[\"accuracy\"])\n",
    "\n",
    "lr_scheduler=keras.callbacks.ReduceLROnPlateau(factor=0.5,patience=5)\n",
    "\n",
    "history=model.fit(X_train,y_train,epochs=30,validation_data=(X_valid,y_valid),\n",
    "                 callbacks=[lr_scheduler])"
   ]
  },
  {
   "cell_type": "code",
   "execution_count": 24,
   "id": "a1bf4565",
   "metadata": {},
   "outputs": [
    {
     "name": "stdout",
     "output_type": "stream",
     "text": [
      "313/313 [==============================] - 0s 917us/step - loss: 0.4553 - accuracy: 0.8964\n"
     ]
    },
    {
     "data": {
      "text/plain": [
       "[0.45532166957855225, 0.896399974822998]"
      ]
     },
     "execution_count": 24,
     "metadata": {},
     "output_type": "execute_result"
    },
    {
     "data": {
      "image/png": "[encoded data removed]",
      "text/plain": [
       "<Figure size 576x360 with 1 Axes>"
      ]
     },
     "metadata": {
      "needs_background": "light"
     },
     "output_type": "display_data"
    }
   ],
   "source": [
    "pd.DataFrame(history.history).plot(figsize=(8,5))\n",
    "plt.title(\"Performance scheduling\")\n",
    "model.evaluate(X_test,y_test)"
   ]
  },
  {
   "cell_type": "code",
   "execution_count": 40,
   "id": "591f75ba",
   "metadata": {
    "scrolled": true
   },
   "outputs": [
    {
     "name": "stdout",
     "output_type": "stream",
     "text": [
      "Epoch 1/30\n",
      "1719/1719 [==============================] - 4s 2ms/step - loss: 0.7637 - accuracy: 0.8159 - val_loss: 0.6013 - val_accuracy: 0.8548\n",
      "Epoch 2/30\n",
      "1719/1719 [==============================] - 3s 2ms/step - loss: 0.5848 - accuracy: 0.8429 - val_loss: 0.5293 - val_accuracy: 0.8558\n",
      "Epoch 3/30\n",
      "1719/1719 [==============================] - 3s 2ms/step - loss: 0.5357 - accuracy: 0.8514 - val_loss: 0.5130 - val_accuracy: 0.8564\n",
      "Epoch 4/30\n",
      "1719/1719 [==============================] - 4s 2ms/step - loss: 0.5099 - accuracy: 0.8551 - val_loss: 0.4998 - val_accuracy: 0.8606\n",
      "Epoch 5/30\n",
      "1719/1719 [==============================] - 4s 2ms/step - loss: 0.4965 - accuracy: 0.8594 - val_loss: 0.4847 - val_accuracy: 0.8610\n",
      "Epoch 6/30\n",
      "1719/1719 [==============================] - 3s 2ms/step - loss: 0.4861 - accuracy: 0.8616 - val_loss: 0.4886 - val_accuracy: 0.8614\n",
      "Epoch 7/30\n",
      "1719/1719 [==============================] - 3s 2ms/step - loss: 0.4794 - accuracy: 0.8645 - val_loss: 0.4893 - val_accuracy: 0.8640\n",
      "Epoch 8/30\n",
      "1719/1719 [==============================] - 3s 2ms/step - loss: 0.4740 - accuracy: 0.8650 - val_loss: 0.4746 - val_accuracy: 0.8644\n",
      "Epoch 9/30\n",
      "1719/1719 [==============================] - 3s 2ms/step - loss: 0.4711 - accuracy: 0.8681 - val_loss: 0.4591 - val_accuracy: 0.8724\n",
      "Epoch 10/30\n",
      "1719/1719 [==============================] - 3s 2ms/step - loss: 0.4660 - accuracy: 0.8672 - val_loss: 0.4877 - val_accuracy: 0.8650\n",
      "Epoch 11/30\n",
      "1719/1719 [==============================] - 3s 2ms/step - loss: 0.4657 - accuracy: 0.8682 - val_loss: 0.4563 - val_accuracy: 0.8742\n",
      "Epoch 12/30\n",
      "1719/1719 [==============================] - 3s 2ms/step - loss: 0.4629 - accuracy: 0.8707 - val_loss: 0.4787 - val_accuracy: 0.8642\n",
      "Epoch 13/30\n",
      "1719/1719 [==============================] - 3s 2ms/step - loss: 0.4601 - accuracy: 0.8710 - val_loss: 0.4752 - val_accuracy: 0.8648\n",
      "Epoch 14/30\n",
      "1719/1719 [==============================] - 3s 2ms/step - loss: 0.4601 - accuracy: 0.8713 - val_loss: 0.4761 - val_accuracy: 0.8672\n",
      "Epoch 15/30\n",
      "1719/1719 [==============================] - 3s 2ms/step - loss: 0.4589 - accuracy: 0.8717 - val_loss: 0.5001 - val_accuracy: 0.8562\n",
      "Epoch 16/30\n",
      "1719/1719 [==============================] - 3s 2ms/step - loss: 0.4579 - accuracy: 0.8722 - val_loss: 0.4766 - val_accuracy: 0.8650\n",
      "Epoch 17/30\n",
      "1719/1719 [==============================] - 3s 2ms/step - loss: 0.4294 - accuracy: 0.8805 - val_loss: 0.4463 - val_accuracy: 0.8726\n",
      "Epoch 18/30\n",
      "1719/1719 [==============================] - 3s 2ms/step - loss: 0.4243 - accuracy: 0.8839 - val_loss: 0.4423 - val_accuracy: 0.8782\n",
      "Epoch 19/30\n",
      "1719/1719 [==============================] - 3s 2ms/step - loss: 0.4228 - accuracy: 0.8831 - val_loss: 0.4270 - val_accuracy: 0.8810\n",
      "Epoch 20/30\n",
      "1719/1719 [==============================] - 3s 2ms/step - loss: 0.4198 - accuracy: 0.8839 - val_loss: 0.4452 - val_accuracy: 0.8740\n",
      "Epoch 21/30\n",
      "1719/1719 [==============================] - 3s 2ms/step - loss: 0.4180 - accuracy: 0.8857 - val_loss: 0.4261 - val_accuracy: 0.8822\n",
      "Epoch 22/30\n",
      "1719/1719 [==============================] - 3s 2ms/step - loss: 0.4167 - accuracy: 0.8855 - val_loss: 0.4311 - val_accuracy: 0.8828\n",
      "Epoch 23/30\n",
      "1719/1719 [==============================] - 3s 2ms/step - loss: 0.4166 - accuracy: 0.8866 - val_loss: 0.4320 - val_accuracy: 0.8812\n",
      "Epoch 24/30\n",
      "1719/1719 [==============================] - 3s 2ms/step - loss: 0.4160 - accuracy: 0.8868 - val_loss: 0.4536 - val_accuracy: 0.8716\n",
      "Epoch 25/30\n",
      "1719/1719 [==============================] - 4s 2ms/step - loss: 0.4142 - accuracy: 0.8874 - val_loss: 0.4321 - val_accuracy: 0.8780\n",
      "Epoch 26/30\n",
      "1719/1719 [==============================] - 3s 2ms/step - loss: 0.4138 - accuracy: 0.8871 - val_loss: 0.4409 - val_accuracy: 0.8788\n",
      "Epoch 27/30\n",
      "1719/1719 [==============================] - 3s 2ms/step - loss: 0.3960 - accuracy: 0.8927 - val_loss: 0.4161 - val_accuracy: 0.8864\n",
      "Epoch 28/30\n",
      "1719/1719 [==============================] - 4s 2ms/step - loss: 0.3951 - accuracy: 0.8941 - val_loss: 0.4156 - val_accuracy: 0.8862\n",
      "Epoch 29/30\n",
      "1719/1719 [==============================] - 4s 2ms/step - loss: 0.3936 - accuracy: 0.8949 - val_loss: 0.4134 - val_accuracy: 0.8854\n",
      "Epoch 30/30\n",
      "1719/1719 [==============================] - 4s 2ms/step - loss: 0.3917 - accuracy: 0.8950 - val_loss: 0.4225 - val_accuracy: 0.8864\n"
     ]
    }
   ],
   "source": [
    "from functools import partial\n",
    "#l1 and l2 reg\n",
    "\n",
    "RegularizedDense=partial(keras.layers.Dense,\n",
    "                         activation=\"selu\",\n",
    "                         kernel_initializer=\"lecun_normal\",\n",
    "                         kernel_regularizer=keras.regularizers.l2(0.001))\n",
    "\n",
    "model=keras.models.Sequential([\n",
    "    keras.layers.Flatten(input_shape=[28,28]),\n",
    "    RegularizedDense(200),\n",
    "    RegularizedDense(100),\n",
    "    RegularizedDense(50),\n",
    "    RegularizedDense(10,activation=\"softmax\",kernel_initializer=\"glorot_normal\")\n",
    "])\n",
    "\n",
    "model.compile(loss=\"sparse_categorical_crossentropy\", optimizer=\"nadam\", metrics=[\"accuracy\"])\n",
    "\n",
    "lr_scheduler=keras.callbacks.ReduceLROnPlateau(factor=0.5,patience=5)\n",
    "\n",
    "history=model.fit(X_train,y_train,epochs=30,validation_data=(X_valid,y_valid),\n",
    "                 callbacks=[lr_scheduler])"
   ]
  },
  {
   "cell_type": "code",
   "execution_count": 42,
   "id": "46e2ebdb",
   "metadata": {},
   "outputs": [
    {
     "name": "stdout",
     "output_type": "stream",
     "text": [
      "  1/313 [..............................] - ETA: 0s - loss: 0.4204 - accuracy: 0.8438WARNING:tensorflow:Callbacks method `on_test_batch_end` is slow compared to the batch time (batch time: 0.0000s vs `on_test_batch_end` time: 0.0010s). Check your callbacks.\n",
      "313/313 [==============================] - 0s 1ms/step - loss: 0.4550 - accuracy: 0.8722\n"
     ]
    },
    {
     "data": {
      "text/plain": [
       "[0.4550010859966278, 0.8722000122070312]"
      ]
     },
     "execution_count": 42,
     "metadata": {},
     "output_type": "execute_result"
    },
    {
     "data": {
      "image/png": "[encoded data removed]",
      "text/plain": [
       "<Figure size 576x360 with 1 Axes>"
      ]
     },
     "metadata": {
      "needs_background": "light"
     },
     "output_type": "display_data"
    }
   ],
   "source": [
    "pd.DataFrame(history.history).plot(figsize=(8,5))\n",
    "plt.title(\"l2 0.001\")\n",
    "model.evaluate(X_test,y_test)"
   ]
  },
  {
   "cell_type": "code",
   "execution_count": 43,
   "id": "ad6ed817",
   "metadata": {
    "scrolled": true
   },
   "outputs": [
    {
     "name": "stdout",
     "output_type": "stream",
     "text": [
      "Epoch 1/30\n",
      "1719/1719 [==============================] - 4s 3ms/step - loss: 0.6901 - accuracy: 0.7643 - val_loss: 0.4673 - val_accuracy: 0.8484\n",
      "Epoch 2/30\n",
      "1719/1719 [==============================] - 4s 2ms/step - loss: 0.5501 - accuracy: 0.8164 - val_loss: 0.4562 - val_accuracy: 0.8508\n",
      "Epoch 3/30\n",
      "1719/1719 [==============================] - 4s 2ms/step - loss: 0.5320 - accuracy: 0.8238 - val_loss: 0.4504 - val_accuracy: 0.8606\n",
      "Epoch 4/30\n",
      "1719/1719 [==============================] - 4s 2ms/step - loss: 0.5156 - accuracy: 0.8300 - val_loss: 0.4420 - val_accuracy: 0.8606\n",
      "Epoch 5/30\n",
      "1719/1719 [==============================] - 4s 2ms/step - loss: 0.5083 - accuracy: 0.8369 - val_loss: 0.4450 - val_accuracy: 0.8562\n",
      "Epoch 6/30\n",
      "1719/1719 [==============================] - 4s 2ms/step - loss: 0.5037 - accuracy: 0.8392 - val_loss: 0.4229 - val_accuracy: 0.8652\n",
      "Epoch 7/30\n",
      "1719/1719 [==============================] - 4s 2ms/step - loss: 0.4959 - accuracy: 0.8431 - val_loss: 0.4220 - val_accuracy: 0.8718\n",
      "Epoch 8/30\n",
      "1719/1719 [==============================] - 4s 2ms/step - loss: 0.4957 - accuracy: 0.8437 - val_loss: 0.4236 - val_accuracy: 0.8756\n",
      "Epoch 9/30\n",
      "1719/1719 [==============================] - 4s 2ms/step - loss: 0.4967 - accuracy: 0.8433 - val_loss: 0.4195 - val_accuracy: 0.8726\n",
      "Epoch 10/30\n",
      "1719/1719 [==============================] - 4s 2ms/step - loss: 0.4958 - accuracy: 0.8443 - val_loss: 0.4148 - val_accuracy: 0.8732\n",
      "Epoch 11/30\n",
      "1719/1719 [==============================] - 4s 2ms/step - loss: 0.4897 - accuracy: 0.8471 - val_loss: 0.4249 - val_accuracy: 0.8686\n",
      "Epoch 12/30\n",
      "1719/1719 [==============================] - 4s 2ms/step - loss: 0.4884 - accuracy: 0.8473 - val_loss: 0.4123 - val_accuracy: 0.8778\n",
      "Epoch 13/30\n",
      "1719/1719 [==============================] - 4s 2ms/step - loss: 0.4849 - accuracy: 0.8491 - val_loss: 0.4224 - val_accuracy: 0.8734\n",
      "Epoch 14/30\n",
      "1719/1719 [==============================] - 4s 2ms/step - loss: 0.4833 - accuracy: 0.8499 - val_loss: 0.4303 - val_accuracy: 0.8700\n",
      "Epoch 15/30\n",
      "1719/1719 [==============================] - 4s 2ms/step - loss: 0.4852 - accuracy: 0.8489 - val_loss: 0.4122 - val_accuracy: 0.8730\n",
      "Epoch 16/30\n",
      "1719/1719 [==============================] - 4s 2ms/step - loss: 0.4841 - accuracy: 0.8493 - val_loss: 0.4113 - val_accuracy: 0.8764\n",
      "Epoch 17/30\n",
      "1719/1719 [==============================] - 4s 2ms/step - loss: 0.4846 - accuracy: 0.8488 - val_loss: 0.4125 - val_accuracy: 0.8772\n",
      "Epoch 18/30\n",
      "1719/1719 [==============================] - 4s 2ms/step - loss: 0.4827 - accuracy: 0.8516 - val_loss: 0.4229 - val_accuracy: 0.8772\n",
      "Epoch 19/30\n",
      "1719/1719 [==============================] - 4s 2ms/step - loss: 0.4807 - accuracy: 0.8532 - val_loss: 0.4289 - val_accuracy: 0.8654\n",
      "Epoch 20/30\n",
      "1719/1719 [==============================] - 4s 2ms/step - loss: 0.4830 - accuracy: 0.8509 - val_loss: 0.4190 - val_accuracy: 0.8744\n",
      "Epoch 21/30\n",
      "1719/1719 [==============================] - 4s 2ms/step - loss: 0.4802 - accuracy: 0.8525 - val_loss: 0.4228 - val_accuracy: 0.8740\n",
      "Epoch 22/30\n",
      "1719/1719 [==============================] - 4s 2ms/step - loss: 0.4490 - accuracy: 0.8635 - val_loss: 0.3866 - val_accuracy: 0.8842\n",
      "Epoch 23/30\n",
      "1719/1719 [==============================] - 4s 2ms/step - loss: 0.4434 - accuracy: 0.8629 - val_loss: 0.3863 - val_accuracy: 0.8820\n",
      "Epoch 24/30\n",
      "1719/1719 [==============================] - 4s 2ms/step - loss: 0.4369 - accuracy: 0.8631 - val_loss: 0.3997 - val_accuracy: 0.8742\n",
      "Epoch 25/30\n",
      "1719/1719 [==============================] - 4s 2ms/step - loss: 0.4331 - accuracy: 0.8647 - val_loss: 0.3801 - val_accuracy: 0.8820\n",
      "Epoch 26/30\n",
      "1719/1719 [==============================] - 4s 2ms/step - loss: 0.4320 - accuracy: 0.8643 - val_loss: 0.3742 - val_accuracy: 0.8816\n",
      "Epoch 27/30\n",
      "1719/1719 [==============================] - 4s 2ms/step - loss: 0.4325 - accuracy: 0.8635 - val_loss: 0.3804 - val_accuracy: 0.8814\n",
      "Epoch 28/30\n",
      "1719/1719 [==============================] - 4s 2ms/step - loss: 0.4331 - accuracy: 0.8633 - val_loss: 0.3811 - val_accuracy: 0.8818\n",
      "Epoch 29/30\n",
      "1719/1719 [==============================] - 4s 2ms/step - loss: 0.4276 - accuracy: 0.8647 - val_loss: 0.3744 - val_accuracy: 0.8790\n",
      "Epoch 30/30\n",
      "1719/1719 [==============================] - 4s 2ms/step - loss: 0.4267 - accuracy: 0.8643 - val_loss: 0.3891 - val_accuracy: 0.8776\n"
     ]
    }
   ],
   "source": [
    "model=keras.models.Sequential([\n",
    "    keras.layers.Flatten(input_shape=[28,28]),\n",
    "    keras.layers.Dropout(rate=0.2),\n",
    "    keras.layers.Dense(200,activation=\"selu\",kernel_initializer=\"lecun_normal\",\n",
    "                      kernel_regularizer=keras.regularizers.l2(0.0001)),\n",
    "    keras.layers.Dropout(rate=0.2),\n",
    "    keras.layers.Dense(100,activation=\"selu\",kernel_initializer=\"lecun_normal\",\n",
    "                      kernel_regularizer=keras.regularizers.l2(0.0001)),\n",
    "    keras.layers.Dropout(rate=0.2),\n",
    "    keras.layers.Dense(50,activation=\"selu\",kernel_initializer=\"lecun_normal\",\n",
    "                      kernel_regularizer=keras.regularizers.l2(0.0001)),\n",
    "    keras.layers.Dropout(rate=0.2),\n",
    "    keras.layers.Dense(10,activation=\"softmax\")\n",
    "])\n",
    "\n",
    "model.compile(loss=\"sparse_categorical_crossentropy\", optimizer=\"nadam\", metrics=[\"accuracy\"])\n",
    "\n",
    "lr_scheduler=keras.callbacks.ReduceLROnPlateau(factor=0.5,patience=5)\n",
    "\n",
    "history=model.fit(X_train,y_train,epochs=30,validation_data=(X_valid,y_valid),\n",
    "                 callbacks=[lr_scheduler])"
   ]
  },
  {
   "cell_type": "code",
   "execution_count": 44,
   "id": "e3726823",
   "metadata": {},
   "outputs": [
    {
     "name": "stdout",
     "output_type": "stream",
     "text": [
      "1719/1719 [==============================] - 2s 1ms/step - loss: 0.3655 - accuracy: 0.8868\n",
      "  1/157 [..............................] - ETA: 0s - loss: 0.3178 - accuracy: 0.9375WARNING:tensorflow:Callbacks method `on_test_batch_end` is slow compared to the batch time (batch time: 0.0000s vs `on_test_batch_end` time: 0.0010s). Check your callbacks.\n",
      "157/157 [==============================] - 0s 955us/step - loss: 0.3891 - accuracy: 0.8776\n",
      "313/313 [==============================] - 0s 996us/step - loss: 0.4300 - accuracy: 0.8645\n"
     ]
    },
    {
     "data": {
      "text/plain": [
       "[0.43002474308013916, 0.8644999861717224]"
      ]
     },
     "execution_count": 44,
     "metadata": {},
     "output_type": "execute_result"
    },
    {
     "data": {
      "image/png": "[encoded data removed]",
      "text/plain": [
       "<Figure size 576x360 with 1 Axes>"
      ]
     },
     "metadata": {
      "needs_background": "light"
     },
     "output_type": "display_data"
    }
   ],
   "source": [
    "pd.DataFrame(history.history).plot(figsize=(8,5))\n",
    "plt.title(\"l2 0.0001 dropout 0.2\")\n",
    "model.evaluate(X_train,y_train)\n",
    "model.evaluate(X_valid,y_valid)\n",
    "model.evaluate(X_test,y_test)"
   ]
  },
  {
   "cell_type": "code",
   "execution_count": 45,
   "id": "5d61c018",
   "metadata": {
    "scrolled": true
   },
   "outputs": [
    {
     "name": "stdout",
     "output_type": "stream",
     "text": [
      "Epoch 1/30\n",
      "1719/1719 [==============================] - 5s 3ms/step - loss: 0.7167 - accuracy: 0.7572 - val_loss: 0.6232 - val_accuracy: 0.8440\n",
      "Epoch 2/30\n",
      "1719/1719 [==============================] - 4s 2ms/step - loss: 0.5396 - accuracy: 0.8286 - val_loss: 0.5688 - val_accuracy: 0.8568\n",
      "Epoch 3/30\n",
      "1719/1719 [==============================] - 4s 2ms/step - loss: 0.5128 - accuracy: 0.8397 - val_loss: 0.5167 - val_accuracy: 0.8672\n",
      "Epoch 4/30\n",
      "1719/1719 [==============================] - 4s 2ms/step - loss: 0.4980 - accuracy: 0.8463 - val_loss: 0.5344 - val_accuracy: 0.8716\n",
      "Epoch 5/30\n",
      "1719/1719 [==============================] - 4s 2ms/step - loss: 0.4880 - accuracy: 0.8495 - val_loss: 0.5793 - val_accuracy: 0.8606\n",
      "Epoch 6/30\n",
      "1719/1719 [==============================] - 4s 2ms/step - loss: 0.4795 - accuracy: 0.8553 - val_loss: 0.6206 - val_accuracy: 0.8662\n",
      "Epoch 7/30\n",
      "1719/1719 [==============================] - 4s 2ms/step - loss: 0.4749 - accuracy: 0.8557 - val_loss: 0.6065 - val_accuracy: 0.8712\n",
      "Epoch 8/30\n",
      "1719/1719 [==============================] - 4s 2ms/step - loss: 0.4720 - accuracy: 0.8592 - val_loss: 0.5436 - val_accuracy: 0.8716\n",
      "Epoch 9/30\n",
      "1719/1719 [==============================] - 4s 2ms/step - loss: 0.4410 - accuracy: 0.8690 - val_loss: 0.4940 - val_accuracy: 0.8812\n",
      "Epoch 10/30\n",
      "1719/1719 [==============================] - 4s 2ms/step - loss: 0.4351 - accuracy: 0.8710 - val_loss: 0.5007 - val_accuracy: 0.8836\n",
      "Epoch 11/30\n",
      "1719/1719 [==============================] - 4s 2ms/step - loss: 0.4286 - accuracy: 0.8721 - val_loss: 0.4993 - val_accuracy: 0.8838\n",
      "Epoch 12/30\n",
      "1719/1719 [==============================] - 4s 2ms/step - loss: 0.4280 - accuracy: 0.8728 - val_loss: 0.4907 - val_accuracy: 0.8808\n",
      "Epoch 13/30\n",
      "1719/1719 [==============================] - 4s 2ms/step - loss: 0.4250 - accuracy: 0.8726 - val_loss: 0.5073 - val_accuracy: 0.8832\n",
      "Epoch 14/30\n",
      "1719/1719 [==============================] - 4s 2ms/step - loss: 0.4236 - accuracy: 0.8723 - val_loss: 0.4778 - val_accuracy: 0.8838\n",
      "Epoch 15/30\n",
      "1719/1719 [==============================] - 4s 2ms/step - loss: 0.4243 - accuracy: 0.8735 - val_loss: 0.4911 - val_accuracy: 0.8810\n",
      "Epoch 16/30\n",
      "1719/1719 [==============================] - 4s 2ms/step - loss: 0.4199 - accuracy: 0.8751 - val_loss: 0.5004 - val_accuracy: 0.8810\n",
      "Epoch 17/30\n",
      "1719/1719 [==============================] - 4s 2ms/step - loss: 0.4177 - accuracy: 0.8759 - val_loss: 0.4462 - val_accuracy: 0.8910\n",
      "Epoch 18/30\n",
      "1719/1719 [==============================] - 4s 2ms/step - loss: 0.4167 - accuracy: 0.8760 - val_loss: 0.5182 - val_accuracy: 0.8814\n",
      "Epoch 19/30\n",
      "1719/1719 [==============================] - 4s 2ms/step - loss: 0.4171 - accuracy: 0.8744 - val_loss: 0.5162 - val_accuracy: 0.8866\n",
      "Epoch 20/30\n",
      "1719/1719 [==============================] - 4s 2ms/step - loss: 0.4145 - accuracy: 0.8759 - val_loss: 0.4928 - val_accuracy: 0.8850\n",
      "Epoch 21/30\n",
      "1719/1719 [==============================] - 4s 2ms/step - loss: 0.4145 - accuracy: 0.8767 - val_loss: 0.5090 - val_accuracy: 0.8804\n",
      "Epoch 22/30\n",
      "1719/1719 [==============================] - 4s 2ms/step - loss: 0.4128 - accuracy: 0.8759 - val_loss: 0.4858 - val_accuracy: 0.8822\n",
      "Epoch 23/30\n",
      "1719/1719 [==============================] - 4s 2ms/step - loss: 0.3963 - accuracy: 0.8831 - val_loss: 0.4769 - val_accuracy: 0.8910\n",
      "Epoch 24/30\n",
      "1719/1719 [==============================] - 4s 2ms/step - loss: 0.3932 - accuracy: 0.8832 - val_loss: 0.4635 - val_accuracy: 0.8896\n",
      "Epoch 25/30\n",
      "1719/1719 [==============================] - 4s 2ms/step - loss: 0.3924 - accuracy: 0.8829 - val_loss: 0.4519 - val_accuracy: 0.8900\n",
      "Epoch 26/30\n",
      "1719/1719 [==============================] - 4s 2ms/step - loss: 0.3912 - accuracy: 0.8831 - val_loss: 0.4798 - val_accuracy: 0.8888\n",
      "Epoch 27/30\n",
      "1719/1719 [==============================] - 4s 2ms/step - loss: 0.3901 - accuracy: 0.8835 - val_loss: 0.4542 - val_accuracy: 0.8922\n",
      "Epoch 28/30\n",
      "1719/1719 [==============================] - 4s 2ms/step - loss: 0.3772 - accuracy: 0.8895 - val_loss: 0.4618 - val_accuracy: 0.8920\n",
      "Epoch 29/30\n",
      "1719/1719 [==============================] - 4s 2ms/step - loss: 0.3737 - accuracy: 0.8888 - val_loss: 0.4482 - val_accuracy: 0.8924\n",
      "Epoch 30/30\n",
      "1719/1719 [==============================] - 4s 2ms/step - loss: 0.3751 - accuracy: 0.8885 - val_loss: 0.4556 - val_accuracy: 0.8940\n"
     ]
    }
   ],
   "source": [
    "model=keras.models.Sequential([\n",
    "    keras.layers.Flatten(input_shape=[28,28]),\n",
    "    keras.layers.Dense(200,activation=\"selu\",kernel_initializer=\"lecun_normal\",\n",
    "                      kernel_regularizer=keras.regularizers.l2(0.0001)),\n",
    "    keras.layers.AlphaDropout(rate=0.2),\n",
    "    keras.layers.Dense(100,activation=\"selu\",kernel_initializer=\"lecun_normal\",\n",
    "                      kernel_regularizer=keras.regularizers.l2(0.0001)),\n",
    "    keras.layers.AlphaDropout(rate=0.2),\n",
    "    keras.layers.Dense(50,activation=\"selu\",kernel_initializer=\"lecun_normal\",\n",
    "                      kernel_regularizer=keras.regularizers.l2(0.0001)),\n",
    "    keras.layers.AlphaDropout(rate=0.2),\n",
    "    keras.layers.Dense(10,activation=\"softmax\")\n",
    "])\n",
    "\n",
    "model.compile(loss=\"sparse_categorical_crossentropy\", optimizer=\"nadam\", metrics=[\"accuracy\"])\n",
    "\n",
    "lr_scheduler=keras.callbacks.ReduceLROnPlateau(factor=0.5,patience=5)\n",
    "\n",
    "history=model.fit(X_train,y_train,epochs=30,validation_data=(X_valid,y_valid),\n",
    "                 callbacks=[lr_scheduler])"
   ]
  },
  {
   "cell_type": "code",
   "execution_count": 46,
   "id": "c305b261",
   "metadata": {},
   "outputs": [
    {
     "name": "stdout",
     "output_type": "stream",
     "text": [
      "1719/1719 [==============================] - 2s 1ms/step - loss: 0.3604 - accuracy: 0.9060\n",
      "157/157 [==============================] - 0s 934us/step - loss: 0.4556 - accuracy: 0.8940\n",
      "313/313 [==============================] - 0s 1ms/step - loss: 0.5124 - accuracy: 0.8838\n"
     ]
    },
    {
     "data": {
      "text/plain": [
       "[0.5124369263648987, 0.8838000297546387]"
      ]
     },
     "execution_count": 46,
     "metadata": {},
     "output_type": "execute_result"
    },
    {
     "data": {
      "image/png": "[encoded data removed]",
      "text/plain": [
       "<Figure size 576x360 with 1 Axes>"
      ]
     },
     "metadata": {
      "needs_background": "light"
     },
     "output_type": "display_data"
    }
   ],
   "source": [
    "pd.DataFrame(history.history).plot(figsize=(8,5))\n",
    "plt.title(\"l2 0.0001 dropout 0.2\")\n",
    "model.evaluate(X_train,y_train)\n",
    "model.evaluate(X_valid,y_valid)\n",
    "model.evaluate(X_test,y_test)"
   ]
  },
  {
   "cell_type": "code",
   "execution_count": 47,
   "id": "85dc0a71",
   "metadata": {},
   "outputs": [
    {
     "data": {
      "text/plain": [
       "0.8807"
      ]
     },
     "execution_count": 47,
     "metadata": {},
     "output_type": "execute_result"
    }
   ],
   "source": [
    "y_probas=np.stack([model(X_test,training=True) for sample in range(100)])\n",
    "y_proba=y_probas.mean(axis=0)\n",
    "y_pred = np.argmax(y_proba, axis=1)\n",
    "accuracy=np.sum(y_pred==y_test)/len(y_test)\n",
    "accuracy"
   ]
  },
  {
   "cell_type": "code",
   "execution_count": null,
   "id": "918a034c",
   "metadata": {},
   "outputs": [],
   "source": []
  }
 ],
 "metadata": {
  "kernelspec": {
   "display_name": "Python 3",
   "language": "python",
   "name": "python3"
  },
  "language_info": {
   "codemirror_mode": {
    "name": "ipython",
    "version": 3
   },
   "file_extension": ".py",
   "mimetype": "text/x-python",
   "name": "python",
   "nbconvert_exporter": "python",
   "pygments_lexer": "ipython3",
   "version": "3.7.10"
  }
 },
 "nbformat": 4,
 "nbformat_minor": 5
}
