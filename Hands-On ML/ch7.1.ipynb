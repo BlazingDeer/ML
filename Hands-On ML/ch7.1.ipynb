{
 "cells": [
  {
   "cell_type": "code",
   "execution_count": 31,
   "id": "0f2ffafa",
   "metadata": {},
   "outputs": [],
   "source": [
    "import numpy as np\n",
    "import pandas as pd\n",
    "from matplotlib import pyplot as plt\n",
    "from sklearn.ensemble import RandomForestClassifier,VotingClassifier\n",
    "from sklearn.linear_model import LogisticRegression\n",
    "from sklearn.svm import SVC\n",
    "from sklearn.datasets import make_moons, load_iris\n",
    "from sklearn.model_selection import train_test_split\n",
    "from sklearn.metrics import accuracy_score\n",
    "from sklearn.ensemble import BaggingClassifier, ExtraTreesClassifier\n",
    "from sklearn.tree import DecisionTreeClassifier\n",
    "from sklearn.ensemble import AdaBoostClassifier"
   ]
  },
  {
   "cell_type": "code",
   "execution_count": 19,
   "id": "e2b62d2a",
   "metadata": {},
   "outputs": [
    {
     "name": "stdout",
     "output_type": "stream",
     "text": [
      "LogisticRegression 0.824\n",
      "RandomForestClassifier 0.824\n",
      "SVC 0.864\n",
      "VotingClassifier 0.872\n"
     ]
    }
   ],
   "source": [
    "X,y=make_moons(n_samples=1000,noise=0.4)\n",
    "X_train,X_test,y_train,y_test=train_test_split(X,y,random_state=42)\n",
    "\n",
    "log_reg=LogisticRegression()\n",
    "rnd_clf=RandomForestClassifier()\n",
    "svm_clf=SVC(probability=True)\n",
    "\n",
    "voting_clf=VotingClassifier(\n",
    "    estimators=[(\"lr\",log_reg), (\"rf\",rnd_clf), (\"svc\",svm_clf)],\n",
    "    voting=\"soft\")\n",
    "voting_clf.fit(X_train,y_train)\n",
    "\n",
    "for clf in (log_reg,rnd_clf,svm_clf,voting_clf):\n",
    "    clf.fit(X_train,y_train)\n",
    "    y_pred=clf.predict(X_test)\n",
    "    print(clf.__class__.__name__, accuracy_score(y_test,y_pred))"
   ]
  },
  {
   "cell_type": "code",
   "execution_count": 21,
   "id": "4a9e8fb0",
   "metadata": {},
   "outputs": [
    {
     "name": "stdout",
     "output_type": "stream",
     "text": [
      "0.868\n",
      "0.86\n"
     ]
    }
   ],
   "source": [
    "bag_clf=BaggingClassifier(DecisionTreeClassifier(),\n",
    "                         n_estimators=500,max_samples=100,bootstrap=True,n_jobs=-1,\n",
    "                         oob_score=True)\n",
    "bag_clf.fit(X_train,y_train)\n",
    "y_pred=bag_clf.predict(X_test)\n",
    "print(accuracy_score(y_test,y_pred))\n",
    "print(bag_clf.oob_score_)"
   ]
  },
  {
   "cell_type": "code",
   "execution_count": 22,
   "id": "a3049233",
   "metadata": {},
   "outputs": [
    {
     "data": {
      "text/plain": [
       "array([[0.96803653, 0.03196347],\n",
       "       [0.97453704, 0.02546296],\n",
       "       [0.91990847, 0.08009153],\n",
       "       ...,\n",
       "       [0.06772009, 0.93227991],\n",
       "       [0.25462963, 0.74537037],\n",
       "       [0.80974478, 0.19025522]])"
      ]
     },
     "execution_count": 22,
     "metadata": {},
     "output_type": "execute_result"
    }
   ],
   "source": [
    "bag_clf.oob_decision_function_"
   ]
  },
  {
   "cell_type": "code",
   "execution_count": 23,
   "id": "bb377ea0",
   "metadata": {},
   "outputs": [
    {
     "name": "stdout",
     "output_type": "stream",
     "text": [
      "0.864\n"
     ]
    }
   ],
   "source": [
    "rnd_clf=RandomForestClassifier(n_estimators=500,max_leaf_nodes=16,n_jobs=-1)\n",
    "rnd_clf.fit(X_train,y_train)\n",
    "y_pred_rf=rnd_clf.predict(X_test)\n",
    "print(accuracy_score(y_test,y_pred_rf))"
   ]
  },
  {
   "cell_type": "code",
   "execution_count": 27,
   "id": "7cc00926",
   "metadata": {},
   "outputs": [
    {
     "name": "stdout",
     "output_type": "stream",
     "text": [
      "0.876\n"
     ]
    }
   ],
   "source": [
    "ext_clf=ExtraTreesClassifier(n_estimators=500,max_leaf_nodes=16,n_jobs=-1)\n",
    "ext_clf.fit(X_train,y_train)\n",
    "y_pred_ext=ext_clf.predict(X_test)\n",
    "print(accuracy_score(y_test,y_pred_ext))"
   ]
  },
  {
   "cell_type": "code",
   "execution_count": 29,
   "id": "4cb5f47b",
   "metadata": {},
   "outputs": [
    {
     "name": "stdout",
     "output_type": "stream",
     "text": [
      "sepal length (cm) 0.09934422344957387\n",
      "sepal width (cm) 0.0259621951174956\n",
      "petal length (cm) 0.4251900067595551\n",
      "petal width (cm) 0.44950357467337543\n"
     ]
    }
   ],
   "source": [
    "iris=load_iris()\n",
    "rnd_clf=RandomForestClassifier(n_estimators=500,n_jobs=-1)\n",
    "rnd_clf.fit(iris[\"data\"],iris[\"target\"])\n",
    "for name,score in zip(iris[\"feature_names\"],rnd_clf.feature_importances_):\n",
    "    print(name,score)"
   ]
  },
  {
   "cell_type": "code",
   "execution_count": 37,
   "id": "69ed069a",
   "metadata": {},
   "outputs": [
    {
     "name": "stdout",
     "output_type": "stream",
     "text": [
      "0.856\n"
     ]
    }
   ],
   "source": [
    "ada_clf=AdaBoostClassifier(\n",
    "                        DecisionTreeClassifier(max_depth=1),n_estimators=200,\n",
    "algorithm=\"SAMME.R\",learning_rate=0.15)\n",
    "ada_clf.fit(X_train,y_train)\n",
    "y_pred_ada=ada_clf.predict(X_test)\n",
    "print(accuracy_score(y_test,y_pred_ada))"
   ]
  },
  {
   "cell_type": "code",
   "execution_count": null,
   "id": "9dc3e6e2",
   "metadata": {},
   "outputs": [],
   "source": []
  }
 ],
 "metadata": {
  "kernelspec": {
   "display_name": "Python 3",
   "language": "python",
   "name": "python3"
  },
  "language_info": {
   "codemirror_mode": {
    "name": "ipython",
    "version": 3
   },
   "file_extension": ".py",
   "mimetype": "text/x-python",
   "name": "python",
   "nbconvert_exporter": "python",
   "pygments_lexer": "ipython3",
   "version": "3.7.10"
  }
 },
 "nbformat": 4,
 "nbformat_minor": 5
}
