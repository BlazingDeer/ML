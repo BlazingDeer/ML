{
 "cells": [
  {
   "cell_type": "code",
   "execution_count": 1,
   "metadata": {},
   "outputs": [],
   "source": [
    "import sklearn\n",
    "import pandas as pd\n",
    "import numpy as np\n",
    "import mglearn\n",
    "import matplotlib.pyplot as plt\n",
    "from sklearn.model_selection import train_test_split\n",
    "from sklearn.model_selection import GridSearchCV\n",
    "from sklearn.svm import SVC\n",
    "from sklearn.linear_model import LogisticRegression\n",
    "from sklearn.feature_extraction.text import CountVectorizer\n",
    "from sklearn.feature_extraction.text import TfidfVectorizer\n",
    "from sklearn.pipeline import make_pipeline"
   ]
  },
  {
   "cell_type": "code",
   "execution_count": null,
   "metadata": {
    "scrolled": true
   },
   "outputs": [],
   "source": [
    "from sklearn.datasets import load_files\n",
    "\n",
    "reviews_train=load_files(\"data/aclImdb/train/\")\n",
    "reviews_test=load_files(\"data/aclImdb/test/\")\n",
    "text_train,y_train=reviews_train.data, reviews_train.target\n",
    "text_test,y_test=reviews_test.data, reviews_test.target\n",
    "\n",
    "print(\"type of text_train: {}\".format(type(text_train)))\n",
    "print(\"length of text_train: {}\".format(len(text_train)) )\n",
    "print(\"text_train[1]:\\n{}\".format(text_train[1]))\n",
    "text_train=[doc.replace(b\",<br />\",b\" \") for doc in text_train]"
   ]
  },
  {
   "cell_type": "code",
   "execution_count": 16,
   "metadata": {},
   "outputs": [
    {
     "name": "stdout",
     "output_type": "stream",
     "text": [
      "samples per class (training): [12500 12500]\n"
     ]
    }
   ],
   "source": [
    "print(\"samples per class (training): {}\".format(np.bincount(y_train)))"
   ]
  },
  {
   "cell_type": "code",
   "execution_count": 12,
   "metadata": {},
   "outputs": [
    {
     "name": "stdout",
     "output_type": "stream",
     "text": [
      "Vocabulary size: 13\n",
      "Vocabulary content: {'the': 9, 'fool': 3, 'doth': 2, 'think': 10, 'he': 4, 'is': 6, 'wise': 12, 'but': 1, 'man': 8, 'knows': 7, 'himself': 5, 'to': 11, 'be': 0}\n",
      "bag_of_words: <2x13 sparse matrix of type '<class 'numpy.int64'>'\n",
      "\twith 16 stored elements in Compressed Sparse Row format>\n"
     ]
    }
   ],
   "source": [
    "\n",
    "bards_words=[\"The fool doth think he is wise,\",\n",
    " \"but the wise man knows himself to be a fool\"]\n",
    "\n",
    "vect=CountVectorizer()\n",
    "vect.fit(bards_words)\n",
    "\n",
    "print(\"Vocabulary size: {}\".format(len(vect.vocabulary_)))\n",
    "print(\"Vocabulary content: {}\".format(vect.vocabulary_))\n",
    "\n",
    "bag_of_words=vect.transform(bards_words)\n",
    "print(\"bag_of_words: {}\".format(repr(bag_of_words)))"
   ]
  },
  {
   "cell_type": "code",
   "execution_count": 20,
   "metadata": {},
   "outputs": [
    {
     "name": "stdout",
     "output_type": "stream",
     "text": [
      "Dense representation of bag_of_words: \n",
      "[[0 0 1 1 1 0 1 0 0 1 1 0 1]\n",
      " [1 1 0 1 0 1 0 1 1 1 0 1 1]]\n"
     ]
    }
   ],
   "source": [
    "print(\"Dense representation of bag_of_words: \\n{}\".format(bag_of_words.toarray()))"
   ]
  },
  {
   "cell_type": "code",
   "execution_count": 5,
   "metadata": {},
   "outputs": [
    {
     "name": "stdout",
     "output_type": "stream",
     "text": [
      "X_train:\n",
      "<25000x74849 sparse matrix of type '<class 'numpy.int64'>'\n",
      "\twith 3445861 stored elements in Compressed Sparse Row format>\n"
     ]
    }
   ],
   "source": [
    "vect=CountVectorizer().fit(text_train)\n",
    "X_train=vect.transform(text_train)\n",
    "print(\"X_train:\\n{}\".format(repr(X_train)))"
   ]
  },
  {
   "cell_type": "code",
   "execution_count": 23,
   "metadata": {},
   "outputs": [
    {
     "name": "stdout",
     "output_type": "stream",
     "text": [
      "Number of features:74849\n",
      "\n",
      "First 20 features: ['00', '000', '0000000000001', '00001', '00015', '000s', '001', '003830', '006', '007', '0079', '0080', '0083', '0093638', '00am', '00pm', '00s', '01', '01pm', '02']\n",
      "\n",
      "features 20010 to 20030:\n",
      "['dratted', 'draub', 'draught', 'draughts', 'draughtswoman', 'draw', 'drawback', 'drawbacks', 'drawer', 'drawers', 'drawing', 'drawings', 'drawl', 'drawled', 'drawling', 'drawn', 'draws', 'draza', 'dre', 'drea']\n",
      "\n",
      "Every 2000th feature:\n",
      "['00', 'aesir', 'aquarian', 'barking', 'blustering', 'bête', 'chicanery', 'condensing', 'cunning', 'detox', 'draper', 'enshrined', 'favorit', 'freezer', 'goldman', 'hasan', 'huitieme', 'intelligible', 'kantrowitz', 'lawful', 'maars', 'megalunged', 'mostey', 'norrland', 'padilla', 'pincher', 'promisingly', 'receptionist', 'rivals', 'schnaas', 'shunning', 'sparse', 'subset', 'temptations', 'treatises', 'unproven', 'walkman', 'xylophonist']\n"
     ]
    }
   ],
   "source": [
    "feature_names=vect.get_feature_names()\n",
    "print(\"Number of features:{}\".format(len(feature_names)))\n",
    "print(\"\\nFirst 20 features: {}\".format(feature_names[:20]))\n",
    "print(\"\\nfeatures 20010 to 20030:\\n{}\".format(feature_names[20010:20030]))\n",
    "print(\"\\nEvery 2000th feature:\\n{}\".format(feature_names[::2000]))"
   ]
  },
  {
   "cell_type": "code",
   "execution_count": 25,
   "metadata": {},
   "outputs": [
    {
     "name": "stdout",
     "output_type": "stream",
     "text": [
      "Mean cross-val accuracy: 0.88\n"
     ]
    }
   ],
   "source": [
    "scores=cross_val_score(LogisticRegression(),X_train,y_train,cv=5,n_jobs=-1)\n",
    "print(\"Mean cross-val accuracy: {:.2f}\".format(np.mean(scores)))"
   ]
  },
  {
   "cell_type": "code",
   "execution_count": 28,
   "metadata": {},
   "outputs": [
    {
     "name": "stdout",
     "output_type": "stream",
     "text": [
      "Best cross-val score: 0.89\n",
      "Best parameters: {'C': 0.1}\n"
     ]
    }
   ],
   "source": [
    "param_grid={'C':[0.001,0.01,0.1,1,10]}\n",
    "grid=GridSearchCV(LogisticRegression(max_iter=10000),param_grid=param_grid,cv=5,n_jobs=-1)\n",
    "grid.fit(X_train,y_train)\n",
    "print(\"Best cross-val score: {:.2f}\".format(grid.best_score_))\n",
    "print(\"Best parameters: {}\".format(grid.best_params_))"
   ]
  },
  {
   "cell_type": "code",
   "execution_count": 30,
   "metadata": {},
   "outputs": [
    {
     "name": "stdout",
     "output_type": "stream",
     "text": [
      "0.88\n"
     ]
    }
   ],
   "source": [
    "X_test=vect.transform(text_test)\n",
    "print(\"{:.2f}\".format(grid.score(X_test,y_test)))"
   ]
  },
  {
   "cell_type": "code",
   "execution_count": 31,
   "metadata": {},
   "outputs": [
    {
     "name": "stdout",
     "output_type": "stream",
     "text": [
      "X_train with min_df: <25000x27272 sparse matrix of type '<class 'numpy.int64'>'\n",
      "\twith 3368680 stored elements in Compressed Sparse Row format>\n"
     ]
    }
   ],
   "source": [
    "vect=CountVectorizer(min_df=5).fit(text_train)\n",
    "X_train=vect.transform(text_train)\n",
    "print(\"X_train with min_df: {}\".format(repr(X_train)))"
   ]
  },
  {
   "cell_type": "code",
   "execution_count": 32,
   "metadata": {},
   "outputs": [
    {
     "name": "stdout",
     "output_type": "stream",
     "text": [
      "Number of features:27272\n",
      "\n",
      "First 20 features: ['00', '000', '007', '00s', '01', '02', '03', '04', '05', '06', '07', '08', '09', '10', '100', '1000', '100th', '101', '102', '103']\n",
      "\n",
      "features 20010 to 20030:\n",
      "['repent', 'repentance', 'repercussions', 'repertoire', 'repetition', 'repetitions', 'repetitious', 'repetitive', 'rephrase', 'replace', 'replaced', 'replacement', 'replaces', 'replacing', 'replay', 'replayable', 'replayed', 'replaying', 'replays', 'replete']\n",
      "\n",
      "Every 700th feature:\n",
      "['00', 'affections', 'appropriately', 'barbra', 'blurbs', 'butcher', 'cheery', 'commit', 'courtroom', 'deconstruct', 'disgraced', 'dvd', 'escapist', 'felix', 'freeze', 'gorier', 'haunts', 'hungarian', 'insincere', 'juggernaut', 'leer', 'mae', 'messes', 'mushy', 'occasion', 'parker', 'pleasantly', 'pronto', 'recipe', 'reviewing', 'saruman', 'she', 'sneering', 'stefano', 'swashbuckling', 'thrust', 'tvm', 'vampirism', 'westernized']\n"
     ]
    }
   ],
   "source": [
    "feature_names=vect.get_feature_names()\n",
    "print(\"Number of features:{}\".format(len(feature_names)))\n",
    "print(\"\\nFirst 20 features: {}\".format(feature_names[:20]))\n",
    "print(\"\\nfeatures 20010 to 20030:\\n{}\".format(feature_names[20010:20030]))\n",
    "print(\"\\nEvery 700th feature:\\n{}\".format(feature_names[::700]))"
   ]
  },
  {
   "cell_type": "code",
   "execution_count": 34,
   "metadata": {},
   "outputs": [
    {
     "name": "stdout",
     "output_type": "stream",
     "text": [
      "Best cross-val score: 0.8882\n"
     ]
    }
   ],
   "source": [
    "grid=GridSearchCV(LogisticRegression(max_iter=10000),param_grid=param_grid,cv=5,n_jobs=-1)\n",
    "grid.fit(X_train,y_train)\n",
    "print(\"Best cross-val score: {}\".format(grid.best_score_))"
   ]
  },
  {
   "cell_type": "code",
   "execution_count": 36,
   "metadata": {},
   "outputs": [
    {
     "name": "stdout",
     "output_type": "stream",
     "text": [
      "Number of stop words: 318\n",
      "Every 10th stopword:\n",
      "['fill', 'hasnt', 'whole', 'seeming', 'herself', 'whence', 'fifty', 'meanwhile', 'after', 'nevertheless', 'elsewhere', 'below', 'such', 'find', 'again', 'next', 'someone', 'please', 'than', 'with', 'call', 'done', 'would', 'describe', 'itself', 'un', 'you', 'hereupon', 'thereafter', 'other', 'former', 'twelve']\n"
     ]
    }
   ],
   "source": [
    "from sklearn.feature_extraction.text import ENGLISH_STOP_WORDS\n",
    "print(\"Number of stop words: {}\".format(len(ENGLISH_STOP_WORDS)))\n",
    "print(\"Every 10th stopword:\\n{}\".format(list(ENGLISH_STOP_WORDS)[::10]))"
   ]
  },
  {
   "cell_type": "code",
   "execution_count": 37,
   "metadata": {},
   "outputs": [
    {
     "name": "stdout",
     "output_type": "stream",
     "text": [
      "X_train with stop words:\n",
      "<25000x26967 sparse matrix of type '<class 'numpy.int64'>'\n",
      "\twith 2164624 stored elements in Compressed Sparse Row format>\n"
     ]
    }
   ],
   "source": [
    "vect=CountVectorizer(min_df=5,stop_words=\"english\").fit(text_train)\n",
    "X_train=vect.transform(text_train)\n",
    "print(\"X_train with stop words:\\n{}\".format(repr(X_train)))"
   ]
  },
  {
   "cell_type": "code",
   "execution_count": 38,
   "metadata": {},
   "outputs": [
    {
     "name": "stdout",
     "output_type": "stream",
     "text": [
      "Best cross-val score: 0.88\n"
     ]
    }
   ],
   "source": [
    "grid=GridSearchCV(LogisticRegression(max_iter=10000),param_grid=param_grid,cv=5,n_jobs=-1)\n",
    "grid.fit(X_train,y_train)\n",
    "print(\"Best cross-val score: {:.2f}\".format(grid.best_score_))"
   ]
  },
  {
   "cell_type": "code",
   "execution_count": 39,
   "metadata": {},
   "outputs": [
    {
     "name": "stdout",
     "output_type": "stream",
     "text": [
      "train scores: \n",
      "[0.8880800000000001, 0.8881600000000001, 0.8882, 0.8872, 0.8871600000000001, 0.8866399999999999, 0.88628, 0.88628, 0.88512, 0.8828000000000001, 0.8826, 0.88164, 0.8794400000000001]\n",
      "\n",
      "test scores: \n",
      "[0.87908, 0.87864, 0.8784, 0.87828, 0.87812, 0.87812, 0.87776, 0.87708, 0.87736, 0.87668, 0.87704, 0.87704, 0.87636]\n"
     ]
    }
   ],
   "source": [
    "from sklearn.pipeline import make_pipeline\n",
    "scores_train=[]\n",
    "scores_test=[]\n",
    "\n",
    "for min_df in [1,3,5,7,9,11,13,15,20,30,40,50,70]:\n",
    "    vect=CountVectorizer(min_df=min_df).fit(text_train)\n",
    "    X_train=vect.transform(text_train)\n",
    "    X_test=vect.transform(text_test)\n",
    "    grid=GridSearchCV(LogisticRegression(max_iter=10000),param_grid=param_grid,cv=5,n_jobs=-1)\n",
    "    grid.fit(X_train,y_train)\n",
    "    scores_train.append(grid.best_score_)\n",
    "    scores_test.append(grid.score(X_test,y_test))\n",
    "\n",
    "print(\"train scores: \\n{}\".format(scores_train))\n",
    "print(\"\\ntest scores: \\n{}\".format(scores_test))"
   ]
  },
  {
   "cell_type": "code",
   "execution_count": 6,
   "metadata": {},
   "outputs": [
    {
     "name": "stdout",
     "output_type": "stream",
     "text": [
      "Best cross-val score: 0.89\n"
     ]
    }
   ],
   "source": [
    "pipe=make_pipeline(TfidfVectorizer(min_df=5,norm=None),\n",
    "                  LogisticRegression(max_iter=10000))\n",
    "param_grid={'logisticregression__C': [0.001,0.01,0.1,1,10]}\n",
    "grid=GridSearchCV(pipe,param_grid=param_grid,cv=5,n_jobs=-1)\n",
    "grid.fit(text_train,y_train)\n",
    "print(\"Best cross-val score: {:.2f}\".format(grid.best_score_))\n"
   ]
  },
  {
   "cell_type": "code",
   "execution_count": 8,
   "metadata": {},
   "outputs": [
    {
     "name": "stdout",
     "output_type": "stream",
     "text": [
      "Features with lowest tfidf:\n",
      "['poignant' 'disagree' 'instantly' 'importantly' 'lacked' 'occurred'\n",
      " 'currently' 'altogether' 'nearby' 'undoubtedly' 'directs' 'fond'\n",
      " 'stinker' 'avoided' 'emphasis' 'commented' 'disappoint' 'realizing'\n",
      " 'downhill' 'inane']\n",
      "Features with highest tfidf:\n",
      "['coop' 'homer' 'dillinger' 'hackenstein' 'gadget' 'taker' 'macarthur'\n",
      " 'vargas' 'jesse' 'basket' 'dominick' 'the' 'victor' 'bridget' 'victoria'\n",
      " 'khouri' 'zizek' 'rob' 'timon' 'titanic']\n"
     ]
    }
   ],
   "source": [
    "vectorizer=grid.best_estimator_.named_steps[\"tfidfvectorizer\"]\n",
    "X_train=vectorizer.transform(text_train)\n",
    "\n",
    "max_value=X_train.max(axis=0).toarray().ravel()\n",
    "sorted_by_tfidf=max_value.argsort()\n",
    "\n",
    "feature_names=np.array(vectorizer.get_feature_names())\n",
    "\n",
    "print(\"Features with lowest tfidf:\\n{}\".format(feature_names[sorted_by_tfidf[:20]]))\n",
    "print(\"Features with highest tfidf:\\n{}\".format(feature_names[sorted_by_tfidf[-20:]]))"
   ]
  },
  {
   "cell_type": "code",
   "execution_count": 9,
   "metadata": {},
   "outputs": [
    {
     "name": "stdout",
     "output_type": "stream",
     "text": [
      "features with lowest idf:\n",
      "['the' 'and' 'of' 'to' 'this' 'is' 'it' 'in' 'that' 'but' 'for' 'with'\n",
      " 'was' 'as' 'on' 'movie' 'not' 'br' 'have' 'one' 'be' 'film' 'are' 'you'\n",
      " 'all' 'at' 'an' 'by' 'so' 'from' 'like' 'who' 'they' 'there' 'if' 'his'\n",
      " 'out' 'just' 'about' 'he' 'or' 'has' 'what' 'some' 'good' 'can' 'more'\n",
      " 'when' 'time' 'up' 'very' 'even' 'only' 'no' 'would' 'my' 'see' 'really'\n",
      " 'story' 'which' 'well' 'had' 'me' 'than' 'much' 'their' 'get' 'were'\n",
      " 'other' 'been' 'do' 'most' 'don' 'her' 'also' 'into' 'first' 'made' 'how'\n",
      " 'great' 'because' 'will' 'people' 'make' 'way' 'could' 'we' 'bad' 'after'\n",
      " 'any' 'too' 'then' 'them' 'she' 'watch' 'think' 'acting' 'movies' 'seen'\n",
      " 'its']\n"
     ]
    }
   ],
   "source": [
    "sorted_by_idf=np.argsort(vectorizer.idf_)\n",
    "print(\"features with lowest idf:\\n{}\".format(feature_names[sorted_by_idf[:100]]))"
   ]
  },
  {
   "cell_type": "code",
   "execution_count": 10,
   "metadata": {},
   "outputs": [
    {
     "data": {
      "image/png": "[encoded data removed]",
      "text/plain": [
       "<Figure size 1080x360 with 1 Axes>"
      ]
     },
     "metadata": {
      "needs_background": "light"
     },
     "output_type": "display_data"
    }
   ],
   "source": [
    "mglearn.tools.visualize_coefficients(grid.best_estimator_.named_steps[\"logisticregression\"].coef_,\n",
    "                                    feature_names,n_top_features=40)"
   ]
  },
  {
   "cell_type": "code",
   "execution_count": 11,
   "metadata": {},
   "outputs": [
    {
     "data": {
      "text/plain": [
       "array([20.15985557, 34.37105041, 16.70816476,  9.18076095, 23.72338583,\n",
       "       16.58691552, 18.66982327, 28.0047349 , 16.97522755, 16.97522755,\n",
       "        8.56172175,  8.64176445,  8.92944653, 44.98014071, 56.40507995,\n",
       "       14.68496294,  9.18076095, 14.46970161, 25.25586271, 18.66982327])"
      ]
     },
     "execution_count": 11,
     "metadata": {},
     "output_type": "execute_result"
    }
   ],
   "source": [
    "max_value[:20]"
   ]
  },
  {
   "cell_type": "code",
   "execution_count": 13,
   "metadata": {},
   "outputs": [
    {
     "name": "stdout",
     "output_type": "stream",
     "text": [
      "Vocabulary size: 13\n",
      "Vocabulary:\n",
      "['be', 'but', 'doth', 'fool', 'he', 'himself', 'is', 'knows', 'man', 'the', 'think', 'to', 'wise']\n"
     ]
    }
   ],
   "source": [
    "cv=CountVectorizer(ngram_range=(1,1)).fit(bards_words)\n",
    "print(\"Vocabulary size: {}\".format(len(cv.vocabulary_)))\n",
    "print(\"Vocabulary:\\n{}\".format(cv.get_feature_names()))"
   ]
  },
  {
   "cell_type": "code",
   "execution_count": 14,
   "metadata": {},
   "outputs": [
    {
     "data": {
      "text/plain": [
       "{'the': 9,\n",
       " 'fool': 3,\n",
       " 'doth': 2,\n",
       " 'think': 10,\n",
       " 'he': 4,\n",
       " 'is': 6,\n",
       " 'wise': 12,\n",
       " 'but': 1,\n",
       " 'man': 8,\n",
       " 'knows': 7,\n",
       " 'himself': 5,\n",
       " 'to': 11,\n",
       " 'be': 0}"
      ]
     },
     "execution_count": 14,
     "metadata": {},
     "output_type": "execute_result"
    }
   ],
   "source": []
  },
  {
   "cell_type": "code",
   "execution_count": 16,
   "metadata": {},
   "outputs": [
    {
     "name": "stdout",
     "output_type": "stream",
     "text": [
      "Vocabulary size: 14\n",
      "Vocabulary:\n",
      "['be fool', 'but the', 'doth think', 'fool doth', 'he is', 'himself to', 'is wise', 'knows himself', 'man knows', 'the fool', 'the wise', 'think he', 'to be', 'wise man']\n",
      "\n",
      "Transformed data (dense):\n",
      "[[0 0 1 1 1 0 1 0 0 1 0 1 0 0]\n",
      " [1 1 0 0 0 1 0 1 1 0 1 0 1 1]]\n"
     ]
    }
   ],
   "source": [
    "cv=CountVectorizer(ngram_range=(2,2)).fit(bards_words)\n",
    "print(\"Vocabulary size: {}\".format(len(cv.vocabulary_)))\n",
    "print(\"Vocabulary:\\n{}\".format(cv.get_feature_names()))\n",
    "print(\"\\nTransformed data (dense):\\n{}\".format(cv.transform(bards_words).toarray()))"
   ]
  },
  {
   "cell_type": "code",
   "execution_count": 18,
   "metadata": {},
   "outputs": [
    {
     "name": "stdout",
     "output_type": "stream",
     "text": [
      "Vocabulary size: 39\n",
      "Vocabulary:\n",
      "['be', 'be fool', 'but', 'but the', 'but the wise', 'doth', 'doth think', 'doth think he', 'fool', 'fool doth', 'fool doth think', 'he', 'he is', 'he is wise', 'himself', 'himself to', 'himself to be', 'is', 'is wise', 'knows', 'knows himself', 'knows himself to', 'man', 'man knows', 'man knows himself', 'the', 'the fool', 'the fool doth', 'the wise', 'the wise man', 'think', 'think he', 'think he is', 'to', 'to be', 'to be fool', 'wise', 'wise man', 'wise man knows']\n"
     ]
    }
   ],
   "source": [
    "cv=CountVectorizer(ngram_range=(1,3)).fit(bards_words)\n",
    "print(\"Vocabulary size: {}\".format(len(cv.vocabulary_)))\n",
    "print(\"Vocabulary:\\n{}\".format(cv.get_feature_names()))"
   ]
  },
  {
   "cell_type": "code",
   "execution_count": 21,
   "metadata": {},
   "outputs": [
    {
     "name": "stdout",
     "output_type": "stream",
     "text": [
      "Best cross-val score: 0.91\n",
      "Best params: \n",
      "{'tfidfvectorizer__ngram_range': (1, 3)}\n"
     ]
    }
   ],
   "source": [
    "pipe=make_pipeline(TfidfVectorizer(min_df=5),LogisticRegression(max_iter=10000,C=100))\n",
    "\n",
    "param_grid={\"tfidfvectorizer__ngram_range\":[(1,1),(1,2),(1,3)]}\n",
    "\n",
    "grid=GridSearchCV(pipe,param_grid=param_grid,cv=5,n_jobs=-1)\n",
    "grid.fit(text_train,y_train)\n",
    "print(\"Best cross-val score: {:.2f}\".format(grid.best_score_))\n",
    "print(\"Best params: \\n{}\".format(grid.best_params_))\n"
   ]
  },
  {
   "cell_type": "code",
   "execution_count": 22,
   "metadata": {},
   "outputs": [
    {
     "data": {
      "text/plain": [
       "array([0.88264, 0.90632, 0.90652])"
      ]
     },
     "execution_count": 22,
     "metadata": {},
     "output_type": "execute_result"
    }
   ],
   "source": [
    "scores=grid.cv_results_[\"mean_test_score\"]\n",
    "scores\n"
   ]
  },
  {
   "cell_type": "code",
   "execution_count": 23,
   "metadata": {},
   "outputs": [
    {
     "data": {
      "image/png": "[encoded data removed]",
      "text/plain": [
       "<Figure size 1080x360 with 1 Axes>"
      ]
     },
     "metadata": {
      "needs_background": "light"
     },
     "output_type": "display_data"
    }
   ],
   "source": [
    "vect=grid.best_estimator_.named_steps[\"tfidfvectorizer\"]\n",
    "feature_names=np.array(vect.get_feature_names())\n",
    "coef=grid.best_estimator_.named_steps[\"logisticregression\"].coef_\n",
    "mglearn.tools.visualize_coefficients(coef,feature_names,n_top_features=40)"
   ]
  },
  {
   "cell_type": "code",
   "execution_count": 5,
   "metadata": {},
   "outputs": [
    {
     "name": "stdout",
     "output_type": "stream",
     "text": [
      "Lemmatization:\n",
      "['our', 'meeting', 'today', 'be', 'bad', 'than', 'yesterday', ',', 'I', 'be', 'scared', 'of', 'meet', 'the', 'client', 'tomorrow', '.']\n",
      "Stemming:\n",
      "['our', 'meet', 'today', 'wa', 'wors', 'than', 'yesterday', ',', 'i', 'am', 'scare', 'of', 'meet', 'the', 'client', 'tomorrow', '.']\n"
     ]
    }
   ],
   "source": [
    "import spacy\n",
    "import nltk\n",
    "activated=spacy.prefer_gpu()\n",
    "print(\"Activated: {}\".format(activated))\n",
    "\n",
    "en_nlp=spacy.load('en_core_web_sm')\n",
    "stemmer = nltk.stem.PorterStemmer()\n",
    "\n",
    "def compare_normalization(doc):\n",
    "    doc_spacy=en_nlp(doc)\n",
    "    \n",
    "    print(\"Lemmatization:\")\n",
    "    print([token.lemma_ for token in doc_spacy])\n",
    "    print(\"Stemming:\")\n",
    "    print([stemmer.stem(token.norm_.lower()) for token in doc_spacy])\n",
    "    \n",
    "compare_normalization(u\"Our meeting today was worse than yesterday, I'm scared of meeting the clients tomorrow.\")"
   ]
  },
  {
   "cell_type": "code",
   "execution_count": null,
   "metadata": {},
   "outputs": [],
   "source": [
    "import re\n",
    "\n",
    "regexp =re.compile('(?u)\\\\b\\\\w\\\\w+\\\\b')\n",
    "en_nlp=spacy.load('en_core_web_sm')\n",
    "old_tokenizer=en_nlp.tokenizer\n",
    "en_nlp.tokenizer=lambda string: old_tokenizer.tokens_from_list(regexp.findall(string))\n",
    "\n",
    "def custom_tokenizer(document):\n",
    "    doc_spacy=en_nlp(document,entity=False,parse=False)\n",
    "    return [token.lemma_ for token in doc_spacy]\n",
    "\n",
    "lemma_vect=CountTokenizer(tokenizer=custom_tokenizer,min_df=5)"
   ]
  },
  {
   "cell_type": "code",
   "execution_count": null,
   "metadata": {},
   "outputs": [],
   "source": [
    "X_train_lemma=lemma_vect.fit_transform(text_train)\n",
    "print(\"X_train_lemma.shape: {}\".format(X_train_lemma.shape))\n",
    "\n",
    "vect=CountTokenizer(min_df=5).fit(text_train)\n",
    "X_train=vect.transform(text_train)\n",
    "print(\"X_train.shape: {}\".format(X_train.shape))"
   ]
  }
 ],
 "metadata": {
  "kernelspec": {
   "display_name": "Python 3",
   "language": "python",
   "name": "python3"
  },
  "language_info": {
   "codemirror_mode": {
    "name": "ipython",
    "version": 3
   },
   "file_extension": ".py",
   "mimetype": "text/x-python",
   "name": "python",
   "nbconvert_exporter": "python",
   "pygments_lexer": "ipython3",
   "version": "3.7.9"
  }
 },
 "nbformat": 4,
 "nbformat_minor": 4
}
